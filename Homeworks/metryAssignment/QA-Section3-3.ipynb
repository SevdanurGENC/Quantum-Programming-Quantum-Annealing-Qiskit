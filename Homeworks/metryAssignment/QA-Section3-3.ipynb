{
 "cells": [
  {
   "cell_type": "markdown",
   "id": "educational-petersburg",
   "metadata": {},
   "source": [
    "# Instructions\n",
    "\n",
    "The places where you have enter code, to answer the questions, are marked with `# YOUR CODE HERE`.\n"
   ]
  },
  {
   "cell_type": "markdown",
   "id": "fedb9ec3",
   "metadata": {},
   "source": [
    "## Question 1 (4 points)\n",
    "\n",
    "Suppose that we would like to minimize $f(x_1,x_2,x_3)=-5x_1-2x_1x_2 -3x_3$ which is subjected to the constraint $x_1+ x_2 + x_3 = 1$. \n",
    "\n",
    "Complete the function `constrained_bqm` so that it returns the corresponding BQM. Lagrange multiplier should be provided as a parameter.\n",
    "\n",
    "Note: Name your variables in the format `x_i` and use BQM functionalities to incorporate the constraint.\n",
    "\n",
    "The function `constrained_bqm` has\n",
    "\n",
    "- Input: A float representing the Lagrange multiplier\n",
    "- Returns:  A BQM instance\n"
   ]
  },
  {
   "cell_type": "code",
   "execution_count": 3,
   "id": "c85981ea",
   "metadata": {
    "deletable": false,
    "nbgrader": {
     "cell_type": "code",
     "checksum": "380bbb4957e68678d0dbbcbcd91d2ecb",
     "grade": false,
     "grade_id": "cell-76ce560ae094fde4",
     "locked": false,
     "schema_version": 3,
     "solution": true
    }
   },
   "outputs": [],
   "source": [
    "from dimod import BQM  \n",
    "\n",
    "bqm = BQM('BINARY')\n",
    "def constrained_bqm(L):\n",
    "    # YOUR CODE HERE\n",
    "    \n",
    "    P=0\n",
    "    \n",
    "    bqm.set_linear('x1', -5-P)\n",
    "    bqm.set_linear('x2', -P)\n",
    "    bqm.set_linear('x3', -3-P)\n",
    "    bqm.set_quadratic('x1', 'x2', -2 + 2*P)\n",
    "    bqm.set_quadratic('x2', 'x3', 2*P)\n",
    "    bqm.set_quadratic('x1', 'x3', 2*P)\n",
    "\n",
    "    c1 = [('x1', 1), ('x2', 1), ('x3', 1)]\n",
    " \n",
    "     \n",
    "    bqm.add_linear_equality_constraint(c1, constant= -1, lagrange_multiplier=L)\n",
    "    # Do not modify anything below this line\n",
    "    return bqm"
   ]
  },
  {
   "cell_type": "code",
   "execution_count": 4,
   "id": "87c8da35",
   "metadata": {},
   "outputs": [
    {
     "name": "stdout",
     "output_type": "stream",
     "text": [
      "BinaryQuadraticModel({'x1': -7.0, 'x2': -2.0, 'x3': -5.0}, {('x2', 'x1'): 2.0, ('x3', 'x1'): 4.0, ('x3', 'x2'): 4.0}, 2.0, 'BINARY')\n"
     ]
    }
   ],
   "source": [
    "# You can use this cell to call and check the output of the function\n",
    "\n",
    "print(constrained_bqm(2)) "
   ]
  },
  {
   "cell_type": "code",
   "execution_count": null,
   "id": "495b98e9",
   "metadata": {
    "deletable": false,
    "editable": false,
    "nbgrader": {
     "cell_type": "code",
     "checksum": "ab498d9f336b480d76c6e9e872f310b1",
     "grade": true,
     "grade_id": "cell-a7189debb1cd577e",
     "locked": true,
     "points": 2,
     "schema_version": 3,
     "solution": false
    }
   },
   "outputs": [],
   "source": [
    "# hidden tests will be used for grading.\n",
    "# If this cell results in an error, your implementation is incorrect"
   ]
  },
  {
   "cell_type": "code",
   "execution_count": null,
   "id": "764fec4a",
   "metadata": {
    "deletable": false,
    "editable": false,
    "nbgrader": {
     "cell_type": "code",
     "checksum": "1cb5ee58c654a119ec0beecdf7926fa1",
     "grade": true,
     "grade_id": "cell-c6e8b05639331e9f",
     "locked": true,
     "points": 2,
     "schema_version": 3,
     "solution": false
    }
   },
   "outputs": [],
   "source": [
    "# hidden tests will be used for grading.\n",
    "# If this cell results in an error, your implementation is incorrect"
   ]
  },
  {
   "cell_type": "markdown",
   "id": "62d82603",
   "metadata": {},
   "source": [
    "## Question 2 (6 points)\n",
    "\n",
    "Next questions are about the Knapsack Problem.\n",
    "\n",
    "Given $n$ items, each with an associated weight $w_i$ and cost $c_i$, the goal of the Knapsack problem is to pack as many items to maximize the value of the packed knapsack, while not exceeding the knapsack capacity.\n",
    "\n",
    "Let $x_i$ be a binary variable that is equal to 1 if $i$'th item is selected and 0 otherwise. \n",
    "\n",
    "In Knapsack problem, the objective is to maximize\n",
    "$$\n",
    "\\sum c_ix_i\n",
    "$$\n",
    "subject to the constraint\n",
    "$$\n",
    "\\sum w_ix_i < W. \n",
    "$$\n",
    "\n",
    "However, note that when formulating a QUBO, we always consider the equivalent `minimization` problem. \n",
    "\n",
    "Complete the function `knapsack_objective` which takes as parameter a BQM instance and the list of costs and adds the objective function to be *minimized* to the input BQM.\n",
    "\n",
    "Note: Name your variables in the format `x_i` and use BQM functionalities.\n",
    "\n",
    "The function `knapsack_objective` has\n",
    "\n",
    "- Inputs: `bqm`- a BQM instance, `costs`-a list of $n$ elements corresponding to costs of the items\n",
    "            \n",
    "- Returns: Modified `bqm`\n"
   ]
  },
  {
   "cell_type": "code",
   "execution_count": null,
   "id": "7ef0dbc0",
   "metadata": {
    "deletable": false,
    "nbgrader": {
     "cell_type": "code",
     "checksum": "0b9cdedf0c6205848ee3bb22259647cf",
     "grade": false,
     "grade_id": "cell-0fb3a12dcd99d63f",
     "locked": false,
     "schema_version": 3,
     "solution": true
    }
   },
   "outputs": [],
   "source": [
    "from dimod import BQM\n",
    "\n",
    "def knapsack_objective(bqm, costs):\n",
    "    # YOUR CODE HERE\n",
    "\n",
    "    # Do not modify anything below this line\n",
    "    return bqm"
   ]
  },
  {
   "cell_type": "code",
   "execution_count": null,
   "id": "1827ea07",
   "metadata": {},
   "outputs": [],
   "source": [
    "# You can use this cell to call and check the output of the function\n",
    "from dimod import BQM\n",
    "\n",
    "bqm = BQM(\"BINARY\")\n",
    "costs = [2, 7, 3, 4, 6]\n",
    "bqm = knapsack_objective(bqm, costs)\n",
    "print(bqm)"
   ]
  },
  {
   "cell_type": "code",
   "execution_count": null,
   "id": "922c38f9",
   "metadata": {
    "deletable": false,
    "editable": false,
    "nbgrader": {
     "cell_type": "code",
     "checksum": "50bc3f12907a20a4679939f29e1049e7",
     "grade": true,
     "grade_id": "cell-3c098b4ee1fd9acd",
     "locked": true,
     "points": 3,
     "schema_version": 3,
     "solution": false
    }
   },
   "outputs": [],
   "source": [
    "# hidden tests will be used for grading.\n",
    "# If this cell results in an error, your implementation is incorrect"
   ]
  },
  {
   "cell_type": "code",
   "execution_count": null,
   "id": "c303b8e1",
   "metadata": {
    "deletable": false,
    "editable": false,
    "nbgrader": {
     "cell_type": "code",
     "checksum": "ffe3a36f17e982c3c20ff717a84bd7bb",
     "grade": true,
     "grade_id": "cell-970f5a1c9bd8a60a",
     "locked": true,
     "points": 3,
     "schema_version": 3,
     "solution": false
    }
   },
   "outputs": [],
   "source": [
    "# hidden tests will be used for grading.\n",
    "# If this cell results in an error, your implementation is incorrect"
   ]
  },
  {
   "cell_type": "markdown",
   "id": "312cf060",
   "metadata": {},
   "source": [
    "## Question 3 (6 points)\n",
    "\n",
    "Complete the function `knapsack_constraint` which takes as parameter a BQM instance and the list of costs, weights and capacity of the knapsack and adds the constraint to the input BQM.\n",
    "\n",
    "Note: Name your variables in the format `x_i` and use BQM functionalities. Set Lagrange multiplier $L$ such that $L = \\max\\{c_i\\} + 1$. Set `label=\"c\"`.\n",
    "\n",
    "The function `knapsack_constraint` has\n",
    "\n",
    "- Inputs:  `bqm`- a BQM instance, `weights`- a list of $n$ elements corresponding to the weights of the items, `costs`-a list of $n$ elements corresponding to costs of the items, `W`-capacity of Knapsack\n",
    "            \n",
    "- Returns: Modified `bqm`\n"
   ]
  },
  {
   "cell_type": "code",
   "execution_count": null,
   "id": "66e1c0c9",
   "metadata": {
    "deletable": false,
    "nbgrader": {
     "cell_type": "code",
     "checksum": "3d79d1e702855bd0273993babe380560",
     "grade": false,
     "grade_id": "cell-4521cce97be4e452",
     "locked": false,
     "schema_version": 3,
     "solution": true
    }
   },
   "outputs": [],
   "source": [
    "from dimod import BQM\n",
    "\n",
    "def knapsack_constraint(bqm, weights, costs, W):\n",
    "    # YOUR CODE HERE\n",
    "\n",
    "    # Do not modify anything below this line\n",
    "    return bqm"
   ]
  },
  {
   "cell_type": "code",
   "execution_count": null,
   "id": "3ec171d1",
   "metadata": {},
   "outputs": [],
   "source": [
    "# You can use this cell to call and check the output of the function\n",
    "from dimod import BQM\n",
    "\n",
    "bqm = BQM(\"BINARY\")\n",
    "costs = [2, 7, 3, 4, 6]\n",
    "W = 10\n",
    "weights = [1, 4, 8, 2, 3]\n",
    "bqm = knapsack_constraint(bqm, weights, costs, W)\n",
    "print(bqm)"
   ]
  },
  {
   "cell_type": "code",
   "execution_count": null,
   "id": "32b05e24",
   "metadata": {
    "deletable": false,
    "editable": false,
    "nbgrader": {
     "cell_type": "code",
     "checksum": "0732ed7d03a58e413decc5394804a233",
     "grade": true,
     "grade_id": "cell-7f3f5156dda3ac9e",
     "locked": true,
     "points": 3,
     "schema_version": 3,
     "solution": false
    }
   },
   "outputs": [],
   "source": [
    "# hidden tests will be used for grading.\n",
    "# If this cell results in an error, your implementation is incorrect"
   ]
  },
  {
   "cell_type": "code",
   "execution_count": null,
   "id": "75f131ec",
   "metadata": {
    "deletable": false,
    "editable": false,
    "nbgrader": {
     "cell_type": "code",
     "checksum": "112e31e8e6f1aaafb8190774ec468494",
     "grade": true,
     "grade_id": "cell-a53a038132825a9b",
     "locked": true,
     "points": 3,
     "schema_version": 3,
     "solution": false
    }
   },
   "outputs": [],
   "source": [
    "# hidden tests will be used for grading.\n",
    "# If this cell results in an error, your implementation is incorrect"
   ]
  },
  {
   "cell_type": "markdown",
   "id": "3f45a4da",
   "metadata": {},
   "source": [
    "## Question 4 (4 points)\n",
    "\n",
    "Complete the function `knapsack_bqm` which takes as parameter the list of costs, weights and capacity of the knapsack and returns a BQM instance for the given knapsack problem.\n",
    "\n",
    "Note: Name your variables in the format `x_i` and use the functions you have written previously.\n",
    "\n",
    "The function `knapsack_bqm` has\n",
    "\n",
    "- Inputs:  `weights`- a list of $n$ elements corresponding to the weights of the items, `costs`-a list of $n$ elements corresponding to costs of the items, `W`-capacity of Knapsack\n",
    "            \n",
    "- Returns: A BQM instance `bqm`\n"
   ]
  },
  {
   "cell_type": "code",
   "execution_count": null,
   "id": "46d3eb5a",
   "metadata": {
    "deletable": false,
    "nbgrader": {
     "cell_type": "code",
     "checksum": "7b394f2775b4926942c8ebebd080aaa2",
     "grade": false,
     "grade_id": "cell-1fb34786a6625342",
     "locked": false,
     "schema_version": 3,
     "solution": true
    }
   },
   "outputs": [],
   "source": [
    "from dimod import BQM\n",
    "\n",
    "def knapsack_bqm(weights, costs, W):\n",
    "    # YOUR CODE HERE\n",
    "\n",
    "    # Do not modify anything below this line\n",
    "    return bqm"
   ]
  },
  {
   "cell_type": "code",
   "execution_count": null,
   "id": "61901acf",
   "metadata": {},
   "outputs": [],
   "source": [
    "# You can use this cell to call and check the output of the function\n",
    "from dimod import BQM\n",
    "bqm = BQM(\"BINARY\")\n",
    "costs = [2, 7, 3, 4, 6]\n",
    "W = 10\n",
    "weights = [1, 4, 8, 2, 3]\n",
    "bqm = knapsack_bqm(weights, costs, W)\n",
    "print(bqm)"
   ]
  },
  {
   "cell_type": "code",
   "execution_count": null,
   "id": "c20ccbc7",
   "metadata": {
    "deletable": false,
    "editable": false,
    "nbgrader": {
     "cell_type": "code",
     "checksum": "b77e9d53d07d85068bbed18cae585341",
     "grade": true,
     "grade_id": "cell-bf2d74fce2ff05bd",
     "locked": true,
     "points": 2,
     "schema_version": 3,
     "solution": false
    }
   },
   "outputs": [],
   "source": [
    "# hidden tests will be used for grading.\n",
    "# If this cell results in an error, your implementation is incorrect"
   ]
  },
  {
   "cell_type": "code",
   "execution_count": null,
   "id": "1fa179ec",
   "metadata": {
    "deletable": false,
    "editable": false,
    "nbgrader": {
     "cell_type": "code",
     "checksum": "724906b773d55a74d868f2e603ede32b",
     "grade": true,
     "grade_id": "cell-fc23d7d972230462",
     "locked": true,
     "points": 2,
     "schema_version": 3,
     "solution": false
    }
   },
   "outputs": [],
   "source": [
    "# hidden tests will be used for grading.\n",
    "# If this cell results in an error, your implementation is incorrect"
   ]
  },
  {
   "cell_type": "markdown",
   "id": "de3d5f84",
   "metadata": {},
   "source": [
    "## Question 5 (4 points)\n",
    "\n",
    "Complete the function `anneal` which takes as parameter a BQM instance and number of reads and returns a sampleset object after running simulated annealing. Make the necessary imports.\n",
    "\n",
    "The function `anneal` has\n",
    "\n",
    "- Inputs:  `bqm`- a BQM instance, `num_reads`-an integer coresponding to the number of reads for simulated annealing experiment\n",
    "            \n",
    "- Returns: A `SampleSet` instance \n"
   ]
  },
  {
   "cell_type": "code",
   "execution_count": null,
   "id": "b5fe3294",
   "metadata": {
    "deletable": false,
    "nbgrader": {
     "cell_type": "code",
     "checksum": "2a46bfef1da8f9f9ab76cdd21cb26c00",
     "grade": false,
     "grade_id": "cell-aa591c5064be9aa5",
     "locked": false,
     "schema_version": 3,
     "solution": true
    }
   },
   "outputs": [],
   "source": [
    "def anneal(bqm, num_reads):\n",
    "    # YOUR CODE HERE\n",
    "\n",
    "    # Do not modify anything below this line\n",
    "    return sampleset"
   ]
  },
  {
   "cell_type": "code",
   "execution_count": null,
   "id": "807fe37e",
   "metadata": {},
   "outputs": [],
   "source": [
    "# You can use this cell to call and check the output of the function\n",
    "\n",
    "linear = {'x1': 5, 'x2': -3}\n",
    "quadratic = {('x1', 'x2'): 7}\n",
    "offset = 2\n",
    "vartype = 'BINARY'\n",
    "\n",
    "bqm = BQM(linear, quadratic, offset, vartype)\n",
    "sampleset = anneal(bqm, 1000)\n",
    "print(sampleset)"
   ]
  },
  {
   "cell_type": "code",
   "execution_count": null,
   "id": "5cc53e75",
   "metadata": {
    "deletable": false,
    "editable": false,
    "nbgrader": {
     "cell_type": "code",
     "checksum": "32523b92b6a26ee17aeb7f112c0acb01",
     "grade": true,
     "grade_id": "cell-817fe3881ec5fa6c",
     "locked": true,
     "points": 2,
     "schema_version": 3,
     "solution": false
    }
   },
   "outputs": [],
   "source": [
    "# hidden tests will be used for grading.\n",
    "# If this cell results in an error, your implementation is incorrect"
   ]
  },
  {
   "cell_type": "code",
   "execution_count": null,
   "id": "0d52a7f7",
   "metadata": {
    "deletable": false,
    "editable": false,
    "nbgrader": {
     "cell_type": "code",
     "checksum": "e9076472ab44ebde565fca523b4b2baf",
     "grade": true,
     "grade_id": "cell-d65f341bce87ff30",
     "locked": true,
     "points": 2,
     "schema_version": 3,
     "solution": false
    }
   },
   "outputs": [],
   "source": [
    "# hidden tests will be used for grading.\n",
    "# If this cell results in an error, your implementation is incorrect"
   ]
  },
  {
   "cell_type": "markdown",
   "id": "efcbaaac",
   "metadata": {},
   "source": [
    "## Question 6 (4 points)\n",
    "\n",
    "Complete the function `knapsack_solution` which takes as parameter number of reads, the list of costs, weights and weight of the knapsack and returns the sample with the lowest energy for the given Knapsack instance.\n",
    "\n",
    "Note: You should use the functions `anneal` and `knapsack_bqm` you have written previously.\n",
    "\n",
    "The function `knapsack_solution` has\n",
    "\n",
    "- Inputs: `num_reads`- number of reads, `weights`- a list of $n$ elements corresponding to the weights of the items, `costs`-a list of $n$ elements corresponding to costs of the items, `W`-capacity of Knapsack\n",
    "            \n",
    "- Returns: `solution` - a tuple consisting of solution vector and energy pair\n"
   ]
  },
  {
   "cell_type": "code",
   "execution_count": null,
   "id": "b8da9aab",
   "metadata": {
    "deletable": false,
    "nbgrader": {
     "cell_type": "code",
     "checksum": "53529445179ea7d81a28cc65124d75c8",
     "grade": false,
     "grade_id": "cell-365d09fdc40291fd",
     "locked": false,
     "schema_version": 3,
     "solution": true
    }
   },
   "outputs": [],
   "source": [
    "def knapsack_solution(num_reads,weights, costs, W):\n",
    "    # YOUR CODE HERE\n",
    "\n",
    "    # Do not modify anything below this line\n",
    "    return solution"
   ]
  },
  {
   "cell_type": "code",
   "execution_count": null,
   "id": "4ed798d9",
   "metadata": {},
   "outputs": [],
   "source": [
    "# You can use this cell to call and check the output of the function\n",
    "\n",
    "costs = [2, 7, 3, 4, 6]\n",
    "W = 10\n",
    "weights = [1, 4, 8, 2, 3]\n",
    "num_reads = 100\n",
    "solution = knapsack_solution(num_reads,weights, costs, W)\n",
    "print(solution)\n"
   ]
  },
  {
   "cell_type": "code",
   "execution_count": null,
   "id": "66f750e7",
   "metadata": {
    "deletable": false,
    "editable": false,
    "nbgrader": {
     "cell_type": "code",
     "checksum": "e55a88aee591d97a7719553dde899858",
     "grade": true,
     "grade_id": "cell-c6a06fd215617cfc",
     "locked": true,
     "points": 4,
     "schema_version": 3,
     "solution": false
    }
   },
   "outputs": [],
   "source": [
    "# hidden tests will be used for grading.\n",
    "# If this cell results in an error, your implementation is incorrect"
   ]
  }
 ],
 "metadata": {
  "kernelspec": {
   "display_name": "Python 3 (ipykernel)",
   "language": "python",
   "name": "python3"
  },
  "language_info": {
   "codemirror_mode": {
    "name": "ipython",
    "version": 3
   },
   "file_extension": ".py",
   "mimetype": "text/x-python",
   "name": "python",
   "nbconvert_exporter": "python",
   "pygments_lexer": "ipython3",
   "version": "3.10.9"
  }
 },
 "nbformat": 4,
 "nbformat_minor": 5
}
