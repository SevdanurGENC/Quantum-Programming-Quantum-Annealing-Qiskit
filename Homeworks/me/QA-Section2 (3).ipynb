{
 "cells": [
  {
   "cell_type": "markdown",
   "id": "educational-petersburg",
   "metadata": {},
   "source": [
    "# Instructions\n",
    "\n",
    "The places where you have enter code, to answer the questions, are marked with `# YOUR CODE HERE`."
   ]
  },
  {
   "cell_type": "markdown",
   "id": "fedb9ec3",
   "metadata": {},
   "source": [
    "## Question 1 (4 points)\n",
    "\n",
    "Given the following QUBO, complete the function `create_bqm` so that it returns the corresponding BQM.\n",
    "\n",
    "$$- 7x_1 - 2x_2 - 10x_3 - 4x_4 + 5x_1x_2 + 3x_1x_3 + 6x_2x_3 - 8x_3x_4 - 2$$\n",
    "\n",
    "\n",
    "The function `create_bqm` has\n",
    "\n",
    "- Input: None\n",
    "- Returns:  A BQM instance\n"
   ]
  },
  {
   "cell_type": "code",
   "execution_count": null,
   "id": "e6193cdb",
   "metadata": {
    "deletable": false,
    "nbgrader": {
     "cell_type": "code",
     "checksum": "d7d495234fd0b9a8cf9665d75ee7a8b9",
     "grade": false,
     "grade_id": "cell-519783454f9c6523",
     "locked": false,
     "schema_version": 3,
     "solution": true
    }
   },
   "outputs": [],
   "source": [
    "def create_bqm():\n",
    "    # YOUR CODE HERE\n",
    "\n",
    "    # Do not modify anything below this line\n",
    "    return bqm"
   ]
  },
  {
   "cell_type": "code",
   "execution_count": null,
   "id": "8b2ef48a",
   "metadata": {},
   "outputs": [],
   "source": [
    "# You can use this cell to call and check the output of the function\n",
    "\n",
    "print(create_bqm())"
   ]
  },
  {
   "cell_type": "code",
   "execution_count": null,
   "id": "e1587a50",
   "metadata": {
    "deletable": false,
    "editable": false,
    "nbgrader": {
     "cell_type": "code",
     "checksum": "ae9060dd846a190764d43bc83443bf2b",
     "grade": true,
     "grade_id": "cell-bfefd43bc32d56e6",
     "locked": true,
     "points": 6,
     "schema_version": 3,
     "solution": false
    }
   },
   "outputs": [],
   "source": [
    "# hidden tests will be used for grading.\n",
    "# If this cell results in an error, your implementation is incorrect"
   ]
  },
  {
   "cell_type": "markdown",
   "id": "6fc9152d",
   "metadata": {},
   "source": [
    "## Question 2 (6 points)\n",
    "\n",
    "Function `solve_Q` takes as input a matrix representation of a QUBO formulation. Complete the function `solve_Q` so that it returns the solution to the given problem. Use D-Wave's `ExactSolver()`.\n",
    "\n",
    "\n",
    "The function `solve_Q` has\n",
    "\n",
    "- Input: Q matrix representation of QUBO \n",
    "- Returns: Sample with the lowest energy (first sample of the SampleSet)\n"
   ]
  },
  {
   "cell_type": "code",
   "execution_count": null,
   "id": "cce12dad",
   "metadata": {
    "deletable": false,
    "nbgrader": {
     "cell_type": "code",
     "checksum": "b1dec94e0f9e30842908e355ccc9a44a",
     "grade": false,
     "grade_id": "cell-c6fc493496abe710",
     "locked": false,
     "schema_version": 3,
     "solution": true
    }
   },
   "outputs": [],
   "source": [
    "from dimod import BQM\n",
    "\n",
    "\n",
    "def solve_Q(Q):\n",
    "    # YOUR CODE HERE\n",
    "\n",
    "    # Do not modify anything below this line\n",
    "    return sampleset.first"
   ]
  },
  {
   "cell_type": "code",
   "execution_count": null,
   "id": "7e561dd7",
   "metadata": {},
   "outputs": [],
   "source": [
    "# You can use this cell to call and check the output of the function\n",
    "import numpy as np\n",
    "from dimod.reference.samplers import ExactSolver\n",
    "\n",
    "\n",
    "Q = np.array([[1, 1], [0, 1]])\n",
    "print(solve_Q(Q))"
   ]
  },
  {
   "cell_type": "code",
   "execution_count": null,
   "id": "9793fb7a",
   "metadata": {
    "deletable": false,
    "editable": false,
    "nbgrader": {
     "cell_type": "code",
     "checksum": "a24f3b24b9aedffac7bb1ea90c4bf0fb",
     "grade": true,
     "grade_id": "cell-bddecad407041e7b",
     "locked": true,
     "points": 6,
     "schema_version": 3,
     "solution": false
    }
   },
   "outputs": [],
   "source": [
    "# hidden tests will be used for grading.\n",
    "# If this cell results in an error, your implementation is incorrect"
   ]
  },
  {
   "cell_type": "markdown",
   "id": "17843fc3",
   "metadata": {},
   "source": [
    "## Question 3 (4 points)\n",
    "\n",
    "You are given a graph $G$ in the next cell where the nodes are labeled $0,1,\\dots,8$. Create a BQM with `SPIN` variables to solve Max-Cut problem for the given graph. Variables should be named with the name of the correspoding node.\n",
    "\n",
    "The function `max_cut` has\n",
    "\n",
    "- Input: None \n",
    "- Returns: BQM with SPIN variables for graph `G`\n"
   ]
  },
  {
   "cell_type": "code",
   "execution_count": null,
   "id": "a5592fb5",
   "metadata": {},
   "outputs": [],
   "source": [
    "import networkx as nx\n",
    "\n",
    "G = nx.lollipop_graph(4, 5)\n",
    "nx.draw(G, with_labels=True)\n",
    "G.edges"
   ]
  },
  {
   "cell_type": "code",
   "execution_count": null,
   "id": "e04b999b",
   "metadata": {
    "deletable": false,
    "nbgrader": {
     "cell_type": "code",
     "checksum": "78de6d6998de61dac7a98a06c5b64f25",
     "grade": false,
     "grade_id": "cell-04b50f7066c6da97",
     "locked": false,
     "schema_version": 3,
     "solution": true
    }
   },
   "outputs": [],
   "source": [
    "from dimod import BQM\n",
    "\n",
    "\n",
    "def max_cut():\n",
    "    # YOUR CODE HERE\n",
    "\n",
    "    # Do not modify anything below this line\n",
    "    return bqm"
   ]
  },
  {
   "cell_type": "code",
   "execution_count": null,
   "id": "c19ddac9",
   "metadata": {},
   "outputs": [],
   "source": [
    "# You can use this cell to call and check the output of the function\n",
    "print(max_cut())"
   ]
  },
  {
   "cell_type": "code",
   "execution_count": null,
   "id": "42f66c03",
   "metadata": {
    "deletable": false,
    "editable": false,
    "nbgrader": {
     "cell_type": "code",
     "checksum": "4b940c935a9203e433a62eda7bd0415b",
     "grade": true,
     "grade_id": "cell-c0db5152684f0877",
     "locked": true,
     "points": 6,
     "schema_version": 3,
     "solution": false
    }
   },
   "outputs": [],
   "source": [
    "# hidden tests will be used for grading.\n",
    "# If this cell results in an error, your implementation is incorrect"
   ]
  }
 ],
 "metadata": {
  "kernelspec": {
   "display_name": "Python 3 (ipykernel)",
   "language": "python",
   "name": "python3"
  },
  "language_info": {
   "codemirror_mode": {
    "name": "ipython",
    "version": 3
   },
   "file_extension": ".py",
   "mimetype": "text/x-python",
   "name": "python",
   "nbconvert_exporter": "python",
   "pygments_lexer": "ipython3",
   "version": "3.8.5"
  }
 },
 "nbformat": 4,
 "nbformat_minor": 5
}
