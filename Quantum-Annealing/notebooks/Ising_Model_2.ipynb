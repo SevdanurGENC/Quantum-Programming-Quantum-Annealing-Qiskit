{
 "cells": [
  {
   "cell_type": "markdown",
   "metadata": {},
   "source": [
    "<table width = \"100%\">\n",
    "  <tr style=\"background-color:white;\">\n",
    "    <!-- QWorld Logo -->\n",
    "    <td style=\"text-align:left;width:200px;\"> \n",
    "        <img src=\"../images/QWorld.png\"> </td>\n",
    "    <td style=\"text-align:right;vertical-align:bottom;font-size:16px;\"> \n",
    "        Prepared by <a href=\"https://gitlab.com/pjr1363\" target=\"_blank\"> Paul Joseph Robin </a> and Özlem Salehi</td>\n",
    "    </tr> \n",
    " </table>\n",
    " \n",
    "<hr>"
   ]
  },
  {
   "cell_type": "markdown",
   "metadata": {},
   "source": [
    "# Ising to QUBO conversion \n",
    "\n",
    "The Ising problems are expressed through spin variables $\\{-1, 1\\}$, while QUBO formulations are expressed through binary variables $\\{0, 1\\}$. \n",
    "\n",
    "The two formulations can be converted into each other by the following transformation:\n",
    "\n",
    "$$ x_j \\mapsto \\frac{1 + s_j }{2} $$\n",
    "where $x_j$ is the QUBO variable and $s_j$ is the Ising variable. \n",
    "\n",
    "Substituting the value of the variable will result in conversion from one model to the other."
   ]
  },
  {
   "cell_type": "markdown",
   "metadata": {},
   "source": [
    "### Task 1\n",
    "Convert the following QUBO formulation into Ising formulation:\n",
    "\n",
    "$$f (x_1, x_2) = 5x_1 + 7x_1 x_2 - 3x_2.$$\n",
    "\n",
    "<a href=\"Ising_Model_2_Solutions.ipynb#Task1\">click here for solution</a>"
   ]
  },
  {
   "cell_type": "markdown",
   "metadata": {},
   "source": [
    "### Task 2\n",
    "Convert the following Ising model into QUBO formulation:\n",
    "$$ s_1s_2 - s_1 + 3s_2.$$\n"
   ]
  },
  {
   "cell_type": "markdown",
   "metadata": {},
   "source": [
    "<a href=\"Ising_Model_2_Solutions.ipynb#Task2\">click here for solution</a>"
   ]
  },
  {
   "cell_type": "markdown",
   "metadata": {},
   "source": [
    "### Task 3\n",
    "\n",
    "Using the QUBO formulation you obtained in Task 2, calculate the energy for different spin and binary variable assignments and compare the results.\n",
    "\n",
    "Write two functions:\n",
    "- A function that takes as input values for $x_1$ and $x_2$ and returns the value of the QUBO \n",
    "- A function that takes as input values for $s_1$ and $s_2$ and returns the energy of the Ising model."
   ]
  },
  {
   "cell_type": "code",
   "execution_count": null,
   "metadata": {},
   "outputs": [],
   "source": [
    "def calc_ising_energy(s_1,s_2):\n",
    "    #your code here"
   ]
  },
  {
   "cell_type": "code",
   "execution_count": null,
   "metadata": {},
   "outputs": [],
   "source": [
    "def calc_qubo_value(x_1,x_2):\n",
    "    #your code here"
   ]
  },
  {
   "cell_type": "code",
   "execution_count": null,
   "metadata": {},
   "outputs": [],
   "source": [
    "ising_conf = [[-1,1], [1,-1]]\n",
    "qubo_conf = [[0,1], [1,0]]\n",
    "\n",
    "#Your code here"
   ]
  },
  {
   "cell_type": "markdown",
   "metadata": {},
   "source": [
    "<a href=\"Ising_Model_2_Solutions.ipynb#Task3\">click here for solution</a>"
   ]
  },
  {
   "cell_type": "markdown",
   "metadata": {},
   "source": [
    "---\n",
    "\n",
    "## Max-Cut revisited\n",
    "\n",
    "\n",
    "Recall that we have given both a QUBO formulation and an Ising model for the Max-Cut problem. \n",
    "\n",
    "The QUBO formulation was defined as \n",
    "\n",
    "$$\\min \\sum_{(i,j) \\in E} -x_i-x_j+2x_ix_j$$\n",
    "\n",
    "while the Ising model was defined as\n",
    "\n",
    "$$ \\min  \\frac{1}{2} \\sum_{(i, j) \\in E} (s_is_j-1).$$\n",
    "\n",
    "In the next Task we ask you to perform a conversion from the QUBO to Ising model and compare it with the Ising model we have formulated."
   ]
  },
  {
   "cell_type": "markdown",
   "metadata": {},
   "source": [
    "### Task 4\n",
    "\n",
    "Convert the QUBO formulation for the Max-Cut problem into Ising formulation through variable change.\n",
    "\n",
    "Compare your result with the Ising Model we have defined.\n",
    "\n",
    "<a href=\"Ising_Model_2_Solutions.ipynb#Task4\">click here for the solution</a>"
   ]
  }
 ],
 "metadata": {
  "kernelspec": {
   "display_name": "Python 3",
   "language": "python",
   "name": "python3"
  },
  "language_info": {
   "codemirror_mode": {
    "name": "ipython",
    "version": 3
   },
   "file_extension": ".py",
   "mimetype": "text/x-python",
   "name": "python",
   "nbconvert_exporter": "python",
   "pygments_lexer": "ipython3",
   "version": "3.7.3"
  }
 },
 "nbformat": 4,
 "nbformat_minor": 4
}
