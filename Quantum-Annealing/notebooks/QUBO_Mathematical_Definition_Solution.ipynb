{
 "cells": [
  {
   "cell_type": "markdown",
   "id": "suspected-counter",
   "metadata": {},
   "source": [
    "<table width = \"100%\">\n",
    "  <tr style=\"background-color:white;\">\n",
    "    <!-- QWorld Logo -->\n",
    "    <td style=\"text-align:left;width:200px;\"> \n",
    "        <a href=\"https://qworld.net/\" target=\"_blank\"><img src=\"../images/QWorld.png\"> </a></td>\n",
    "    <td style=\"text-align:right;vertical-align:bottom;font-size:16px;\"> \n",
    "        Prepared by AkashNarayanan B </td>    \n",
    "</table>\n",
    "<hr>"
   ]
  },
  {
   "cell_type": "markdown",
   "id": "proper-jaguar",
   "metadata": {},
   "source": [
    "# <font color=\"blue\">Solutions for </font> QUBO: Mathematical Definition"
   ]
  },
  {
   "cell_type": "markdown",
   "id": "organic-george",
   "metadata": {},
   "source": [
    "<a id=\"task1\"></a>\n",
    "### Task 1\n",
    "\n",
    "Find out what assignment of $x_1$ and $x_2$ minimizes the objective function.\n",
    "\n",
    "$$f(x_1, x_2) = 5x_1 + 7x_1 x_2 - 3x_2$$"
   ]
  },
  {
   "cell_type": "markdown",
   "id": "figured-dining",
   "metadata": {},
   "source": [
    "### Solution\n",
    "\n",
    "When we assign $x_1 = 0$ and $x_2 = 1$, the value of the given objective function turns out to be $-3$. This is the lowest possible value out of the four permutations.\n",
    "\n",
    "We can also calculate the value of the objective function analytically.\n",
    "\n",
    "- $x_1 = 0$ and $x_2 = 0$\n",
    "\n",
    "    $f(0, 0) = 5(0) + 7(0)(0) - 3(0) = 0$\n",
    "  \n",
    "\n",
    "- $x_1 = 0$ and $x_2 = 1$\n",
    "\n",
    "    $f(0, 1) = 5(0) + 7(0)(1) - 3(1) = -3$\n",
    "\n",
    "\n",
    "- $x_1 = 1$ and $x_2 = 0$\n",
    "    \n",
    "    $f(1, 0) = 5(1) + 7(1)(0) - 3(0) = 5$\n",
    "\n",
    "\n",
    "- $x_1 = 1$ and $x_2 = 1$\n",
    "\n",
    "    $f(1, 1) = 5(1) + 7(1)(1) - 3(1) = 9$\n",
    "    \n",
    "Therefore, assigning $x_1 = 0$ and $x_2 = 1$ minimizes the given objective function."
   ]
  },
  {
   "cell_type": "markdown",
   "id": "solid-poster",
   "metadata": {},
   "source": [
    "<a id=\"task2\"></a>\n",
    "### Task 2\n",
    "\n",
    "Let us now consider an objective function with four binary decision variables. Find out what assignment of $x_1$, $x_2$, $x_3$ and $x_4$ minimizes the following objective function\n",
    "\n",
    "$$f(x_1, x_2, x_3, x_4) = - 5x_1 - 3x_2 - 8x_3 - 6x_4 + 4x_1 x_2 + 8x_1 x_3 + 2x_2 x_3 + 10x_3 x_4.$$"
   ]
  },
  {
   "cell_type": "markdown",
   "id": "alternate-arnold",
   "metadata": {},
   "source": [
    "### Solution\n",
    "\n",
    "When we assign $x_1 = x_4 = 1$ and $x_2 = x_3 = 0$, the value of the objective function is $-11$. This is the lowest possible value out of the 16 possible permutations."
   ]
  },
  {
   "cell_type": "markdown",
   "id": "colored-killing",
   "metadata": {},
   "source": [
    "<a id=\"task3\"></a>\n",
    "\n",
    "### Task 3\n",
    "\n",
    "We know that the linear coefficients correspond to terms of the form $x_i$, while in the matrix representation we put them on the main diagonal that correspond to terms of the form $x_i^2$. Why is this correct?"
   ]
  },
  {
   "cell_type": "markdown",
   "id": "level-governor",
   "metadata": {},
   "source": [
    "### Solution\n",
    "\n",
    "Note that $x_i$ are binary variables which are either 0 or 1. Hence, $x_i^2$ is equal to $x_i$ for any binary variable. Therefore, any term of the form $x_i^2$ can be equivalently replaced by $x_i$."
   ]
  },
  {
   "cell_type": "markdown",
   "id": "outside-limitation",
   "metadata": {},
   "source": [
    "<a id=\"task4\"></a>\n",
    "### Task 4\n",
    "\n",
    "Let's repeat Task 1 this time using the matrix form. Find the vector $x$ that minimizes the following objective function\n",
    "\n",
    "$$f(x_1, x_2) = 5x_1 + 7x_1 x_2 - 3x_2$$"
   ]
  },
  {
   "cell_type": "markdown",
   "id": "biological-charleston",
   "metadata": {},
   "source": [
    "### Solution\n",
    "\n",
    "Let us first run the following cell to load necessary functions."
   ]
  },
  {
   "cell_type": "code",
   "execution_count": 3,
   "id": "reduced-soccer",
   "metadata": {},
   "outputs": [],
   "source": [
    "%run qubo_functions.py"
   ]
  },
  {
   "cell_type": "markdown",
   "id": "textile-edinburgh",
   "metadata": {},
   "source": [
    "There are two variables. So we have to compute a $2 \\times 2$ matrix.\n",
    "\n",
    "$$\n",
    "Q = \\begin{bmatrix}\n",
    "        5   &  7    \\\\ \n",
    "        0   &  -3   \\\\ \n",
    "    \\end{bmatrix}\n",
    "$$"
   ]
  },
  {
   "cell_type": "code",
   "execution_count": 4,
   "id": "exotic-lafayette",
   "metadata": {},
   "outputs": [
    {
     "data": {
      "text/plain": [
       "'The vector (0, 1) minimizes the objective function to a value of -3.'"
      ]
     },
     "execution_count": 4,
     "metadata": {},
     "output_type": "execute_result"
    }
   ],
   "source": [
    "import numpy as np\n",
    "# Define the Q matrix\n",
    "\n",
    "Q1 =np.array([[ 5,  7],\n",
    "              [ 0, -3]])\n",
    "\n",
    "# Pass the matrix as an argument to the function\n",
    "qubo_solver(Q1)"
   ]
  },
  {
   "cell_type": "markdown",
   "id": "frequent-replacement",
   "metadata": {},
   "source": [
    "We can conclude that $x_1=0$ and $x_2 = 1$ minimizes the given objective function."
   ]
  },
  {
   "cell_type": "markdown",
   "id": "visible-allowance",
   "metadata": {},
   "source": [
    "<a id=\"task5\"></a>\n",
    "### Task 5\n",
    "\n",
    "Find the vector $x$ that maximizes the following objective function\n",
    "\n",
    "$$f(x_1, x_2, x_3, x_4) = x_1 + x_2 + x_3 + x_4 - 6x_1 x_3 - 6x_1 x_4 - 6x_3 x_4 - 6x_1 x_2.$$"
   ]
  },
  {
   "cell_type": "markdown",
   "id": "greatest-wagner",
   "metadata": {},
   "source": [
    "### Solution\n",
    "\n",
    "Let us first run the following cell to load necessary functions."
   ]
  },
  {
   "cell_type": "code",
   "execution_count": 3,
   "id": "configured-british",
   "metadata": {},
   "outputs": [],
   "source": [
    "%run qubo_functions.py"
   ]
  },
  {
   "cell_type": "markdown",
   "id": "later-packing",
   "metadata": {},
   "source": [
    "We can maximize by minimizing the negative of the objective function. Multiplying the objective function by $-1$,\n",
    "\n",
    "$$f(x_1, x_2, x_3, x_4) = - x_1 - x_2 - x_3 - x_4 + 6x_1 x_3 + 6x_1 x_4 + 6x_3 x_4 + 6x_1 x_2$$\n",
    "\n",
    "There are four variables. We have to compute a $4 \\times 4$ matrix.\n",
    "\n",
    "$$\n",
    "Q = \\begin{bmatrix}\n",
    "        -1  &   6  &   6  &   6    \\\\ \n",
    "        0   &  -1  &   0  &   0 \\\\ \n",
    "        0   &   0  &  -1  &   6 \\\\ \n",
    "        0   &   0  &  0   &  -1  \\\\ \n",
    "    \\end{bmatrix}\n",
    "$$"
   ]
  },
  {
   "cell_type": "code",
   "execution_count": 5,
   "id": "parallel-modern",
   "metadata": {},
   "outputs": [
    {
     "data": {
      "text/plain": [
       "'The vector (0, 1, 1, 0) minimizes the objective function to a value of -2.'"
      ]
     },
     "execution_count": 5,
     "metadata": {},
     "output_type": "execute_result"
    }
   ],
   "source": [
    "import numpy as np\n",
    "# Define the Q matrix\n",
    "Q2 =np.array([[ -1,  6,  6,  6],\n",
    "              [  0, -1,  0,  0],\n",
    "              [  0,  0, -1,  6],\n",
    "              [  0,  0,  0, -1]])\n",
    "\n",
    "# Pass the matrix as an argument to the function\n",
    "qubo_solver(Q2)"
   ]
  },
  {
   "cell_type": "markdown",
   "id": "introductory-daughter",
   "metadata": {},
   "source": [
    "We can conclude that $x_1=0$, $x_2 = 1$, $x_3 = 1$ and $x_4 = 0$ minimizes the given objective function."
   ]
  },
  {
   "cell_type": "markdown",
   "id": "illegal-remove",
   "metadata": {},
   "source": [
    "<a id=\"task6\"></a>\n",
    "### Task 6 (Optional)\n",
    "\n",
    "In tasks 3 and 4, the function `qubo_solver()` has been used to compute the optimum vector $x$. Try to define your own version of that function! The function should take in the matrix $Q$ as an argument and return the optimum vector $x$ that minimizes the objective function.\n",
    "\n",
    "<h4> Hints: </h4>\n",
    "<ul>\n",
    "    <li><a href=\"https://docs.python.org/3/library/itertools.html#itertools.product\" target=\"_blank\"> <code>`itertools.product()`</code></a> can be used to compute all the possible permutations of vector $x$ </li>\n",
    "    <li> NumPy can be helpful for matrix multiplication </li>\n",
    "</ul>\n"
   ]
  },
  {
   "cell_type": "markdown",
   "id": "caring-hunger",
   "metadata": {},
   "source": [
    "### Solution\n",
    "\n",
    "The idea is to create all possible vectors $x$ and find out which $x$ minimizes the given objective function."
   ]
  },
  {
   "cell_type": "markdown",
   "id": "likely-paris",
   "metadata": {},
   "source": [
    "Let us start by importing itertools."
   ]
  },
  {
   "cell_type": "code",
   "execution_count": 10,
   "id": "strategic-demand",
   "metadata": {},
   "outputs": [],
   "source": [
    "import itertools"
   ]
  },
  {
   "cell_type": "markdown",
   "id": "wired-truth",
   "metadata": {},
   "source": [
    "Let us check what the following function is doing."
   ]
  },
  {
   "cell_type": "code",
   "execution_count": 12,
   "id": "aware-roller",
   "metadata": {},
   "outputs": [
    {
     "name": "stdout",
     "output_type": "stream",
     "text": [
      "(0, 0, 0, 0)\n",
      "(0, 0, 0, 1)\n",
      "(0, 0, 1, 0)\n",
      "(0, 0, 1, 1)\n",
      "(0, 1, 0, 0)\n",
      "(0, 1, 0, 1)\n",
      "(0, 1, 1, 0)\n",
      "(0, 1, 1, 1)\n",
      "(1, 0, 0, 0)\n",
      "(1, 0, 0, 1)\n",
      "(1, 0, 1, 0)\n",
      "(1, 0, 1, 1)\n",
      "(1, 1, 0, 0)\n",
      "(1, 1, 0, 1)\n",
      "(1, 1, 1, 0)\n",
      "(1, 1, 1, 1)\n"
     ]
    }
   ],
   "source": [
    "for x in itertools.product([0, 1], repeat = 4):\n",
    "    print(x)"
   ]
  },
  {
   "cell_type": "markdown",
   "id": "experienced-russian",
   "metadata": {},
   "source": [
    "We can iterate through all possible values of a binary vector of length 4 using the above function. We will use it in our solution."
   ]
  },
  {
   "cell_type": "code",
   "execution_count": 21,
   "id": "acquired-tactics",
   "metadata": {
    "ExecuteTime": {
     "end_time": "2021-10-09T17:04:21.992117Z",
     "start_time": "2021-10-09T17:04:21.984539Z"
    }
   },
   "outputs": [],
   "source": [
    "def my_qubo_solver(Q_matrix):\n",
    "    # Dimension of matrix Q\n",
    "    n = Q_matrix.shape[0]\n",
    "  \n",
    "    # A list of all the possible values for x vector\n",
    "    x_vectors = itertools.product([0, 1], repeat = n)    \n",
    "    \n",
    "    # Will be used to store the objective function value for different x vectors\n",
    "    possible_values = {}\n",
    "    \n",
    "    for x_vector in x_vectors:\n",
    "        x = np.array([val for val in x_vector])            # Converts the expresssion into a column vector\n",
    "        value = (x.T).dot(Q_matrix).dot(x)                  # Computes xTQx\n",
    "        possible_values[value] = x             # Adds the value and its vector to the dictionary\n",
    "         \n",
    "    min_value = min(possible_values.keys())    # Minimum objective function value\n",
    "    opt_vector = possible_values[min_value]    # Vector x that produces the lowest value\n",
    "     \n",
    "    return f\"The vector {opt_vector} minimizes the objective function to a value of {min_value}.\""
   ]
  },
  {
   "cell_type": "markdown",
   "id": "heard-round",
   "metadata": {},
   "source": [
    "Try with Q2 you have defined earlier."
   ]
  },
  {
   "cell_type": "code",
   "execution_count": 22,
   "id": "eastern-economy",
   "metadata": {},
   "outputs": [
    {
     "data": {
      "text/plain": [
       "'The vector [0 1 1 0] minimizes the objective function to a value of -2.'"
      ]
     },
     "execution_count": 22,
     "metadata": {},
     "output_type": "execute_result"
    }
   ],
   "source": [
    "my_qubo_solver(Q2)"
   ]
  }
 ],
 "metadata": {
  "kernelspec": {
   "display_name": "Python 3 (ipykernel)",
   "language": "python",
   "name": "python3"
  },
  "language_info": {
   "codemirror_mode": {
    "name": "ipython",
    "version": 3
   },
   "file_extension": ".py",
   "mimetype": "text/x-python",
   "name": "python",
   "nbconvert_exporter": "python",
   "pygments_lexer": "ipython3",
   "version": "3.8.10"
  },
  "latex_envs": {
   "LaTeX_envs_menu_present": true,
   "autoclose": true,
   "autocomplete": true,
   "bibliofile": "biblio.bib",
   "cite_by": "apalike",
   "current_citInitial": 1,
   "eqLabelWithNumbers": true,
   "eqNumInitial": 1,
   "hotkeys": {
    "equation": "Ctrl-E",
    "itemize": "Ctrl-I"
   },
   "labels_anchors": false,
   "latex_user_defs": false,
   "report_style_numbering": false,
   "user_envs_cfg": false
  },
  "toc": {
   "base_numbering": 1,
   "nav_menu": {},
   "number_sections": false,
   "sideBar": true,
   "skip_h1_title": false,
   "title_cell": "Table of Contents",
   "title_sidebar": "Contents",
   "toc_cell": false,
   "toc_position": {},
   "toc_section_display": true,
   "toc_window_display": false
  }
 },
 "nbformat": 4,
 "nbformat_minor": 5
}
