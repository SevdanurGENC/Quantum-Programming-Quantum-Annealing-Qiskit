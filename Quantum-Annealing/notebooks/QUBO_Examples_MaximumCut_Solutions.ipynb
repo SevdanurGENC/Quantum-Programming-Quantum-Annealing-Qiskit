{
 "cells": [
  {
   "cell_type": "markdown",
   "id": "antique-subject",
   "metadata": {},
   "source": [
    "<table width = \"100%\">\n",
    "  <tr style=\"background-color:white;\">\n",
    "    <!-- QWorld Logo -->\n",
    "    <td style=\"text-align:left;width:200px;\"> \n",
    "        <a href=\"https://qworld.net/\" target=\"_blank\"><img src=\"../images/QWorld.png\"> </a></td>\n",
    "    <td style=\"text-align:right;vertical-align:bottom;font-size:16px;\"> \n",
    "        Prepared by <a href=\"https://gitlab.com/sabahuddin.ahmad\" target=\"_blank\"> Sabah Ud Din Ahmad </a></td>\n",
    "    </tr> \n",
    " </table>\n",
    " \n",
    "<hr>"
   ]
  },
  {
   "cell_type": "markdown",
   "id": "operating-racing",
   "metadata": {},
   "source": [
    "# <font color=\"blue\"> Solutions for </font> QUBO Formulation for Max-Cut"
   ]
  },
  {
   "cell_type": "markdown",
   "id": "computational-reduction",
   "metadata": {},
   "source": [
    "<a id=\"task1\"></a>\n",
    "### Task 1\n",
    "\n",
    "Verify that the expression $x_i+x_j-2x_ix_j$ gives the values of `edge_count` in the table. \n",
    "\n",
    "|$x_i$ |$x_j$|edge_count$(x_i,x_j)$|Comment|\n",
    "|:-----|:----:|:----:|:----:|\n",
    "|0 |0 |0 |Vertices are in the same group|\n",
    "|0 |1 |1 |Vertices are in different groups|\n",
    "|1 |0 |1 |Vertices are in different groups|\n",
    "|1 |1 |0 |Vertices are in the same group|"
   ]
  },
  {
   "cell_type": "markdown",
   "id": "derived-bunny",
   "metadata": {},
   "source": [
    "<h3> Solution </h3>"
   ]
  },
  {
   "cell_type": "markdown",
   "id": "partial-preparation",
   "metadata": {},
   "source": [
    "$x_i$ and $x_j$ are binary variables and their value can be either 0 or 1. \n",
    "\n",
    "Inserting values in the expression $x_i+x_j-2x_ix_j$,\n",
    "* For $x_i = 0$ and $x_j = 0$, Answer $=0+0-2\\cdot0\\cdot0=0$\n",
    "* For $x_i = 0$ and $x_j = 1$, Answer $=0+1-2\\cdot0\\cdot1=1$\n",
    "* For $x_i = 1$ and $x_j = 0$, Answer $=1+0-2\\cdot1\\cdot0=1$\n",
    "* For $x_i = 1$ and $x_j = 1$, Answer $=1+1-2\\cdot1\\cdot1=0$\n",
    "\n",
    "**So, results of the expression $x_i+x_j-2x_ix_j$ match those of edge_count$(x_i,x_j)$.**"
   ]
  },
  {
   "cell_type": "markdown",
   "id": "utility-siemens",
   "metadata": {},
   "source": [
    "<a id=\"task2\"></a>\n",
    "### Task 2\n",
    "\n",
    "For the given graph, we have some possible cuts as shown below: \n",
    "\n",
    "<img src=\"../images/max-cut5.png\">\n",
    "\n",
    "Identify $x$ and the edge-cut size for each cut. Then, evaluate the value of the objective function with the identified $x$ using QUBO matrix formulation."
   ]
  },
  {
   "cell_type": "markdown",
   "id": "looking-crime",
   "metadata": {},
   "source": [
    "<h3> Solution </h3>"
   ]
  },
  {
   "cell_type": "markdown",
   "id": "sought-rogers",
   "metadata": {},
   "source": [
    "<img src=\"../images/max-cut4.png\">\n",
    "\n",
    "**Note:** The following are equivalent:\n",
    "* $x=(0,1,1,1,1)$ and $x=(1,0,0,0,0)$.\n",
    "* $x=(1,1,1,0,1)$ and $x=(0,0,0,1,0)$.\n",
    "* $x=(1,1,0,0,1)$ and $x=(0,0,1,1,0)$.\n",
    "* $x=(0,1,1,0,0)$ and $x=(1,0,0,1,1)$.\n",
    "\n",
    "The ony difference is in terms of interpretation of the groups."
   ]
  },
  {
   "cell_type": "markdown",
   "id": "moral-nation",
   "metadata": {},
   "source": [
    "For $x=(0,1,1,1,1)$ and an **edge-cut size = 2**, using matrix multiplication,  \n",
    "\n",
    "$$x^T Q x = \n",
    "\\begin{pmatrix}\n",
    "0 & 1 & 1 & 1 & 1\n",
    "\\end{pmatrix}\n",
    "\\begin{pmatrix}\n",
    "-2 & 2 & 2 & 0 & 0\\\\\n",
    "0 & -2 & 0 & 2 & 0\\\\\n",
    "0 & 0 & -3 & 2 & 2\\\\\n",
    "0 & 0 & 0 & -3 & 2\\\\\n",
    "0 & 0 & 0 & 0 & -2\n",
    "\\end{pmatrix}\n",
    "\\begin{pmatrix}\n",
    "0\\\\\n",
    "1\\\\\n",
    "1\\\\\n",
    "1\\\\\n",
    "1\n",
    "\\end{pmatrix}\n",
    "=-2.$$\n",
    "\n",
    "For $x=(1,1,1,0,1)$ and an **edge-cut size = 3**, using matrix multiplication,  \n",
    "\n",
    "$$x^T Q x = \n",
    "\\begin{pmatrix}\n",
    "1 & 1 & 1 & 0 & 1\n",
    "\\end{pmatrix}\n",
    "\\begin{pmatrix}\n",
    "-2 & 2 & 2 & 0 & 0\\\\\n",
    "0 & -2 & 0 & 2 & 0\\\\\n",
    "0 & 0 & -3 & 2 & 2\\\\\n",
    "0 & 0 & 0 & -3 & 2\\\\\n",
    "0 & 0 & 0 & 0 & -2\n",
    "\\end{pmatrix}\n",
    "\\begin{pmatrix}\n",
    "1\\\\\n",
    "1\\\\\n",
    "1\\\\\n",
    "0\\\\\n",
    "1\n",
    "\\end{pmatrix}\n",
    "=-3.$$\n",
    "\n",
    "For $x=(1,1,0,0,1)$ and an **edge-cut size = 4**, using matrix multiplication,  \n",
    "\n",
    "$$x^T Q x = \n",
    "\\begin{pmatrix}\n",
    "1 & 1 & 0 & 0 & 1\n",
    "\\end{pmatrix}\n",
    "\\begin{pmatrix}\n",
    "-2 & 2 & 2 & 0 & 0\\\\\n",
    "0 & -2 & 0 & 2 & 0\\\\\n",
    "0 & 0 & -3 & 2 & 2\\\\\n",
    "0 & 0 & 0 & -3 & 2\\\\\n",
    "0 & 0 & 0 & 0 & -2\n",
    "\\end{pmatrix}\n",
    "\\begin{pmatrix}\n",
    "1\\\\\n",
    "1\\\\\n",
    "0\\\\\n",
    "0\\\\\n",
    "1\n",
    "\\end{pmatrix}\n",
    "=-4.$$\n",
    "\n",
    "For $x=(0,1,1,0,0)$ and an **edge-cut size = 5**, using matrix multiplication,  \n",
    "\n",
    "$$x^T Q x = \n",
    "\\begin{pmatrix}\n",
    "0 & 1 & 1 & 0 & 0\n",
    "\\end{pmatrix}\n",
    "\\begin{pmatrix}\n",
    "-2 & 2 & 2 & 0 & 0\\\\\n",
    "0 & -2 & 0 & 2 & 0\\\\\n",
    "0 & 0 & -3 & 2 & 2\\\\\n",
    "0 & 0 & 0 & -3 & 2\\\\\n",
    "0 & 0 & 0 & 0 & -2\n",
    "\\end{pmatrix}\n",
    "\\begin{pmatrix}\n",
    "0\\\\\n",
    "1\\\\\n",
    "1\\\\\n",
    "0\\\\\n",
    "0\n",
    "\\end{pmatrix}\n",
    "=-5.$$"
   ]
  },
  {
   "cell_type": "markdown",
   "id": "thorough-asian",
   "metadata": {},
   "source": [
    "<a id=\"task3\"></a>\n",
    "### Task 3\n",
    "\n",
    "Input matrix $Q$ given in the example to the function *qubo_solver()* and determine $x$ which minimizes $x^T Qx$ and the corresponding minimum value.\n",
    "\n",
    "$$Q = \\begin{pmatrix}\n",
    "-2 & 2 & 2 & 0 & 0\\\\\n",
    "0 & -2 & 0 & 2 & 0\\\\\n",
    "0 & 0 & -3 & 2 & 2\\\\\n",
    "0 & 0 & 0 & -3 & 2\\\\\n",
    "0 & 0 & 0 & 0 & -2\n",
    "\\end{pmatrix}$$ "
   ]
  },
  {
   "cell_type": "markdown",
   "id": "hollow-claim",
   "metadata": {},
   "source": [
    "<h3> Solution </h3>"
   ]
  },
  {
   "cell_type": "code",
   "execution_count": 1,
   "id": "every-snapshot",
   "metadata": {},
   "outputs": [],
   "source": [
    "#Access the qubo_solver() function\n",
    "%run qubo_functions.py"
   ]
  },
  {
   "cell_type": "code",
   "execution_count": 2,
   "id": "attended-gabriel",
   "metadata": {},
   "outputs": [
    {
     "data": {
      "text/plain": [
       "'The vector (1, 0, 0, 1, 1) minimizes the objective function to a value of -5.'"
      ]
     },
     "execution_count": 2,
     "metadata": {},
     "output_type": "execute_result"
    }
   ],
   "source": [
    "import numpy as np\n",
    "\n",
    "# Define the Q matrix\n",
    "Q = np.array([[ -2,  2,  2,  0,  0],\n",
    "              [  0, -2,  0,  2,  0],\n",
    "              [  0,  0, -3,  2,  2],\n",
    "              [  0,  0,  0, -3,  2],\n",
    "              [  0,  0,  0,  0, -2]])\n",
    "\n",
    "\n",
    "# Pass the matrix as an argument to the function\n",
    "qubo_solver(Q)"
   ]
  },
  {
   "cell_type": "markdown",
   "id": "happy-talent",
   "metadata": {},
   "source": [
    "<a id=\"task4\"></a>\n",
    "### Task 4\n",
    "\n",
    "Let's assume we have a simple network of 5 vertices and 7 edges. \n",
    "\n",
    "<img src=\"../images/max-cut2.png\" width=\"250\">\n",
    "\n",
    "Using the QUBO expression $\\min \\sum_{(i,j) \\in E} -x_i-x_j+2x_ix_j$, determine the matrix $Q$ for this graph. "
   ]
  },
  {
   "cell_type": "markdown",
   "id": "level-chancellor",
   "metadata": {},
   "source": [
    "<h3> Solution </h3>"
   ]
  },
  {
   "cell_type": "markdown",
   "id": "afraid-samoa",
   "metadata": {},
   "source": [
    "Using the QUBO expression $\\min \\sum_{(i,j) \\in E} -x_i-x_j+2x_ix_j$ and summing over the edges, we get the expression\n",
    "\n",
    "$$\\min. (-x_1-x_2+2x_1x_2)+(-x_1-x_3+2x_1x_3)+(-x_2-x_4+2x_2x_4)+(-x_1-x_4+2x_1x_4)+(-x_3-x_4+2x_3x_4)+(-x_3-x_5+2x_3x_5)+(-x_4-x_5+2x_4x_5)$$\n",
    "and simplify as \n",
    "$$\\min. -3x_1-2x_2-3x_3-4x_4-2x_5+2x_1x_2+2x_1x_3+2x_1x_4+2x_2x_4+2x_3x_4+2x_3x_5+2x_4x_5.$$\n",
    "\n",
    "This takes the desired form:\n",
    "\n",
    "$$\\min_{x \\in \\{0,1\\}^5} x^T Q x$$\n",
    "\n",
    "The upper diagonal matrix $Q$ is:\n",
    "\n",
    "$$Q = \\begin{pmatrix}\n",
    "-3 & 2 & 2 & 2 & 0\\\\\n",
    "0 & -2 & 0 & 2 & 0\\\\\n",
    "0 & 0 & -3 & 2 & 2\\\\\n",
    "0 & 0 & 0 & -4 & 2\\\\\n",
    "0 & 0 & 0 & 0 & -2\n",
    "\\end{pmatrix}.$$"
   ]
  },
  {
   "cell_type": "markdown",
   "id": "changing-wheat",
   "metadata": {},
   "source": [
    "<a id=\"task5\"></a>\n",
    "### Task 5\n",
    "\n",
    "Repeat Task 3 for the matrix $Q$ calculated in Task 4.\n",
    "\n",
    "$$Q = \\begin{pmatrix}\n",
    "-3 & 2 & 2 & 2 & 0\\\\\n",
    "0 & -2 & 0 & 2 & 0\\\\\n",
    "0 & 0 & -3 & 2 & 2\\\\\n",
    "0 & 0 & 0 & -4 & 2\\\\\n",
    "0 & 0 & 0 & 0 & -2\n",
    "\\end{pmatrix}.$$"
   ]
  },
  {
   "cell_type": "markdown",
   "id": "charitable-seattle",
   "metadata": {},
   "source": [
    "<h3> Solution </h3>"
   ]
  },
  {
   "cell_type": "code",
   "execution_count": 5,
   "id": "second-syracuse",
   "metadata": {},
   "outputs": [],
   "source": [
    "#Access the qubo_solver() function\n",
    "%run qubo_functions.py"
   ]
  },
  {
   "cell_type": "code",
   "execution_count": 6,
   "id": "brazilian-chosen",
   "metadata": {},
   "outputs": [
    {
     "data": {
      "text/plain": [
       "'The vector (1, 1, 0, 0, 1) minimizes the objective function to a value of -5.'"
      ]
     },
     "execution_count": 6,
     "metadata": {},
     "output_type": "execute_result"
    }
   ],
   "source": [
    "# Define the Q matrix\n",
    "#Assign it the name Q2\n",
    "Q2 = np.array([[ -3,  2,  2,  2,  0],\n",
    "              [  0, -2,  0,  2,  0],\n",
    "              [  0,  0, -3,  2,  2],\n",
    "              [  0,  0,  0, -4,  2],\n",
    "              [  0,  0,  0,  0, -2]])\n",
    "\n",
    "\n",
    "# Pass the matrix as an argument to the function\n",
    "qubo_solver(Q2)"
   ]
  }
 ],
 "metadata": {
  "kernelspec": {
   "display_name": "Python 3",
   "language": "python",
   "name": "python3"
  },
  "language_info": {
   "codemirror_mode": {
    "name": "ipython",
    "version": 3
   },
   "file_extension": ".py",
   "mimetype": "text/x-python",
   "name": "python",
   "nbconvert_exporter": "python",
   "pygments_lexer": "ipython3",
   "version": "3.7.3"
  },
  "latex_envs": {
   "LaTeX_envs_menu_present": true,
   "autoclose": true,
   "autocomplete": true,
   "bibliofile": "biblio.bib",
   "cite_by": "apalike",
   "current_citInitial": 1,
   "eqLabelWithNumbers": true,
   "eqNumInitial": 1,
   "hotkeys": {
    "equation": "Ctrl-E",
    "itemize": "Ctrl-I"
   },
   "labels_anchors": false,
   "latex_user_defs": false,
   "report_style_numbering": false,
   "user_envs_cfg": false
  },
  "toc": {
   "base_numbering": 1,
   "nav_menu": {},
   "number_sections": true,
   "sideBar": true,
   "skip_h1_title": false,
   "title_cell": "Table of Contents",
   "title_sidebar": "Contents",
   "toc_cell": false,
   "toc_position": {},
   "toc_section_display": true,
   "toc_window_display": false
  }
 },
 "nbformat": 4,
 "nbformat_minor": 5
}
