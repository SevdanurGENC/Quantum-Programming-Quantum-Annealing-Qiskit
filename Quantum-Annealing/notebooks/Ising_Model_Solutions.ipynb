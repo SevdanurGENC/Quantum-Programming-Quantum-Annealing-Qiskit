{
 "cells": [
  {
   "cell_type": "markdown",
   "metadata": {},
   "source": [
    "<table width = \"100%\">\n",
    "  <tr style=\"background-color:white;\">\n",
    "    <!-- QWorld Logo -->\n",
    "    <td style=\"text-align:left;width:200px;\"> \n",
    "        <img src=\"../images/QWorld.png\"> </td>\n",
    "    <td style=\"text-align:right;vertical-align:bottom;font-size:16px;\"> \n",
    "        Prepared by <a href=\"https://gitlab.com/pjr1363\" target=\"_blank\"> Paul Joseph Robin </a> and Özlem Salehi</td>\n",
    "    </tr> \n",
    " </table>\n",
    " \n",
    "<hr>"
   ]
  },
  {
   "cell_type": "markdown",
   "metadata": {},
   "source": [
    "# <font color=\"blue\"> Solutions for </font> Ising Model"
   ]
  },
  {
   "cell_type": "markdown",
   "metadata": {},
   "source": [
    "<a id=\"Task1\"></a>\n",
    "### Task 1"
   ]
  },
  {
   "cell_type": "markdown",
   "metadata": {},
   "source": [
    "Given the Ising Model with the following properites, write a function to calculate the energy for different spin assignments and use that function to find the lowest energy state.\n",
    "\n",
    "- There are 3 spins $s_0, s_1, s_2$.\n",
    "- $h_0=4, h_1=2, h_2=-6$.\n",
    "- $J_{0,1}=3, J_{0,2}=-1.3, J_{1,2}=2$\n",
    "\n",
    "Your function should take as input the values for $s_0,s_1,s_2$ and return the energy."
   ]
  },
  {
   "cell_type": "markdown",
   "metadata": {},
   "source": [
    "### Solution"
   ]
  },
  {
   "cell_type": "code",
   "execution_count": 8,
   "metadata": {},
   "outputs": [],
   "source": [
    "def calc_energy(s_0,s_1,s_2):\n",
    "    return 3*s_0*s_1 + -1.3*s_0*s_2 + 2*s_1*s_2 + 4*s_0 + 2*s_1 + -6*s_2 "
   ]
  },
  {
   "cell_type": "code",
   "execution_count": 9,
   "metadata": {},
   "outputs": [
    {
     "name": "stdout",
     "output_type": "stream",
     "text": [
      "Energy for spin configuration [-1, -1, -1] :  3.7\n",
      "Energy for spin configuration [-1, -1, 1] :  -9.7\n",
      "Energy for spin configuration [-1, 1, -1] :  -2.3000000000000007\n",
      "Energy for spin configuration [-1, 1, 1] :  -7.7\n",
      "Energy for spin configuration [1, -1, -1] :  8.3\n",
      "Energy for spin configuration [1, -1, 1] :  -10.3\n",
      "Energy for spin configuration [1, 1, -1] :  14.3\n",
      "Energy for spin configuration [1, 1, 1] :  3.6999999999999993\n",
      "Ground state:  [1, -1, 1]\n",
      "Lowest energy:  -10.3\n"
     ]
    }
   ],
   "source": [
    "configurations = [[-1,-1,-1], [-1,-1,1],[-1,1,-1], [-1,1,1],[1,-1,-1], [1,-1,1],[1,1,-1], [1,1,1]]\n",
    "\n",
    "conf_dict = {}\n",
    "lowest_e = 1000\n",
    "ground_state = []\n",
    "for c in configurations:\n",
    "    e = calc_energy(c[0],c[1],c[2])\n",
    "    print(\"Energy for spin configuration\",c,\": \", e)\n",
    "    if e < lowest_e:\n",
    "        lowest_e = e\n",
    "        ground_state = c\n",
    "print(\"Ground state: \", ground_state)\n",
    "print(\"Lowest energy: \", lowest_e)"
   ]
  },
  {
   "cell_type": "markdown",
   "metadata": {},
   "source": [
    "$s_0=1, s_1=-1, s_2=1$ is the lowest energy configuration corresponding to ground state, with energy -10.3. "
   ]
  },
  {
   "cell_type": "markdown",
   "metadata": {},
   "source": [
    "<a id=\"Task2\"></a>\n",
    "\n",
    "### Task 2\n",
    "\n",
    "Construct an Ising model for the number partitioning problem.\n",
    "\n",
    "Hint: Use $s_i$ to decide the group each number belongs to."
   ]
  },
  {
   "cell_type": "markdown",
   "metadata": {},
   "source": [
    "### Solution"
   ]
  },
  {
   "cell_type": "markdown",
   "metadata": {},
   "source": [
    "Let $m_1$ and $m_2$ be the sum of the elements in group 1 and group 2 respectively.\n",
    "\n",
    "We would like to have $m_1=m_2$. We can express this as an optimization problem where the goal is to minimize $(m_1-m_2)^2$."
   ]
  },
  {
   "cell_type": "markdown",
   "metadata": {},
   "source": [
    "We will use a similar idea as in Max-Cut so that \n",
    "$$s_{i}=\n",
    "\\left\\{\n",
    "\\begin{array}{ll} \n",
    "      1, & \\text{if number $n_i$ is in group 1} \\\\\n",
    "      -1, & \\text{if number $n_i$ is in group 2} \\\\\n",
    "\\end{array}\n",
    "\\right.$$\n"
   ]
  },
  {
   "cell_type": "markdown",
   "metadata": {},
   "source": [
    "With this definition of $s_i$, we can express the Ising model as follows:"
   ]
  },
  {
   "cell_type": "markdown",
   "metadata": {},
   "source": [
    "$$ \\left( \\sum_{i=1}^{N} n_i s_i \\right)^2 .$$ "
   ]
  },
  {
   "cell_type": "markdown",
   "metadata": {},
   "source": [
    "Note that the summation is 0 iff two sets have the same sum and positive otherwise."
   ]
  }
 ],
 "metadata": {
  "kernelspec": {
   "display_name": "Python 3",
   "language": "python",
   "name": "python3"
  },
  "language_info": {
   "codemirror_mode": {
    "name": "ipython",
    "version": 3
   },
   "file_extension": ".py",
   "mimetype": "text/x-python",
   "name": "python",
   "nbconvert_exporter": "python",
   "pygments_lexer": "ipython3",
   "version": "3.7.3"
  }
 },
 "nbformat": 4,
 "nbformat_minor": 4
}
