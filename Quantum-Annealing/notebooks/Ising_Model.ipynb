{
 "cells": [
  {
   "cell_type": "markdown",
   "metadata": {},
   "source": [
    "<table width = \"100%\">\n",
    "  <tr style=\"background-color:white;\">\n",
    "    <!-- QWorld Logo -->\n",
    "    <td style=\"text-align:left;width:200px;\"> \n",
    "        <img src=\"../images/QWorld.png\"> </td>\n",
    "    <td style=\"text-align:right;vertical-align:bottom;font-size:16px;\"> \n",
    "        Prepared by <a href=\"https://gitlab.com/pjr1363\" target=\"_blank\"> Paul Joseph Robin </a> and Özlem Salehi</td>\n",
    "    </tr> \n",
    " </table>\n",
    " \n",
    "<hr>"
   ]
  },
  {
   "cell_type": "markdown",
   "metadata": {},
   "source": [
    "# The Ising Model"
   ]
  },
  {
   "cell_type": "markdown",
   "metadata": {},
   "source": [
    "In this notebook, we will go over the definition of Ising model and see how we can formulate some combinatorial optimization problems using it. \n",
    "\n",
    "Why we focus on Ising model will become clear later on when we learn about quantum annealing."
   ]
  },
  {
   "cell_type": "markdown",
   "metadata": {},
   "source": [
    "## Definition"
   ]
  },
  {
   "cell_type": "markdown",
   "metadata": {},
   "source": [
    "Electrons have a quantum mechanical property called <i> spin</i> which is the angular momentum of the particle. When it is measured, it is either $h/2$ (spin up) or $-h/2$ (spin down) where $h$ is the Planck's constant.\n",
    "\n",
    "An electron’s spin is closely related to its magnetic moment, so that an electron behaves like a tiny bar magnet with a North (N) and a South (S) pole. <i>Ferromagnetism</i> arises when a collection of atomic spins align such that their associated magnetic moments all point in the same direction, and the spins behave like a big magnet with a net macroscopic magnetic moment.\n",
    "\n",
    "\n"
   ]
  },
  {
   "cell_type": "markdown",
   "metadata": {},
   "source": [
    "\n",
    "<figure>\n",
    "    <img src='../images/spin.jpeg' />\n",
    "</figure>\n",
    "\n",
    "<br>\n",
    "<center> <i>Image from General Chemistry, 3rd edition, by Hill and Petrucci"
   ]
  },
  {
   "cell_type": "markdown",
   "metadata": {},
   "source": [
    "The <b>Ising Model</b> is a <i>mathematical model</i> to study ferromagnetism in statistical physics. The Ising model was first proposed by Wilhelm Lenz who gave it as a problem to his graduate student Ernst Ising, after whom this model is named. \n",
    "\n",
    "For simplicity, we will say each spin takes either the value $s=1$ (up) or $s=-1$ down."
   ]
  },
  {
   "cell_type": "markdown",
   "metadata": {},
   "source": [
    "When spins are arranged on a 1-D line, so that each spin interacts only with its right and left neighbors, the model is called the **1-Dimensional Ising Model**.\n",
    "\n",
    "<figure>\n",
    "    <img src='../images/Ising_1D.png' alt='Ising 1 D' />\n",
    "</figure>"
   ]
  },
  {
   "cell_type": "markdown",
   "metadata": {},
   "source": [
    "When the spins are arranged on a 2-D lattice, so that each spin interacts with its right, left, up and down neighbors, the model is also known as the **2-Dimensional Ising model**.\n",
    "\n",
    "<figure>\n",
    "    <img src='../images/Ising_2D.png' alt='Ising 1 D' />\n",
    "</figure>\n"
   ]
  },
  {
   "cell_type": "markdown",
   "metadata": {},
   "source": [
    "The configuration of spins yielding the lowest energy is known as the <i>ground state</i>. It is NP-Hard to find the ground state of a 2-D Ising model. Thus, finding the ground state is as hard as problems like the Max-Cut problem and the Travelling Salesperson problem.\n",
    "\n",
    "Note that spins can be arranged in any other configuration. \n"
   ]
  },
  {
   "cell_type": "markdown",
   "metadata": {},
   "source": [
    "## Energy of the system\n",
    "\n",
    "We would like to express the energy of every possible configuration of the spins in the system. We will assume that all possible couplings are possible between any two spins.\n",
    "\n",
    "- The spins interact with the external magnetic field $h$, if present. \n",
    "- Each spin state (variable) interacts with its neighbours. The <i>coupling strength</i>, of this spin-spin interaction, is characterized by the constant $J$.\n",
    "- Each spin variable $s_i$ take the values $\\{-1,1\\}$.\n",
    "\n",
    "Based on those assumptions, the energy of the Ising Model is given as \n",
    "\n",
    "$$ E_{ising}(\\mathbf{s}) =   \\sum_{i<j} J_{i,j} s_i s_j + \\sum_i h_{i} s_i .$$ \n",
    "\n"
   ]
  },
  {
   "cell_type": "markdown",
   "metadata": {},
   "source": [
    "### Task 1"
   ]
  },
  {
   "cell_type": "markdown",
   "metadata": {},
   "source": [
    "Given the Ising Model with the following properites, write a function to calculate the energy for different spin assignments and use that function to find the lowest energy state.\n",
    "\n",
    "- There are 3 spins $s_0, s_1, s_2$.\n",
    "- $h_0=4, h_1=2, h_2=-6$.\n",
    "- $J_{0,1}=3, J_{0,2}=-1.3, J_{1,2}=2$\n",
    "\n",
    "Your function should take as input the values for $s_0,s_1,s_2$ and return the energy."
   ]
  },
  {
   "cell_type": "code",
   "execution_count": null,
   "metadata": {},
   "outputs": [],
   "source": [
    "def calc_energy(s_0,s_1,s_2):\n",
    "    #your code here"
   ]
  },
  {
   "cell_type": "code",
   "execution_count": null,
   "metadata": {},
   "outputs": [],
   "source": [
    "configurations = [[-1,-1,-1],[-1,-1,1],[-1,1,-1],[-1,1,1],[1,-1,-1],[1,-1,1],[1,1,-1],[1,1,1]]\n",
    "\n",
    "#Your code here"
   ]
  },
  {
   "cell_type": "markdown",
   "metadata": {},
   "source": [
    "<a href=\"Ising_Model_Solutions.ipynb#Task1\">click here for solution</a>"
   ]
  },
  {
   "cell_type": "markdown",
   "metadata": {},
   "source": [
    "---"
   ]
  },
  {
   "cell_type": "markdown",
   "metadata": {},
   "source": [
    "## Ising formulations for combinatorial optimization problems"
   ]
  },
  {
   "cell_type": "markdown",
   "metadata": {},
   "source": [
    "\n",
    "Note that Ising model where we have spin variables instead of binary variables, gives us another tool for expressing combinatorial optimization problems, so that minimizing the energy of the Ising model yields us the optimal solution.\n",
    "\n",
    "We will consider two problems."
   ]
  },
  {
   "cell_type": "markdown",
   "metadata": {},
   "source": [
    "### Max-Cut Problem"
   ]
  },
  {
   "cell_type": "markdown",
   "metadata": {},
   "source": [
    "Max-Cut problem results in a natural Ising model formulation. Let us recall the definition.\n",
    "\n"
   ]
  },
  {
   "cell_type": "markdown",
   "metadata": {},
   "source": [
    "Given a graph, the problem requires splitting the vertices/nodes into two disjoint groups so that there are as many edges as possible between the groups. The partition of two adjacent vertices into disjoint sets is called a cut. The goal of this problem is to find a cut in such a way that the cut covers the maximum number of edges."
   ]
  },
  {
   "cell_type": "markdown",
   "metadata": {},
   "source": [
    "Like in QUBO formulation, first we will decide what our spin variables represent. For each vertex $i$, we will use a spin variable $s_i$ to decide which group it should belong to:\n",
    "\n",
    "$$s_{i}=\n",
    "\\left\\{\n",
    "\\begin{array}{ll} \n",
    "      1, & \\text{if vertex $i$ is in Group 1} \\\\\n",
    "      -1, & \\text{if vertex $i$ is in Group 2} \\\\\n",
    "\\end{array}\n",
    "\\right.$$\n",
    "\n",
    "**Our objective is to maximize the number of edges in the cut.**\n"
   ]
  },
  {
   "cell_type": "markdown",
   "metadata": {},
   "source": [
    "Note that for en edge $(i,j)$, $s_is_j=1$ if the vertices are in the same group and $s_is_j=-1$ otherwise. \n",
    "\n",
    "Hence, we can express the exact number of edges in the cut as $ \\frac{1}{2} \\sum_{(i, j) \\in E} (1 - s_is_j)$, which is a maximation problem. The equivalent minimization problem is given by \n",
    "\n",
    "$$ \\min  \\frac{1}{2} \\sum_{(i, j) \\in E} (s_is_j-1).$$\n",
    "\n",
    "Note that in practice, it would be enough to minimize \n",
    "\n",
    "$$\\min \\sum_{(i,j) \\in E} s_is_j.$$\n",
    "\n",
    "So, the spin configuration minimizing the energy of the above problem yields the optimal solution to the max-cut problem."
   ]
  },
  {
   "cell_type": "markdown",
   "metadata": {},
   "source": [
    "### Number partitioning problem"
   ]
  },
  {
   "cell_type": "markdown",
   "metadata": {},
   "source": [
    "Given $N$ positive numbers $S = \\{n_1, n_2, ... , n_N\\}$, consider a partition into two disjoint subsets $S_1$ and $S_2$ such that **the sum of elements in both subsets is the same**.\n",
    "\n",
    "This is more a decision problem than an optimization problem, where we ask the question whether two such subsets exist.\n",
    "\n",
    "Still, you can consider this as an optimization problem, by trying to minimize the difference between the sum of the two subsets. If this difference is 0, this means there is a solution to the problem."
   ]
  },
  {
   "cell_type": "markdown",
   "metadata": {},
   "source": [
    "### Task 2\n",
    "\n",
    "Construct an Ising model for the number partitioning problem.\n",
    "\n",
    "Hint: Use $s_i$ to decide the group each number belongs to."
   ]
  },
  {
   "cell_type": "markdown",
   "metadata": {},
   "source": [
    "<a href=\"Ising_Model_Solutions.ipynb#Task2\">click here for solution</a>"
   ]
  },
  {
   "cell_type": "markdown",
   "metadata": {},
   "source": [
    "---\n",
    "### References\n",
    "1. Classical Ising Model *(Quantum Machine Learning MOOC: Peter Wittek)* &nbsp;&nbsp; [[YouTube: (5:35 mins)]](https://youtu.be/Wy9YoEYv-fA)\n",
    "2. Ising Model *(Prof. G. Ceder)* &nbsp;&nbsp; [[Ceder Group, MIT]](http://web.mit.edu/ceder/publications/Ising%20Model.pdf)\n",
    "<!--2. Handout 12: Ising Model *(ME346A Introduction to Statistical Mechanics: Wei Cai)* &nbsp;&nbsp; [[Stanford University]](http://micro.stanford.edu/~caiwei/me334/Chap12_Ising_Model_v04.pdf) -->\n",
    "<!--3. Ising Model: Connection to graph maximum cut &nbsp;&nbsp; [[Wikipedia]](https://en.wikipedia.org/wiki/Ising_model#Connection_to_graph_maximum_cut)-->\n",
    "3. An Application of Combinatorial Optimization to Statistical Physics and Circuit Layout Design *(Francisco Barahona, Martin Grötschel, Michael Jünger and Gerhard Reinelt )* &nbsp;&nbsp; [[JSTOR]](http://www.jstor.org/stable/170992)\n",
    "4. Ising formulations of many NP problems *(Andrew Lucas)* [[Frontiers: Open Access]](https://www.frontiersin.org/articles/10.3389/fphy.2014.00005/full)\n",
    "5. Quantum Bridge Analytics I: A Tutorial on Formulating and Using QUBO Models *(Fred Glover, Gary Kochenberger, Yu Du)* [[arXiv Preprint]](https://arxiv.org/abs/1811.11538)\n",
    "6. Richard Fitzpatrick Lecture Notes [[The Ising Model]](https://farside.ph.utexas.edu/teaching/329/lectures/node110.html#:~:text=Ferromagnetism%20arises%20when%20a%20collection,is%20called%20the%20Ising%20model)\n"
   ]
  }
 ],
 "metadata": {
  "kernelspec": {
   "display_name": "Python 3",
   "language": "python",
   "name": "python3"
  },
  "language_info": {
   "codemirror_mode": {
    "name": "ipython",
    "version": 3
   },
   "file_extension": ".py",
   "mimetype": "text/x-python",
   "name": "python",
   "nbconvert_exporter": "python",
   "pygments_lexer": "ipython3",
   "version": "3.7.3"
  }
 },
 "nbformat": 4,
 "nbformat_minor": 4
}
