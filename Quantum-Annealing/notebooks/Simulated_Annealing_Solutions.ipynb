{
 "cells": [
  {
   "cell_type": "markdown",
   "id": "34baf83a",
   "metadata": {},
   "source": [
    "<table width = \"100%\">\n",
    "  <tr style=\"background-color:white;\">\n",
    "    <!-- QWorld Logo -->\n",
    "    <td style=\"text-align:left;width:200px;\"> \n",
    "        <a href=\"https://qworld.net/\" target=\"_blank\"><img src=\"../images/QWorld.png\"> </a></td>\n",
    "    <td style=\"text-align:right;vertical-align:bottom;font-size:16px;\"> \n",
    "        Prepared by Özlem Salehi </a></td>    \n",
    "</table>\n",
    "<hr>"
   ]
  },
  {
   "cell_type": "markdown",
   "id": "097fdeb6",
   "metadata": {},
   "source": [
    "# <font color=\"blue\"> Solutions for </font> Simulated Annealing"
   ]
  },
  {
   "cell_type": "markdown",
   "id": "existing-cylinder",
   "metadata": {},
   "source": [
    "### Task 1\n",
    "\n",
    "Find out what assignment of $x_1$ and $x_2$ minimizes the following objective function using simulated annealing. Set number of reads to 1000.\n",
    "\n",
    "$$5x_1 + 7x_1 x_2 - 3x_2 + 2$$"
   ]
  },
  {
   "cell_type": "markdown",
   "id": "e5326d64",
   "metadata": {},
   "source": [
    "### Solution"
   ]
  },
  {
   "cell_type": "code",
   "execution_count": 4,
   "id": "c23120a9",
   "metadata": {},
   "outputs": [
    {
     "name": "stdout",
     "output_type": "stream",
     "text": [
      "Sample(sample={'x1': 0, 'x2': 1}, energy=-1.0, num_occurrences=1)\n"
     ]
    }
   ],
   "source": [
    "from dimod import BQM\n",
    "\n",
    "linear = {'x1': 5, 'x2': -3}\n",
    "quadratic = {('x1', 'x2'): 7}\n",
    "offset = 2\n",
    "vartype = 'BINARY'\n",
    "\n",
    "bqm = BQM(linear, quadratic, offset, vartype)\n",
    "sampleset = sampler.sample(bqm, num_reads=1000)\n",
    "print(sampleset.first)"
   ]
  },
  {
   "cell_type": "markdown",
   "id": "9df26f4a",
   "metadata": {},
   "source": [
    "$x_1=0$ and $x_2=1$ minimizes the objective function. "
   ]
  },
  {
   "cell_type": "markdown",
   "id": "3928ec84",
   "metadata": {},
   "source": [
    "### Task 2\n",
    "\n",
    "Use simulated annealing to find out the assignment that gives the minimum energy for the following QUBO dictionary. Set number of reads to 1000."
   ]
  },
  {
   "cell_type": "markdown",
   "id": "7b9cad27",
   "metadata": {},
   "source": [
    "### Solution"
   ]
  },
  {
   "cell_type": "code",
   "execution_count": 5,
   "id": "602bbac9",
   "metadata": {},
   "outputs": [],
   "source": [
    "Q_dict = {\n",
    "    (\"x1\", \"x1\"): 3,\n",
    "    (\"x2\", \"x2\"): -7,\n",
    "    (\"x3\", \"x3\"): 11,\n",
    "    (\"x4\", \"x4\"): -1,\n",
    "    (\"x1\", \"x2\"): 9,\n",
    "    (\"x1\", \"x3\"): 1,\n",
    "    (\"x2\", \"x3\"): 2,\n",
    "    (\"x3\", \"x4\"): 8,\n",
    "}"
   ]
  },
  {
   "cell_type": "code",
   "execution_count": 6,
   "id": "81c87c48",
   "metadata": {},
   "outputs": [
    {
     "name": "stdout",
     "output_type": "stream",
     "text": [
      "Sample(sample={'x1': 0, 'x2': 1, 'x3': 0, 'x4': 1}, energy=-8.0, num_occurrences=1)\n"
     ]
    }
   ],
   "source": [
    "sampleset = sampler.sample_qubo(Q_dict, num_reads=1000)\n",
    "print(sampleset.first)"
   ]
  },
  {
   "cell_type": "markdown",
   "id": "ab149e4b",
   "metadata": {},
   "source": [
    "### Task 3\n",
    "\n",
    "Use simulated annealing to find out the assignment that gives the minimum energy for the following Ising Model defined through `h` and `J` parameters. Set number of reads to 1000. \n",
    "\n"
   ]
  },
  {
   "cell_type": "code",
   "execution_count": 7,
   "id": "444f349a",
   "metadata": {},
   "outputs": [],
   "source": [
    "h = {'s1': 3, 's2': 1,'s3': 4, 's4': 2}\n",
    "J = {('s1', 's2'): 4, ('s1', 's3'): 1, ('s1', 's4'): 6, ('s3', 's4'): 7}"
   ]
  },
  {
   "cell_type": "code",
   "execution_count": 8,
   "id": "7491de76",
   "metadata": {},
   "outputs": [
    {
     "name": "stdout",
     "output_type": "stream",
     "text": [
      "Sample(sample={'s1': -1, 's2': 1, 's3': -1, 's4': 1}, energy=-20.0, num_occurrences=1)\n"
     ]
    }
   ],
   "source": [
    "sampleset = sampler.sample_ising(h, J, num_reads=1000)\n",
    "print(sampleset.first)"
   ]
  }
 ],
 "metadata": {
  "kernelspec": {
   "display_name": "Python 3",
   "language": "python",
   "name": "python3"
  },
  "language_info": {
   "codemirror_mode": {
    "name": "ipython",
    "version": 3
   },
   "file_extension": ".py",
   "mimetype": "text/x-python",
   "name": "python",
   "nbconvert_exporter": "python",
   "pygments_lexer": "ipython3",
   "version": "3.7.3"
  }
 },
 "nbformat": 4,
 "nbformat_minor": 5
}
