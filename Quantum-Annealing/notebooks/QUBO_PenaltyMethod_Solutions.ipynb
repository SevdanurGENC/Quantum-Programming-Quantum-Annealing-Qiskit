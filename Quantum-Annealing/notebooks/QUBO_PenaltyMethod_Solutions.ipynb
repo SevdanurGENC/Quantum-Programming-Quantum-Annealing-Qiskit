{
 "cells": [
  {
   "cell_type": "markdown",
   "id": "3339a464",
   "metadata": {},
   "source": [
    "<table width = \"100%\">\n",
    "  <tr style=\"background-color:white;\">\n",
    "    <!-- QWorld Logo -->\n",
    "    <td style=\"text-align:left;width:200px;\"> \n",
    "        <a href=\"https://qworld.net/\" target=\"_blank\"><img src=\"../images/QWorld.png\"> </a></td>\n",
    "    <td style=\"text-align:right;vertical-align:bottom;font-size:16px;\"> \n",
    "        Prepared by <a href=\"https://gitlab.com/sabahuddin.ahmad\" target=\"_blank\"> Sabah Ud Din Ahmad </a></td>\n",
    "    </tr> \n",
    " </table>\n",
    " \n",
    "<hr>"
   ]
  },
  {
   "cell_type": "markdown",
   "id": "a4966193",
   "metadata": {},
   "source": [
    "# <font color=\"blue\"> Solutions for </font> QUBO Formulation with Penalty Method"
   ]
  },
  {
   "cell_type": "markdown",
   "id": "3702ff41",
   "metadata": {},
   "source": [
    "<a id=\"task1\"></a>\n",
    "### Task 1\n",
    "\n",
    "Consider the objective function $f(x_1,x_2) = 5x_1 + 7x_1x_2 - 3x_2$. Find $x_1$ and $x_2$ that minimizes $f(x_1,x_2)$ subject to the constraint $x_1-x_2 = 0$. "
   ]
  },
  {
   "cell_type": "markdown",
   "id": "5f10b1a0",
   "metadata": {},
   "source": [
    "<h3> Solution </h3>"
   ]
  },
  {
   "cell_type": "markdown",
   "id": "d199f9f0",
   "metadata": {},
   "source": [
    "Due to constraint $x_1-x_2=0$, we can only consider two cases:\n",
    "\n",
    "- $x_1 = 0$ and $x_2 = 0$\n",
    "\n",
    "    $f(0, 0) = 5(0) + 7(0)(0) - 3(0) = 0$\n",
    "\n",
    "\n",
    "- $x_1 = 1$ and $x_2 = 1$\n",
    "\n",
    "    $f(1, 1) = 5(1) + 7(1)(1) - 3(1) = 9$\n"
   ]
  },
  {
   "cell_type": "markdown",
   "id": "373c5432",
   "metadata": {},
   "source": [
    "Hence, we can conclude that $x_1=0$ and $x_2=0$ is the optimal solution."
   ]
  },
  {
   "cell_type": "markdown",
   "id": "fb556038",
   "metadata": {},
   "source": [
    "<a id=\"task2\"></a>\n",
    "### Task 2\n",
    "\n",
    "Consider an objective function of the form $f(x_1,x_2)$ which is subjected to the constraint $x_1+ x_2 \\leq 1$. What will be the equivalent penalty for this problem? Express the problem as a QUBO."
   ]
  },
  {
   "cell_type": "markdown",
   "id": "e7a3793b",
   "metadata": {},
   "source": [
    "<h3> Solution </h3>"
   ]
  },
  {
   "cell_type": "markdown",
   "id": "23dfd626",
   "metadata": {},
   "source": [
    "From the table, the equivalent quadratic penalty is:\n",
    "\n",
    "$$P \\cdot x_1x_2$$\n",
    "\n",
    "For a sufficiently large value of $P$, the form of the unconstrained problem is:\n",
    "\n",
    "$$ f(x_1,x_2)+P\\cdot x_1x_2$$.\n",
    "\n",
    "Note that the solutions in which both $x_1$ and $x_2$ equal 1 will be avoided in the optimization process. If this happens, penalty $P$ is added to the objective function."
   ]
  },
  {
   "cell_type": "markdown",
   "id": "4d9ee3bc",
   "metadata": {},
   "source": [
    "<a id=\"task3\"></a>\n",
    "### Task 3\n",
    "\n",
    "Consider an objective function of the form $f(x_1,x_2)$ which is subjected to the constraint $x_1+ x_2 = 1$. What will be the equivalent penalty for this problem? Express the problem as a QUBO."
   ]
  },
  {
   "cell_type": "markdown",
   "id": "ae1e0611",
   "metadata": {},
   "source": [
    "<h3> Solution </h3>"
   ]
  },
  {
   "cell_type": "markdown",
   "id": "0a6a3d0e",
   "metadata": {},
   "source": [
    "From the table, the equivalent quadratic penalty is:\n",
    "\n",
    "$$P\\cdot (1-x_1-x_2+2x_1x_2)$$\n",
    "\n",
    "For a sufficiently large value of $P$, the form of the unconstrained problem is:\n",
    "\n",
    "$$f(x_1,x_2)+P \\cdot (1-x_1-x_2+2x_1x_2)$$."
   ]
  },
  {
   "cell_type": "markdown",
   "id": "89c81f71",
   "metadata": {},
   "source": [
    "<a id=\"task4\"></a>\n",
    "### Task 4\n",
    "\n",
    "Express the constrained problem given in Task 1 using the appropriate constraint from the table above."
   ]
  },
  {
   "cell_type": "markdown",
   "id": "0e31f0b5",
   "metadata": {},
   "source": [
    "<h3> Solution </h3>"
   ]
  },
  {
   "cell_type": "markdown",
   "id": "904f0661",
   "metadata": {},
   "source": [
    "We have the constraint $x_1-x_2=0$ which is equivalent to $x_1=x_2$. The corresponding penalty term is $P\\cdot(x_1+x_2−2x_1x_2)$. Hence we get the following QUBO formulation:\n",
    "\n",
    "$$5x_1+7x_1x_2 - 3x_2 + P\\cdot(x_1+x_2−2x_1x_2).$$"
   ]
  },
  {
   "cell_type": "markdown",
   "id": "5b07b80b",
   "metadata": {},
   "source": [
    "<a id=\"task4\"></a>\n",
    "### Task 5\n",
    "\n",
    "Let $f(x_1,x_2,x_3)=-5x_1-2x_1x_2 -3x_3$ which is subjected to the constraint $x_1+ x_2 + x_3 = 1$. Express the problem as a QUBO using the penalty method."
   ]
  },
  {
   "cell_type": "markdown",
   "id": "46664816",
   "metadata": {},
   "source": [
    "<h3> Solution </h3>"
   ]
  },
  {
   "cell_type": "markdown",
   "id": "3a429abd",
   "metadata": {},
   "source": [
    "Using the penalty method we obtain the following QUBO formulation:\n",
    "    \n",
    "$$ -5x_1-2x_1x_2 -3x_3 + P \\cdot (x_1+x_2+x_3-1)^2.$$\n",
    "\n",
    "Let us write the QUBO in open form.\n",
    "\n",
    "$$ -5x_1-2x_1x_2 -3x_3 + P \\cdot (x_1^2+2x_1x_2+2x_1x_3-2x_1+x_2^2+2x_2x_3-2x_2+x_3^2-2x_3 +1)$$\n",
    "\n",
    "$$= -5x_1-2x_1x_2 -3x_3 + P \\cdot (2x_1x_2+2x_1x_3-x_1+2x_2x_3-x_2-x_3 +1)$$\n",
    "\n",
    "$$= (-5-P)x_1 + (-2+2P)x_1x_2 + (-3 -P) x_3 + 2Px_1x_3+2Px_2x_3-Px_2 +P.$$"
   ]
  },
  {
   "cell_type": "markdown",
   "id": "ad16b18d",
   "metadata": {},
   "source": [
    "<a id=\"task6\"></a>\n",
    "\n",
    "### Task 6\n",
    "\n",
    "For the QUBO formulation you obtained in Task 5,\n",
    "- Form the $Q$ matrix\n",
    "- Try setting different values for $P$ and call the `test_penalty` function. \n",
    "\n",
    "What is the minimum possible value for $P$ so that no constraint is violated? Evaluate the results.\n",
    "\n",
    "Note: Don't forget to add the constant term to get the real objective function value after getting the result from `qubo_solver`."
   ]
  },
  {
   "cell_type": "markdown",
   "id": "f5ec4af7",
   "metadata": {},
   "source": [
    "### Solution"
   ]
  },
  {
   "cell_type": "code",
   "execution_count": 1,
   "id": "a3ab185c",
   "metadata": {},
   "outputs": [],
   "source": [
    "%run qubo_functions.py"
   ]
  },
  {
   "cell_type": "code",
   "execution_count": 2,
   "id": "0925f5cc",
   "metadata": {},
   "outputs": [],
   "source": [
    "import numpy as np\n",
    "def test_penalty(P):\n",
    "    #Populate the Q matrix\n",
    "    Q = np.array([[-5-P ,-2+2*P ,2*P ],\n",
    "                  [ 0, -P ,2*P ],\n",
    "                  [ 0, 0,-3-P ]])\n",
    "    return qubo_solver(Q)"
   ]
  },
  {
   "cell_type": "code",
   "execution_count": 3,
   "id": "b2729a89",
   "metadata": {},
   "outputs": [
    {
     "name": "stdout",
     "output_type": "stream",
     "text": [
      "Penalty: 0 The vector (1, 1, 1) minimizes the objective function to a value of -10.\n",
      "Penalty: 1 The vector (1, 0, 1) minimizes the objective function to a value of -8.\n",
      "Penalty: 2 The vector (1, 0, 1) minimizes the objective function to a value of -8.\n",
      "Penalty: 3 The vector (1, 0, 1) minimizes the objective function to a value of -8.\n",
      "Penalty: 4 The vector (1, 0, 0) minimizes the objective function to a value of -9.\n",
      "Penalty: 5 The vector (1, 0, 0) minimizes the objective function to a value of -10.\n",
      "Penalty: 6 The vector (1, 0, 0) minimizes the objective function to a value of -11.\n",
      "Penalty: 7 The vector (1, 0, 0) minimizes the objective function to a value of -12.\n",
      "Penalty: 8 The vector (1, 0, 0) minimizes the objective function to a value of -13.\n",
      "Penalty: 9 The vector (1, 0, 0) minimizes the objective function to a value of -14.\n"
     ]
    }
   ],
   "source": [
    "for P in range (10):\n",
    "    print(\"Penalty:\",P, test_penalty(P))"
   ]
  },
  {
   "cell_type": "markdown",
   "id": "24b5fdcd",
   "metadata": {},
   "source": [
    "If the penalty value is 0, this means we are omitting the constraint. \n",
    "For the penalty values between 1 and 3, we observe that the constraint is violated as both $x_1=1$ and $x_3=1$.\n",
    "When $P=4$, we observe that the constraint is not violated. The objective value is $-9+4=5$.\n",
    "\n",
    "Note that for larger values of $P$, we still have the same objective value. (In future notebooks, you will see that the optimization algorithm may fail to optimize the function if penalty is too large)\n",
    "\n",
    "Hence, we can conclude that $P=4$ is the smallest value for obtaining a feasible solution.\n"
   ]
  },
  {
   "cell_type": "markdown",
   "id": "abe61825",
   "metadata": {},
   "source": [
    "<a id=\"task7\"></a>\n",
    "### Task 7\n",
    "\n",
    "Consider the following constraint $y_1+ y_2 \\geq 10$, where $y_1$ and $y_2$ are integer variables and $0 \\leq y_1 \\leq 8$ and $0 \\leq y_2 \\leq 5$. What will be the equivalent penalty? \n",
    "\n",
    "Suppose that $f(y_1, y_2)$ is the objective function to be minimized, what will be the new objective function including the penalty? "
   ]
  },
  {
   "cell_type": "markdown",
   "id": "b169c78a",
   "metadata": {},
   "source": [
    "<h3> Solution </h3>"
   ]
  },
  {
   "cell_type": "markdown",
   "id": "35fb7e00",
   "metadata": {},
   "source": [
    "Let's convert the inequality to an equality by introducing a slack variable.\n",
    "\n",
    "$$y_1 + y_2 - \\eta =10$$\n",
    "\n",
    "The objective function (including the penalty term) is,\n",
    "\n",
    "$$f(y_1,y_2)+P \\cdot \\left(y_1+y_2-\\eta-10\\right)^2$$"
   ]
  },
  {
   "cell_type": "markdown",
   "id": "f7fb2b48",
   "metadata": {},
   "source": [
    "Next, we will transform integer variables into binary variables. Let us recall the bounds for $\\eta$:\n",
    "\n",
    "$$0\\leq \\eta \\leq - \\left(b-\\sum_{i=1}^{k} \\min \\{a_i\\underline{\\rm y_i}, a_i\\overline{\\rm y_i}\\}\\right)$$\n",
    "where $\\underline{\\rm y_1} = 0$, $\\underline{\\rm y_2} = 0$, $\\overline{\\rm y_1}=8$, $\\overline{\\rm y_2}=5$ and $b=10$. Hence,\n",
    "\n",
    "$$0\\leq \\eta \\leq - \\left(10-\\min \\{0,8\\}+\\min \\{0,5\\}\\right)$$\n",
    "and\n",
    "$$0\\leq \\eta \\leq 10.$$"
   ]
  },
  {
   "cell_type": "markdown",
   "id": "5068b4ab",
   "metadata": {},
   "source": [
    "We will now convert the integer variables to binary variables. \n",
    "\n",
    "$$y_1 = \\sum_{j=0}^{3} 2^j x^1_j $$\n",
    "$$y_2 = \\sum_{j=0}^{2} 2^j x^2_j $$\n",
    "$$\\eta = \\sum_{j=0}^{3} 2^j x^\\eta_j $$\n",
    "\n",
    "The objective function after transformation of variables is,\n",
    "$$f(x^1_0,x^1_1,x^1_2,x^1_3,x^2_0,x^2_1,x^2_2,x^\\eta_0,x^\\eta_1,x^\\eta_2,x^\\eta_3)+P \\cdot \\left(\\sum_{j=0}^{3} 2^j x^1_j+\\sum_{j=0}^{2} 2^j x^2_j-\\sum_{j=0}^{3} 2^j x^\\eta_j-10\\right)^2$$"
   ]
  }
 ],
 "metadata": {
  "kernelspec": {
   "display_name": "Python 3",
   "language": "python",
   "name": "python3"
  },
  "language_info": {
   "codemirror_mode": {
    "name": "ipython",
    "version": 3
   },
   "file_extension": ".py",
   "mimetype": "text/x-python",
   "name": "python",
   "nbconvert_exporter": "python",
   "pygments_lexer": "ipython3",
   "version": "3.7.3"
  },
  "latex_envs": {
   "LaTeX_envs_menu_present": true,
   "autoclose": true,
   "autocomplete": true,
   "bibliofile": "biblio.bib",
   "cite_by": "apalike",
   "current_citInitial": 1,
   "eqLabelWithNumbers": true,
   "eqNumInitial": 1,
   "hotkeys": {
    "equation": "Ctrl-E",
    "itemize": "Ctrl-I"
   },
   "labels_anchors": false,
   "latex_user_defs": false,
   "report_style_numbering": false,
   "user_envs_cfg": false
  },
  "toc": {
   "base_numbering": 1,
   "nav_menu": {},
   "number_sections": true,
   "sideBar": true,
   "skip_h1_title": false,
   "title_cell": "Table of Contents",
   "title_sidebar": "Contents",
   "toc_cell": false,
   "toc_position": {},
   "toc_section_display": true,
   "toc_window_display": false
  }
 },
 "nbformat": 4,
 "nbformat_minor": 5
}
