{
 "cells": [
  {
   "cell_type": "markdown",
   "id": "da3d6c2d",
   "metadata": {},
   "source": [
    "<table width = \"100%\">\n",
    "  <tr style=\"background-color:white;\">\n",
    "    <!-- QWorld Logo -->\n",
    "    <td style=\"text-align:left;width:200px;\"> \n",
    "        <a href=\"https://qworld.net/\" target=\"_blank\"><img src=\"../images/QWorld.png\"> </a></td>\n",
    "    <td style=\"text-align:right;vertical-align:bottom;font-size:16px;\"> \n",
    "        Prepared by <a href=\"https://gitlab.com/sabahuddin.ahmad\" target=\"_blank\"> Sabah Ud Din Ahmad </a></td>\n",
    "    </tr> \n",
    " </table>\n",
    " \n",
    "<hr>"
   ]
  },
  {
   "cell_type": "markdown",
   "id": "f005379f",
   "metadata": {},
   "source": [
    "# QUBO Formulation with Penalty Method"
   ]
  },
  {
   "cell_type": "markdown",
   "id": "f35da50a",
   "metadata": {},
   "source": [
    "In the previous section, we learnt about the maximum cut problem where the problem characteristics led directly to an optimazation problem in the desired QUBO form. The natural QUBO form contains no constraints. \n",
    "\n",
    "However, there are many problems that include constraints that must be satisfied to reach an optimum solution. Many of these constrained problems can be reconverted to formulate the desired QUBO form using a method known as **penalty method**."
   ]
  },
  {
   "cell_type": "markdown",
   "id": "fb9247a2",
   "metadata": {},
   "source": [
    "## Constrained problems"
   ]
  },
  {
   "cell_type": "markdown",
   "id": "e51dc5f0",
   "metadata": {},
   "source": [
    "In constrained problems, a set of constraints need to be satisfied while minimizing an objective function."
   ]
  },
  {
   "cell_type": "markdown",
   "id": "4602f413",
   "metadata": {},
   "source": [
    "### Task 1\n",
    "\n",
    "Consider the objective function $f(x_1,x_2) = 5x_1 + 7x_1x_2 - 3x_2$. Find $x_1$ and $x_2$ that minimizes $f(x_1,x_2)$ subject to the constraint $x_1-x_2 = 0$. "
   ]
  },
  {
   "cell_type": "markdown",
   "id": "e21925fe",
   "metadata": {},
   "source": [
    "[click here for solution](QUBO_PenaltyMethod_Solutions.ipynb#task1)"
   ]
  },
  {
   "cell_type": "markdown",
   "id": "728a3bc5",
   "metadata": {},
   "source": [
    "## Penalty method"
   ]
  },
  {
   "cell_type": "markdown",
   "id": "a9797076",
   "metadata": {},
   "source": [
    "Using the penalty method, a constrained optimization problem can be converted into an unconstrained problem.\n",
    "\n",
    "To create the corresponding unconstrained problem, **penalty terms** are added to the original objective function. Suppose that $f(x)$ is the objective function to be minimized. Then we obtain\n",
    "\n",
    "$$\n",
    "f(x) + \\sum_i P_i \\cdot g_i(x),\n",
    "$$\n",
    "which becomes the new objective function to be minimized. Here, $g_i(x)$ is the penalty term and $P_i$ is the corresponding penalty coefficient. For each constraint $i$, the term $g_i(x)$  formulated so that it is equal to zero if the constraint is not violated and it is a positive value otherwise.\n",
    "\n",
    "The **penalty coefficient** $P_i$ is a positive scalar which determines the how severly the objective function is increased in case the constraint is violated. More insight about choosing $P_i$ is given in the rest of the notebook."
   ]
  },
  {
   "cell_type": "markdown",
   "id": "85210b82",
   "metadata": {},
   "source": [
    "<a id=\"cases\"></a>\n",
    "### Specific Cases\n",
    "\n",
    "For specific constraints, there are some useful known quadratic penalty terms that can be added to the objective function.\n",
    "\n",
    "|Classical Constraint|    Equivalent Quadratic Penalty         |\n",
    "|:-----|:-----------|\n",
    "|$x+y \\leq 1$ |$xy$ |\n",
    "|$x+y \\geq 1$ |$1-x-y+xy$|\n",
    "|$x+y=1$ |$1-x-y+2xy$ |\n",
    "|$x \\leq y$ |$x-xy$ |\n",
    "|$x_1+ x_2+x_3 \\leq 1$ |$x_1x_2+x_1x_3+x_2x_3$ |\n",
    "|$x=y$ |$x+y-2xy$ |\n",
    "\n",
    "<div class=\"alert alert-block alert-info\">All variables here are binary variables. Note that penalty term evaluates to 0 iff corresponding constraint is satisfied.</div>"
   ]
  },
  {
   "cell_type": "markdown",
   "id": "b7b17a75",
   "metadata": {},
   "source": [
    "### Task 2\n",
    "\n",
    "Consider an objective function of the form $f(x_1,x_2)$ which is subjected to the constraint $x_1+ x_2 \\leq 1$. Express the problem as a QUBO. \n",
    "\n",
    "Note: You can leave penalty coefficient as $P$, you don't need to choose a specific value for this task."
   ]
  },
  {
   "cell_type": "markdown",
   "id": "74e835ec",
   "metadata": {},
   "source": [
    "[click here for solution](QUBO_PenaltyMethod_Solutions.ipynb#task2)\n"
   ]
  },
  {
   "cell_type": "markdown",
   "id": "26e940e2",
   "metadata": {},
   "source": [
    "### Task 3\n",
    "\n",
    "Consider an objective function of the form $f(x_1,x_2)$ which is subjected to the constraint $x_1+ x_2 = 1$. Express the problem as a QUBO.\n",
    "\n",
    "Note: You can leave penalty coefficient as $P$, you don't need to choose a specific value for this task."
   ]
  },
  {
   "cell_type": "markdown",
   "id": "5baf889f",
   "metadata": {},
   "source": [
    "[click here for solution](QUBO_PenaltyMethod_Solutions.ipynb#task3)\n"
   ]
  },
  {
   "cell_type": "markdown",
   "id": "ecc3a75f",
   "metadata": {},
   "source": [
    "### Task 4\n",
    "\n",
    "Express the constrained problem given in Task 1 as a QUBO.\n",
    "\n",
    "Note: You can leave penalty coefficient as $P$, you don't need to choose a specific value for this task."
   ]
  },
  {
   "cell_type": "markdown",
   "id": "1e480ce9",
   "metadata": {},
   "source": [
    "[click here for solution](QUBO_PenaltyMethod_Solutions.ipynb#task4)"
   ]
  },
  {
   "cell_type": "markdown",
   "id": "76950203",
   "metadata": {},
   "source": [
    "### Transforming problems with linear equality constraints \n",
    "\n",
    "<div class=\"alert alert-block alert-info\">\n",
    "We will assume that we are not restricted to binary variables but integer variables are also allowed when discussing the transformations to keep it more general. Later on, we will show how to convert integer variables to binary variables.\n",
    "</div>\n",
    "\n",
    "Suppose we have integer variables $y_1,\\dots,y_k$ and suppose that $f(y_1,\\dots,y_k)$ is our objective function to be minimized. \n",
    "\n",
    "Suppose that we are given a constraint in the form of a linear equality\n",
    "$$\\sum_{i=1}^{k} a_iy_i=b$$\n",
    "\n",
    "where $a_i, b \\in \\mathbb{R}$.\n",
    "\n",
    "The transformation results in the following objective function,\n",
    "\n",
    "$$f(y_1,\\dots,y_k)+P \\cdot \\left( \\sum_{i=1}^{k}a_iy_i-b\\right)^2$$\n"
   ]
  },
  {
   "cell_type": "markdown",
   "id": "27f583ee",
   "metadata": {},
   "source": [
    "### Task 5\n",
    "\n",
    "Let $f(x_1,x_2,x_3)=-5x_1-2x_1x_2 -3x_3$ which is subjected to the constraint $x_1+ x_2 + x_3 = 1$. Express the problem as a QUBO using the penalty method."
   ]
  },
  {
   "cell_type": "markdown",
   "id": "bfae6b2a",
   "metadata": {},
   "source": [
    "[click here for solution](QUBO_PenaltyMethod_Solutions.ipynb#task5)"
   ]
  },
  {
   "cell_type": "markdown",
   "id": "d553676c",
   "metadata": {},
   "source": [
    "### Selection of the penalty coefficient"
   ]
  },
  {
   "cell_type": "markdown",
   "id": "c5a14158",
   "metadata": {},
   "source": [
    "How large the penalty coefficient $P$ should be? This depends on the specific problem we would like to solve. The idea is that it shouldn't be too small so that a constraint is violated in favor of having a smaller $f(x)$. You may think that there is no harm in setting $P$ as large as possible, but in practice, the methods for solving QUBO may not distinguish between feasible solutions with different objective values if $P$ is too large compared to $f(x)$."
   ]
  },
  {
   "cell_type": "markdown",
   "id": "bcaf34ca",
   "metadata": {},
   "source": [
    "### Task 6\n",
    "\n",
    "For the QUBO formulation you obtained in Task 5,\n",
    "- Form the $Q$ matrix\n",
    "- Try setting different values for $P$ and call the `test_penalty` function. \n",
    "\n",
    "What is the minimum possible value for $P$ so that no constraint is violated? Evaluate the results.\n",
    "\n",
    "Note: Don't forget to add the constant term to get the real objective function value after getting the result from `qubo_solver`."
   ]
  },
  {
   "cell_type": "code",
   "execution_count": null,
   "id": "a9e2d846",
   "metadata": {},
   "outputs": [],
   "source": [
    "%run qubo_functions.py"
   ]
  },
  {
   "cell_type": "code",
   "execution_count": null,
   "id": "b1b449e7",
   "metadata": {},
   "outputs": [],
   "source": [
    "import numpy as np\n",
    "def test_penalty(P):\n",
    "    #Populate the Q matrix\n",
    "    Q = np.array([[ , , ],\n",
    "                  [ , , ],\n",
    "                  [ , , ]])\n",
    "    return qubo_solver(Q)"
   ]
  },
  {
   "cell_type": "code",
   "execution_count": null,
   "id": "b2fa4e01",
   "metadata": {},
   "outputs": [],
   "source": [
    "for P in range (10):\n",
    "    print(\"Penalty:\",P, test_penalty(P))"
   ]
  },
  {
   "cell_type": "markdown",
   "id": "f2dbbe3b",
   "metadata": {},
   "source": [
    "[click here for solution](QUBO_PenaltyMethod_Solutions.ipynb#task6)"
   ]
  },
  {
   "cell_type": "markdown",
   "id": "8312b039",
   "metadata": {},
   "source": [
    "### Transforming problems with linear inequality constraints \n",
    "\n",
    "Given a linear inequality of the form,\n",
    "\n",
    "$$\\sum_{i=1}^{k} a_iy_i \\leq b$$\n",
    "\n",
    "it should be first transformed into an equality constraint using non-negative *integer* slack variables i.e., $\\eta \\geq 0$. \n",
    "\n",
    "$$\\sum_{i=1}^{k} a_iy_i+\\eta=b$$\n",
    "\n",
    "The transformation results in the following objective function,\n",
    "\n",
    "$$f(y_1,....,y_k)+P\\cdot \\left( \\sum_{i=1}^{k}a_iy_i+\\eta-b\\right)^2$$"
   ]
  },
  {
   "cell_type": "markdown",
   "id": "b5b8665d",
   "metadata": {},
   "source": [
    "<div class=\"alert alert-block alert-info\">\n",
    "    \n",
    "Note that, $\\eta$ is an integer variable and it needs to be expresessed using binary variables as well."
   ]
  },
  {
   "cell_type": "markdown",
   "id": "72313d48",
   "metadata": {},
   "source": [
    "<div class=\"alert alert-block alert-info\">\n",
    "    \n",
    "When you have an inequality of the form $\\geq$, it will be more convenient to transform it into an inequality of the form $\\leq$\n",
    "to convert into an equality."
   ]
  },
  {
   "cell_type": "markdown",
   "id": "8115d219",
   "metadata": {},
   "source": [
    "## Transforming integer variables to binary variables\n",
    "\n",
    "Since we considered integer variables $y_1,\\dots,y_k$ and $\\eta$ and QUBO uses binary decision variables, we should convert our integer variables to binary variables. \n",
    "\n",
    "First, we need to define the lower and the upper bound for each integer variable. For variables $y_i$, this is usually determined by the problem definition. For integer variables $y_1,\\dots,y_k$, suppose that we have $\\underline{\\rm y_i} \\leq y_i \\leq \\overline{\\rm y_i}$ which can be expressed as $y_i \\in \\{\\underline{\\rm y_i},\\dots,\\overline{\\rm y_i}\\}$. \n",
    "\n",
    "$y_i$ can be expressed using binary varaibles $x_j^i \\in \\{0,1\\}$ as follows:\n",
    "\n",
    "$$\n",
    "\\underline y_i+\\sum_{j=0}^{N-2}2^j x_{j}^i+\\bigl (\\overline{y_i}- \\underline{y_i} - \\sum_{j=0}^{N-2}2^j\\bigr)x_{N-1}^i,\n",
    "$$\n",
    "where $N = \\lceil \\log_2(\\overline y_i-\\underline y_i+1)\\rceil $."
   ]
  },
  {
   "cell_type": "markdown",
   "id": "21e66f77",
   "metadata": {},
   "source": [
    "Similarly for $\\eta$, we first need to determine the upper and lower bounds for. In this case, those bounds depend on the linear inequality and can be expressed as follows:\n",
    "\n",
    "$$0\\leq \\eta \\leq  \\left(b- \\sum_{i=1}^{k} \\min \\{a_i\\underline{\\rm y_i}, a_i\\overline{\\rm y_i}\\}\\right).$$\n",
    "\n",
    "The rest is similar to the conversion of $y_i$ variables.\n",
    "\n",
    "<div class=\"alert alert-block alert-info\">\n",
    "    Note that here it is assumed that the inequality is of the form $\\sum_{i=1}^k a_iy_i \\leq b$.\n",
    "</div>"
   ]
  },
  {
   "cell_type": "markdown",
   "id": "9f690245",
   "metadata": {},
   "source": [
    "### Task 7\n",
    "\n",
    "\n",
    "Consider an objective function of the form $f(y_1,y_2)$ where $y_1$ and $y_2$ are integer variables and $0 \\leq y_1 \\leq 8$ and $0 \\leq y_2 \\leq 5$, which is subjected to the constraint $y_1+ y_2 \\geq 10$. Express the problem as a QUBO. \n",
    "\n",
    "Note: You can leave penalty coefficient as $P$, you don't need to choose a specific value for this task."
   ]
  },
  {
   "cell_type": "markdown",
   "id": "9b043d87",
   "metadata": {},
   "source": [
    "[click here for solution](QUBO_PenaltyMethod_Solutions.ipynb#task7)\n",
    "***"
   ]
  },
  {
   "cell_type": "markdown",
   "id": "a6209aee",
   "metadata": {},
   "source": [
    "### Task 8\n",
    "\n",
    "Consider an objective function of the form $f(y_1,y_2)$ where $y_1$ and $y_2$ are integer variables and $2 \\leq y_1 \\leq 8$ and $3 \\leq y_2 \\leq 5$, which is subjected to the constraint $y_1+ 2y_2 \\leq 10$. Express the problem as a QUBO. \n",
    "\n",
    "Note: You can leave penalty coefficient as $P$, you don't need to choose a specific value for this task."
   ]
  },
  {
   "cell_type": "markdown",
   "id": "5e761c2e",
   "metadata": {},
   "source": [
    "[click here for solution](QUBO_PenaltyMethod_Solutions.ipynb#task8)\n",
    "***"
   ]
  },
  {
   "cell_type": "markdown",
   "id": "632beeee",
   "metadata": {},
   "source": [
    "## Integer linear programming (ILP)"
   ]
  },
  {
   "cell_type": "markdown",
   "id": "7515f418",
   "metadata": {},
   "source": [
    "*Integer linear programming* is a mathematical model for problems defined over integer variables with a linear objective function and a set of linear constraints. Formally, an integer linear program is defined as\n",
    "$$\n",
    "\\text{minimize} \\hspace{1em} \\sum_{j} c_j y_j \\\\\n",
    "\\text{subject to} \\hspace{1em } \\sum_{j} A_{ij}y_j \\leq b_i, \\hspace{1em} i=1,\\dots,m \\\\\n",
    "{} y_j \\geq 0, y_j \\in \\mathbb{Z}\n",
    "$$\n",
    "where $A_{ij}\\in \\mathbb{R}$, $b_i\\in \\mathbb{R}$, $ c_j \\in \\mathbb{Z} $. ILP problem is known to be NP-Hard. In case the objective function is a quadratic polynomial, then the model is named as *integer quadratic programming* (IQP).\n",
    "\n",
    "Note that using the penalty method and the method for transforming integer variables into binary, any ILP or IQP can be converted into an equivalent QUBO.\n",
    "***"
   ]
  },
  {
   "cell_type": "markdown",
   "id": "f32ccc53",
   "metadata": {},
   "source": [
    "### References\n",
    "***\n",
    "1. Wikipedia contributors. (2021). *Penalty method.* Wikipedia, The Free Encyclopedia. [Link](https://en.wikipedia.org/w/index.php?title=Penalty_method&oldid=1020411673)\n",
    "2. Fred Glover, Gary Kochenberger, Yu Du. (2019). *Quantum Bridge Analytics I: A Tutorial on Formulating and Using QUBO Models.* [[arXiv Preprint]](https://arxiv.org/abs/1811.11538)\n",
    "3. Ozlem Salehi, Adam Glos, Jaroslaw Adam Miszczak. (2021). *Unconstrained Binary Models of the Travelling Salesman Problem Variants for Quantum Optimization.* [[arXiv Preprint]](https://arxiv.org/abs/2106.09056)\n",
    "4. Sahar Karimi, Pooya Ronagh. (2019). *Practical Integer-to-Binary Mapping for Quantum Annealers*. Quantum Information Processing, Vol. 18, No. 4, 94. [[arXiv Preprint]](https://arxiv.org/abs/1706.01945)"
   ]
  }
 ],
 "metadata": {
  "kernelspec": {
   "display_name": "Python 3",
   "language": "python",
   "name": "python3"
  },
  "language_info": {
   "codemirror_mode": {
    "name": "ipython",
    "version": 3
   },
   "file_extension": ".py",
   "mimetype": "text/x-python",
   "name": "python",
   "nbconvert_exporter": "python",
   "pygments_lexer": "ipython3",
   "version": "3.7.3"
  },
  "latex_envs": {
   "LaTeX_envs_menu_present": true,
   "autoclose": true,
   "autocomplete": true,
   "bibliofile": "biblio.bib",
   "cite_by": "apalike",
   "current_citInitial": 1,
   "eqLabelWithNumbers": true,
   "eqNumInitial": 1,
   "hotkeys": {
    "equation": "Ctrl-E",
    "itemize": "Ctrl-I"
   },
   "labels_anchors": false,
   "latex_user_defs": false,
   "report_style_numbering": false,
   "user_envs_cfg": false
  },
  "toc": {
   "base_numbering": 1,
   "nav_menu": {},
   "number_sections": true,
   "sideBar": true,
   "skip_h1_title": false,
   "title_cell": "Table of Contents",
   "title_sidebar": "Contents",
   "toc_cell": false,
   "toc_position": {},
   "toc_section_display": true,
   "toc_window_display": false
  }
 },
 "nbformat": 4,
 "nbformat_minor": 5
}
