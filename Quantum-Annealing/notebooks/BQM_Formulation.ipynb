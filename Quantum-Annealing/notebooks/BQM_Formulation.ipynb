{
 "cells": [
  {
   "attachments": {},
   "cell_type": "markdown",
   "id": "165744e0",
   "metadata": {},
   "source": [
    "<table width = \"100%\">\n",
    "  <tr style=\"background-color:white;\">\n",
    "    <!-- QWorld Logo -->\n",
    "    <td style=\"text-align:left;width:200px;\"> \n",
    "        <a href=\"https://qworld.net/\" target=\"_blank\"><img src=\"../images/QWorld.png\"> </a></td>\n",
    "    <td style=\"text-align:right;vertical-align:bottom;font-size:16px;\"> \n",
    "        Prepared by AkashNarayanan B</td>  \n",
    "</table>\n",
    "<hr>"
   ]
  },
  {
   "attachments": {},
   "cell_type": "markdown",
   "id": "d866d145",
   "metadata": {},
   "source": [
    "# Binary Quadratic Model"
   ]
  },
  {
   "attachments": {},
   "cell_type": "markdown",
   "id": "8b3e5d3f",
   "metadata": {},
   "source": [
    "So far, we have learnt about formulating combinatorial optimization problems as QUBO or Ising Model problems. We have also learnt how to convert between these two formulations. \n",
    "\n",
    "Our final goal is to take advantage of quantum annealing to solve these problems. To do so, we have to formulate our QUBO or Ising Model problems in a way that they can be run on quantum annealing devices, currently provided by D-Wave.\n",
    "\n",
    "The [Ocean SDK](https://github.com/dwavesystems/dwave-ocean-sdk) provides us many open-source tools to aid us in the problem solving process. Now let's take a look at the `BinaryQuadraticModel` class available in the `dimod` package of the Ocean SDK."
   ]
  },
  {
   "attachments": {},
   "cell_type": "markdown",
   "id": "0b63f086",
   "metadata": {},
   "source": [
    "## BinaryQuadraticModel (BQM) Class of Ocean SDK\n",
    "\n",
    "`BinaryQuadraticModel` class helps us to formulate our QUBO or Ising Model problems into a form suitable to be run on D-Wave. Let us quickly recall the objective functions of QUBO and Ising Model.\n",
    "\n",
    "The objective function of a QUBO is given by,\n",
    "\n",
    "$$\\sum\\limits_{i} {Q_{i, i} x_i} + \\sum\\limits_{i < j} {Q_{i, j} x_i x_j} \\qquad\\qquad x_i\\in \\{0,1\\}$$\n",
    "\n",
    "where the variables can take the values $0$ and $1$.\n",
    "\n",
    "The objective function of an Ising Model is given by,\n",
    "\n",
    "$$\\sum\\limits_{i} h_i s_i + \\sum\\limits_{i<j} J_{i,j} s_i s_j   \\qquad\\qquad s_i \\in\\{-1,+1\\}$$\n",
    "\n",
    "where the variables can take the values $-1$ and $+1$ corresponding to the physical Ising spins."
   ]
  },
  {
   "attachments": {},
   "cell_type": "markdown",
   "id": "7f62bbdf",
   "metadata": {},
   "source": [
    "The objective function of a Binary Quadratic Model is given by,\n",
    "\n",
    "$$\\sum\\limits_{i=1} a_i v_i + \\sum\\limits_{i<j} b_{i,j} v_i v_j + c \\qquad\\qquad v_i \\in \\{0,1\\} \\text{  or } \\{-1,+1\\}$$\n",
    "\n",
    "Note that the variable $v_i$ can correspond either to $\\{0, 1\\}$ or to the physical Ising spins $\\{-1, +1\\}$. This way a BQM can conveniently represent both a QUBO and an Ising Model."
   ]
  },
  {
   "attachments": {},
   "cell_type": "markdown",
   "id": "3fa54a39",
   "metadata": {},
   "source": [
    "### Creating an Instance of BQM\n",
    "\n",
    "Let us first take a look at some of the essential parameters required to create an instance of the `BinaryQuadraticModel` class."
   ]
  },
  {
   "attachments": {},
   "cell_type": "markdown",
   "id": "7bc1d072",
   "metadata": {},
   "source": [
    "### Parameters\n",
    "\n",
    "- `linear` \n",
    "   - The linear terms of the objective function should be defined as a dictionary.\n",
    "   - The keys of the dictionary should be the variables and their respective values should be the coefficients associated with these variables. For example,\n",
    "\n",
    "    ```python\n",
    "    {'x1': 3, 'x2': 5, 'x3': 4, 'x4': 7}\n",
    "    ```\n",
    "    \n",
    "- `quadratic`\n",
    "   - The quadratic terms of the objective function should be defined as a dictionary.\n",
    "   - The keys of the dictionary should be the pairs of variables defined as tuples and their respective values should be the coefficients associated with these pairs of variables. For example,\n",
    "\n",
    "    ```python\n",
    "    {('x1', 'x2'): 2, ('x2', 'x3'): 5}\n",
    "    ```\n",
    "       \n",
    "- `offset`\n",
    "    - Constant energy offset value associated with the BQM can be set using this parameter. \n",
    "    - If there is no offset, then there is no need to specify it.\n",
    "    \n",
    "    \n",
    "- `Vartype`\n",
    "    - This parameter sets the variable type of the BQM. To create a QUBO instance, set this parameter to `'BINARY'`.\n",
    "    - To create an Ising Model instance, set this parameter to `'SPIN'`.\n",
    " "
   ]
  },
  {
   "attachments": {},
   "cell_type": "markdown",
   "id": "24644726",
   "metadata": {},
   "source": [
    "   \n",
    "### Example\n",
    "\n",
    "Let us now try to create a BQM instance for the following QUBO formulation:\n",
    "\n",
    "$$- 5x_1 - 3x_2 - 8x_3 - 6x_4 + 4x_1 x_2 + 8x_1 x_3 + 2x_2 x_3 + 10x_3 x_4.$$"
   ]
  },
  {
   "attachments": {},
   "cell_type": "markdown",
   "id": "e48efd98",
   "metadata": {},
   "source": [
    "We should define the linear and quadratic parts of the objective function as dictionaries and pass it as `linear` and `quadratic` arguments. In the objective function,\n",
    "\n",
    "- The linear part is $- 5x_1 - 3x_2 - 8x_3 - 6x_4$. The corresponding dictionary can be defined as \n",
    "\n",
    "```python\n",
    "{'x1': -5, 'x2': -3, 'x3': -8, 'x4': -6}\n",
    "```\n",
    "                       \n",
    "- The quadratic part is $4x_1 x_2 + 8x_1 x_3 + 2x_2 x_3 + 10x_3 x_4$. The corresponding dictionary can be defined as\n",
    "\n",
    "```python\n",
    "{('x1', 'x2'): 4, ('x1', 'x3'): 8, ('x2', 'x3'): 2, ('x3', 'x4'): 10}\n",
    "```  \n",
    "\n",
    "- There is no offset, so we don't need to specify it.\n",
    "\n",
    "We can create a QUBO instance of BQM by setting the `Vartype` parameter to `'BINARY'`."
   ]
  },
  {
   "cell_type": "code",
   "execution_count": 1,
   "id": "93048763",
   "metadata": {
    "ExecuteTime": {
     "end_time": "2021-10-09T15:46:38.646526Z",
     "start_time": "2021-10-09T15:46:38.346824Z"
    }
   },
   "outputs": [],
   "source": [
    "from dimod import BQM\n",
    "\n",
    "linear = {\"x1\": -5, \"x2\": -3, \"x3\": -8, \"x4\": -6}\n",
    "quadratic = {(\"x1\", \"x2\"): 4, (\"x1\", \"x3\"): 8, (\"x2\", \"x3\"): 2, (\"x3\", \"x4\"): 10}\n",
    "vartype = \"BINARY\"\n",
    "\n",
    "bqm_qubo = BQM(linear, quadratic, vartype)"
   ]
  },
  {
   "attachments": {},
   "cell_type": "markdown",
   "id": "7468be9f",
   "metadata": {},
   "source": [
    "Let's print and see the bqm we have created."
   ]
  },
  {
   "cell_type": "code",
   "execution_count": 7,
   "id": "beb30838",
   "metadata": {},
   "outputs": [
    {
     "data": {
      "text/plain": [
       "BinaryQuadraticModel({'x1': -5.0, 'x2': -3.0, 'x3': -8.0, 'x4': -6.0}, {('x2', 'x1'): 4.0, ('x3', 'x1'): 8.0, ('x3', 'x2'): 2.0, ('x4', 'x3'): 10.0}, 0.0, 'BINARY')"
      ]
     },
     "execution_count": 7,
     "metadata": {},
     "output_type": "execute_result"
    }
   ],
   "source": [
    "bqm_qubo"
   ]
  },
  {
   "attachments": {},
   "cell_type": "markdown",
   "id": "241151dc",
   "metadata": {},
   "source": [
    "Similarly, we can create an Ising instance of BQM by setting the `Vartype` parameter to `'SPIN'`."
   ]
  },
  {
   "attachments": {},
   "cell_type": "markdown",
   "id": "f937a508",
   "metadata": {},
   "source": [
    "<div class=\"alert alert-block alert-info\">\n",
    "Note that the <code>Vartype</code> parameter just sets the variable type for a BQM and doesn't automatically convert between a QUBO and an Ising Model. Recall that in order to convert a QUBO to an Ising Model, the following transformation should be used.\n",
    "\n",
    "$$ x_j \\mapsto \\frac{1-s_j}{2} $$\n",
    "    \n",
    "There are methods in the Ocean SDK for converting between the formulations. We will learn about them later on.\n",
    "</div>"
   ]
  },
  {
   "attachments": {},
   "cell_type": "markdown",
   "id": "5f818381",
   "metadata": {},
   "source": [
    "### Task 1\n",
    "\n",
    "Create a QUBO instance of BQM for the following objective function:\n",
    "\n",
    "$$5x_1 + 7x_1 x_2 - 3x_2 + 2.$$"
   ]
  },
  {
   "attachments": {},
   "cell_type": "markdown",
   "id": "301c3797",
   "metadata": {},
   "source": [
    "[click here for solution](BQM_Formulation_Solution.ipynb#Task1)"
   ]
  },
  {
   "cell_type": "code",
   "execution_count": null,
   "id": "7b04ec00",
   "metadata": {},
   "outputs": [],
   "source": [
    "from dimod import BQM\n",
    "\n",
    "# Your code here\n",
    "\n",
    "\n",
    "bqm_qubo = "
   ]
  },
  {
   "attachments": {},
   "cell_type": "markdown",
   "id": "3176172c",
   "metadata": {},
   "source": [
    "### Task 2\n",
    "\n",
    "Create an Ising instance of BQM for the following objective function:\n",
    "\n",
    "$$s_1 + s_2 + s_3 + s_4 - 6s_1 s_3 - 6s_1 s_4 - 6s_3 s_4 - 6s_1 s_2.$$"
   ]
  },
  {
   "cell_type": "code",
   "execution_count": null,
   "id": "721d740e",
   "metadata": {},
   "outputs": [],
   "source": [
    "from dimod import BQM\n",
    "\n",
    "# Your code here\n",
    "\n",
    "\n",
    "bqm_ising = "
   ]
  },
  {
   "attachments": {},
   "cell_type": "markdown",
   "id": "0ff51712",
   "metadata": {},
   "source": [
    "[click here for solution](BQM_Formulation_Solution.ipynb#Task2)"
   ]
  },
  {
   "attachments": {},
   "cell_type": "markdown",
   "id": "115aac37",
   "metadata": {},
   "source": [
    "### Attributes\n",
    "\n",
    "We can check the values assigned to the parameters using the attributes of the BQM class."
   ]
  },
  {
   "cell_type": "code",
   "execution_count": 2,
   "id": "6228892e",
   "metadata": {},
   "outputs": [
    {
     "data": {
      "text/plain": [
       "{'x1': -5.0, 'x2': -3.0, 'x3': -8.0, 'x4': -6.0}"
      ]
     },
     "execution_count": 2,
     "metadata": {},
     "output_type": "execute_result"
    }
   ],
   "source": [
    "bqm_qubo.linear"
   ]
  },
  {
   "cell_type": "code",
   "execution_count": 3,
   "id": "34b5f8cb",
   "metadata": {},
   "outputs": [
    {
     "data": {
      "text/plain": [
       "{('x2', 'x1'): 4.0, ('x3', 'x1'): 8.0, ('x3', 'x2'): 2.0, ('x4', 'x3'): 10.0}"
      ]
     },
     "execution_count": 3,
     "metadata": {},
     "output_type": "execute_result"
    }
   ],
   "source": [
    "bqm_qubo.quadratic"
   ]
  },
  {
   "cell_type": "code",
   "execution_count": 4,
   "id": "faf49b1b",
   "metadata": {},
   "outputs": [
    {
     "data": {
      "text/plain": [
       "0.0"
      ]
     },
     "execution_count": 4,
     "metadata": {},
     "output_type": "execute_result"
    }
   ],
   "source": [
    "bqm_qubo.offset"
   ]
  },
  {
   "cell_type": "code",
   "execution_count": 5,
   "id": "7230b2fe",
   "metadata": {},
   "outputs": [
    {
     "data": {
      "text/plain": [
       "<Vartype.BINARY: frozenset({0, 1})>"
      ]
     },
     "execution_count": 5,
     "metadata": {},
     "output_type": "execute_result"
    }
   ],
   "source": [
    "bqm_qubo.vartype"
   ]
  },
  {
   "cell_type": "code",
   "execution_count": null,
   "id": "30d97293",
   "metadata": {},
   "outputs": [],
   "source": [
    "bqm_ising.vartype"
   ]
  },
  {
   "attachments": {},
   "cell_type": "markdown",
   "id": "d2590ecd",
   "metadata": {},
   "source": [
    "These attributes are helpful to probe the details of an instance of BQM."
   ]
  },
  {
   "attachments": {},
   "cell_type": "markdown",
   "id": "8290044d",
   "metadata": {},
   "source": [
    "### Task 3\n",
    "\n",
    "Print the `linear`, `quadratic`, `offset` and `vartype` values of the BQM instance you created in Task 2."
   ]
  },
  {
   "cell_type": "code",
   "execution_count": 3,
   "id": "0ace8ef1",
   "metadata": {
    "ExecuteTime": {
     "end_time": "2021-10-09T15:46:38.716123Z",
     "start_time": "2021-10-09T15:46:38.712255Z"
    }
   },
   "outputs": [],
   "source": [
    "# Enter your code here\n",
    "\n",
    "\n",
    "\n"
   ]
  },
  {
   "attachments": {},
   "cell_type": "markdown",
   "id": "f8fbd2de",
   "metadata": {},
   "source": [
    "[click here for solution](BQM_Formulation_Solution.ipynb#Task3)"
   ]
  },
  {
   "attachments": {},
   "cell_type": "markdown",
   "id": "3de1d869",
   "metadata": {},
   "source": [
    "## Finding the Lowest Energy Using a Classical Sampler\n",
    "\n",
    "Ocean SDK provides classical, quantum and hybrid samplers to help us find optimal solutions to our problems. A sampler tries to sample low energy states for a given BQM and returns an iterable of samples in the ascending order of the energy values.\n",
    "\n",
    "We are going to use `ExactSolver()` to classically sample our problems. It works by finding the energy values of all the possible samples for a given BQM. As you can guess, this is not an efficient process but it is good enough for small problems. The general limit is 18 variables beyond which the process becomes very slow. `ExactSolver()` can be helpful to test our code during development."
   ]
  },
  {
   "attachments": {},
   "cell_type": "markdown",
   "id": "6b49e2a8",
   "metadata": {},
   "source": [
    "### Example: QUBO Instance\n",
    "\n",
    "Let us try to create a QUBO instance of BQM and find the energy values for the following objective function\n",
    "\n",
    "$$f(x_1, x_2, x_3, x_4) = 3x_1 - 7x_2 + 11x_3 - x_4 + 9x_1 x_2 + x_1 x_3 + 2x_2 x_3 + 8x_3 x_4$$\n",
    "\n",
    "In the objective function,\n",
    "\n",
    "- The linear part is $3x_1 - 7x_2 + 11x_3 - x_4$\n",
    "- The quadratic part is $9x_1 x_2 + x_1 x_3 + 2x_2 x_3 + 8x_3 x_4$"
   ]
  },
  {
   "cell_type": "code",
   "execution_count": 22,
   "id": "69bcfad2",
   "metadata": {
    "ExecuteTime": {
     "end_time": "2021-10-09T15:46:38.797643Z",
     "start_time": "2021-10-09T15:46:38.792295Z"
    }
   },
   "outputs": [],
   "source": [
    "from dimod import BQM\n",
    "from dimod.reference.samplers import ExactSolver\n",
    "\n",
    "linear = {'x1': 3, 'x2': -7, 'x3': 11, 'x4': -1}\n",
    "quadratic = {('x1', 'x2'): 9, ('x1', 'x3'): 1, ('x2', 'x3'): 2, ('x3', 'x4'): 8}\n",
    "vartype = 'BINARY'\n",
    "\n",
    "bqm_qubo = BQM(linear, quadratic, vartype)"
   ]
  },
  {
   "attachments": {},
   "cell_type": "markdown",
   "id": "d183e6a0",
   "metadata": {},
   "source": [
    "Now that we have created a QUBO instance, we can then assign `ExactSolver()` to a variable for convenience. Then we should pass the instance `bqm_qubo` as an argument to the `sample()` method of `ExactSolver()` and assign it to another variable. This variable would then contain all the possible samples in the ascending order of their energy values."
   ]
  },
  {
   "cell_type": "code",
   "execution_count": 23,
   "id": "5969ded0",
   "metadata": {
    "ExecuteTime": {
     "end_time": "2021-10-09T15:46:38.856985Z",
     "start_time": "2021-10-09T15:46:38.829110Z"
    }
   },
   "outputs": [
    {
     "name": "stdout",
     "output_type": "stream",
     "text": [
      "   x1 x2 x3 x4 energy num_oc.\n",
      "12  0  1  0  1   -8.0       1\n",
      "3   0  1  0  0   -7.0       1\n",
      "15  0  0  0  1   -1.0       1\n",
      "0   0  0  0  0    0.0       1\n",
      "14  1  0  0  1    2.0       1\n",
      "1   1  0  0  0    3.0       1\n",
      "13  1  1  0  1    4.0       1\n",
      "2   1  1  0  0    5.0       1\n",
      "4   0  1  1  0    6.0       1\n",
      "7   0  0  1  0   11.0       1\n",
      "11  0  1  1  1   13.0       1\n",
      "6   1  0  1  0   15.0       1\n",
      "8   0  0  1  1   18.0       1\n",
      "5   1  1  1  0   19.0       1\n",
      "9   1  0  1  1   22.0       1\n",
      "10  1  1  1  1   26.0       1\n",
      "['BINARY', 16 rows, 16 samples, 4 variables]\n"
     ]
    }
   ],
   "source": [
    "sampler = ExactSolver()\n",
    "sampleset = sampler.sample(bqm_qubo)\n",
    "\n",
    "print(sampleset)"
   ]
  },
  {
   "attachments": {},
   "cell_type": "markdown",
   "id": "46bb91a6",
   "metadata": {},
   "source": [
    "In the above output,\n",
    "\n",
    "- First column represents the serial number\n",
    "- The next four columns represent the different values for the four variables present in the objective function\n",
    "- `energy` column refers to the value of the objective function for each sample\n",
    "- `num_oc .` refers to the number of occurences for each sample. Since the classical sampler exactly determines the energy value for each and every sample, number of occurence for each sample is just 1.\n",
    "\n",
    "We can observe from the output that the first sample `(0, 1, 0, 1)` minimizes the objective function to a value of `-8.0`. That is the optimal solution we are looking for! The energy values of the subsequent samples are `-7.0`, `-1.0` and so on and so forth."
   ]
  },
  {
   "attachments": {},
   "cell_type": "markdown",
   "id": "9d7eeb96",
   "metadata": {},
   "source": [
    "### Accessing the single optimal solution\n",
    "\n",
    "The optimal solution that produces the lowest energy value can be accessed using the `first` attribute."
   ]
  },
  {
   "cell_type": "code",
   "execution_count": 3,
   "id": "4ebfd51f",
   "metadata": {},
   "outputs": [
    {
     "name": "stdout",
     "output_type": "stream",
     "text": [
      "Sample(sample={'x1': 0, 'x2': 1, 'x3': 0, 'x4': 1}, energy=-8.0, num_occurrences=1)\n"
     ]
    }
   ],
   "source": [
    "print(sampleset.first)"
   ]
  },
  {
   "attachments": {},
   "cell_type": "markdown",
   "id": "e58bfd16",
   "metadata": {},
   "source": [
    "If we want just the sample that produces the lowest energy, we can access it using the `sample` attribute."
   ]
  },
  {
   "cell_type": "code",
   "execution_count": 4,
   "id": "eb87aaa6",
   "metadata": {},
   "outputs": [
    {
     "name": "stdout",
     "output_type": "stream",
     "text": [
      "{'x1': 0, 'x2': 1, 'x3': 0, 'x4': 1}\n"
     ]
    }
   ],
   "source": [
    "print(sampleset.first.sample)"
   ]
  },
  {
   "attachments": {},
   "cell_type": "markdown",
   "id": "df2e8ba5",
   "metadata": {},
   "source": [
    "If we want just the energy value of the optimal solution, we can access it using the `energy` attribute."
   ]
  },
  {
   "cell_type": "code",
   "execution_count": 5,
   "id": "abf222d7",
   "metadata": {},
   "outputs": [
    {
     "name": "stdout",
     "output_type": "stream",
     "text": [
      "-8.0\n"
     ]
    }
   ],
   "source": [
    "print(sampleset.first.energy)"
   ]
  },
  {
   "attachments": {},
   "cell_type": "markdown",
   "id": "d501a621",
   "metadata": {},
   "source": [
    "### Accessing multiple optimal solutions\n",
    "\n",
    "In case our problem has multiple samples that produce the lowest energy value, we can access all of those optimal solutions at once using the `lowest()` method. For example, let's consider the sampleset of the following simple QUBO instance that has multiple optimal solutions.  "
   ]
  },
  {
   "cell_type": "code",
   "execution_count": 24,
   "id": "902effa0",
   "metadata": {},
   "outputs": [],
   "source": [
    "from dimod import BQM\n",
    "from dimod.reference.samplers import ExactSolver\n",
    "\n",
    "quadratic = {('x1','x2'): 1}\n",
    "vartype = 'BINARY'\n",
    "\n",
    "bqm_simple = BQM(quadratic, vartype)"
   ]
  },
  {
   "cell_type": "code",
   "execution_count": 25,
   "id": "657de0f2",
   "metadata": {},
   "outputs": [
    {
     "name": "stdout",
     "output_type": "stream",
     "text": [
      "  x1 x2 energy num_oc.\n",
      "0  0  0    0.0       1\n",
      "1  1  0    0.0       1\n",
      "3  0  1    0.0       1\n",
      "2  1  1    1.0       1\n",
      "['BINARY', 4 rows, 4 samples, 2 variables]\n"
     ]
    }
   ],
   "source": [
    "sampleset_simple = sampler.sample(bqm_simple)\n",
    "print(sampleset_simple)"
   ]
  },
  {
   "attachments": {},
   "cell_type": "markdown",
   "id": "31043af6",
   "metadata": {},
   "source": [
    "Here the function to optimize is simple $x_1x_2$. \n",
    "\n",
    "In the above sampleset we can observe that there are three optimal solutions that produce the lowest energy of `0`. Using the `first` attribute here would display only one of those two optimal solutions."
   ]
  },
  {
   "cell_type": "code",
   "execution_count": 17,
   "id": "5af83631",
   "metadata": {},
   "outputs": [
    {
     "name": "stdout",
     "output_type": "stream",
     "text": [
      "Sample(sample={'x1': 0, 'x2': 0}, energy=0.0, num_occurrences=1)\n"
     ]
    }
   ],
   "source": [
    "print(sampleset_simple.first)"
   ]
  },
  {
   "attachments": {},
   "cell_type": "markdown",
   "id": "52509642",
   "metadata": {},
   "source": [
    "Whereas the `lowest()` method would display both the optimal solutions."
   ]
  },
  {
   "cell_type": "code",
   "execution_count": 18,
   "id": "495c7802",
   "metadata": {},
   "outputs": [
    {
     "name": "stdout",
     "output_type": "stream",
     "text": [
      "  x1 x2 energy num_oc.\n",
      "0  0  0    0.0       1\n",
      "1  1  0    0.0       1\n",
      "2  0  1    0.0       1\n",
      "['BINARY', 3 rows, 3 samples, 2 variables]\n"
     ]
    }
   ],
   "source": [
    "print(sampleset_simple.lowest())"
   ]
  },
  {
   "attachments": {},
   "cell_type": "markdown",
   "id": "b85ddba8",
   "metadata": {},
   "source": [
    "### Task 4\n",
    "\n",
    "Find the optimal sample of the QUBO instance that produces the lowest energy value for the objective function used in Task 1.\n",
    "\n",
    "$$f(x_1, x_2) = 5x_1 + 7x_1 x_2 - 3x_2$$"
   ]
  },
  {
   "attachments": {},
   "cell_type": "markdown",
   "id": "6d71a498",
   "metadata": {},
   "source": [
    "[click here for solution](BQM_Formulation_Solution.ipynb#Task4)"
   ]
  },
  {
   "attachments": {},
   "cell_type": "markdown",
   "id": "9fa88bd9",
   "metadata": {},
   "source": [
    "### Example: Ising Instance\n",
    "\n",
    "Let us now try to create an Ising instance and find the optimal solution for the following objective function.\n",
    "\n",
    "$$f(s_1, s_2, s_3, s_4) = 3s_1 - 7s_2 + 11s_3 - s_4 + 9s_1 s_2 + s_1 s_3 + 2s_2 s_3 + 8s_3 s_4$$\n"
   ]
  },
  {
   "cell_type": "code",
   "execution_count": 26,
   "id": "1700e7bf",
   "metadata": {
    "ExecuteTime": {
     "end_time": "2021-10-09T15:46:38.956476Z",
     "start_time": "2021-10-09T15:46:38.944932Z"
    }
   },
   "outputs": [
    {
     "name": "stdout",
     "output_type": "stream",
     "text": [
      "   s1 s2 s3 s4 energy num_oc.\n",
      "12 -1 +1 -1 +1  -40.0       1\n",
      "3  -1 +1 -1 -1  -22.0       1\n",
      "13 +1 +1 -1 +1  -18.0       1\n",
      "14 +1 -1 -1 +1  -18.0       1\n",
      "4  -1 +1 +1 -1  -14.0       1\n",
      "15 -1 -1 -1 +1   -4.0       1\n",
      "1  +1 -1 -1 -1    0.0       1\n",
      "2  +1 +1 -1 -1    0.0       1\n",
      "11 -1 +1 +1 +1    0.0       1\n",
      "6  +1 -1 +1 -1    4.0       1\n",
      "5  +1 +1 +1 -1   12.0       1\n",
      "0  -1 -1 -1 -1   14.0       1\n",
      "7  -1 -1 +1 -1   14.0       1\n",
      "9  +1 -1 +1 +1   18.0       1\n",
      "10 +1 +1 +1 +1   26.0       1\n",
      "8  -1 -1 +1 +1   28.0       1\n",
      "['SPIN', 16 rows, 16 samples, 4 variables]\n"
     ]
    }
   ],
   "source": [
    "linear = {'s1': 3, 's2': -7, 's3': 11, 's4': -1}\n",
    "quadratic = {('s1', 's2'): 9, ('s1', 's3'): 1, ('s2', 's3'): 2, ('s3', 's4'): 8}\n",
    "offset = 0\n",
    "vartype = 'SPIN'\n",
    "\n",
    "bqm_ising = BQM(linear, quadratic, offset, vartype)\n",
    "\n",
    "sampler = ExactSolver()\n",
    "sampleset = sampler.sample(bqm_ising)\n",
    "\n",
    "print(sampleset)"
   ]
  },
  {
   "cell_type": "code",
   "execution_count": 7,
   "id": "64034f5a",
   "metadata": {
    "ExecuteTime": {
     "end_time": "2021-10-09T15:46:39.001921Z",
     "start_time": "2021-10-09T15:46:38.964629Z"
    }
   },
   "outputs": [
    {
     "name": "stdout",
     "output_type": "stream",
     "text": [
      "Sample(sample={'s1': -1, 's2': 1, 's3': -1, 's4': 1}, energy=-40.0, num_occurrences=1)\n"
     ]
    }
   ],
   "source": [
    "print(sampleset.first)"
   ]
  },
  {
   "attachments": {},
   "cell_type": "markdown",
   "id": "dcb13148",
   "metadata": {},
   "source": [
    "Therefore the sample `{'s1': -1, 's2': 1, 's3': -1, 's4': 1}` minimizes the objective function to an energy value of `-40`.\n",
    "\n",
    "### Task 5\n",
    "\n",
    "Find the optimal sample of the Ising instance that produces the lowest energy value for the objective function used in Task 2.\n",
    "\n",
    "$$f(s_1, s_2, s_3, s_4) = s_1 + s_2 + s_3 + s_4 - 6s_1 s_3 - 6s_1 s_4 - 6s_3 s_4 - 6s_1 s_2$$"
   ]
  },
  {
   "attachments": {},
   "cell_type": "markdown",
   "id": "76bd1842",
   "metadata": {},
   "source": [
    "[click here for solution](BQM_Formulation_Solution.ipynb#Task5)"
   ]
  },
  {
   "attachments": {},
   "cell_type": "markdown",
   "id": "d65117ed",
   "metadata": {},
   "source": [
    "### Task 6\n",
    "\n",
    "Create a QUBO instance of BQM for the given objective function and find the optimal solution.\n",
    "\n",
    "$$f(x_1, x_2, x_3, x_4) = 3x_1 - x_2 + 10x_3 + 7x_4 + 2x_1 x_2 - 5x_1 x_3 + 3x_2 x_3 + 11x_3 x_4$$"
   ]
  },
  {
   "attachments": {},
   "cell_type": "markdown",
   "id": "c2640ff4",
   "metadata": {},
   "source": [
    "[click here for solution](BQM_Formulation_Solution.ipynb#Task6)"
   ]
  },
  {
   "attachments": {},
   "cell_type": "markdown",
   "id": "67a168ac",
   "metadata": {},
   "source": [
    "---\n",
    "\n",
    "# References\n",
    "\n",
    "1. [\"Binary Quadratic Models\"](https://test-projecttemplate-dimod.readthedocs.io/en/latest/reference/bqm/index.html), `dimod` Documentation, accessed August, 2021.\n",
    "2. [\"Classical Solvers\"](https://docs.ocean.dwavesys.com/en/stable/overview/cpu.html#), D-Wave Ocean Software Documentation, accessed August 2021.\n",
    "3. [\"Exact Solver\"](https://docs.ocean.dwavesys.com/en/stable/docs_dimod/reference/sampler_composites/samplers.html#exact-solver), D-Wave Ocean Software Documentation, accessed August 2021."
   ]
  }
 ],
 "metadata": {
  "kernelspec": {
   "display_name": "Python 3 (ipykernel)",
   "language": "python",
   "name": "python3"
  },
  "language_info": {
   "codemirror_mode": {
    "name": "ipython",
    "version": 3
   },
   "file_extension": ".py",
   "mimetype": "text/x-python",
   "name": "python",
   "nbconvert_exporter": "python",
   "pygments_lexer": "ipython3",
   "version": "3.8.10"
  },
  "latex_envs": {
   "LaTeX_envs_menu_present": true,
   "autoclose": true,
   "autocomplete": true,
   "bibliofile": "biblio.bib",
   "cite_by": "apalike",
   "current_citInitial": 1,
   "eqLabelWithNumbers": true,
   "eqNumInitial": 1,
   "hotkeys": {
    "equation": "Ctrl-E",
    "itemize": "Ctrl-I"
   },
   "labels_anchors": false,
   "latex_user_defs": false,
   "report_style_numbering": false,
   "user_envs_cfg": false
  },
  "toc": {
   "base_numbering": 1,
   "nav_menu": {},
   "number_sections": false,
   "sideBar": true,
   "skip_h1_title": false,
   "title_cell": "Table of Contents",
   "title_sidebar": "Contents",
   "toc_cell": false,
   "toc_position": {},
   "toc_section_display": true,
   "toc_window_display": false
  }
 },
 "nbformat": 4,
 "nbformat_minor": 5
}
