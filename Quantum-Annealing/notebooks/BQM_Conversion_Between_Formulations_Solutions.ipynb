{
 "cells": [
  {
   "attachments": {},
   "cell_type": "markdown",
   "id": "f38dd7dc",
   "metadata": {},
   "source": [
    "<table width = \"100%\">\n",
    "  <tr style=\"background-color:white;\">\n",
    "    <!-- QWorld Logo -->\n",
    "    <td style=\"text-align:left;width:200px;\"> \n",
    "        <a href=\"https://qworld.net/\" target=\"_blank\"><img src=\"../images/QWorld.png\"> </a></td>\n",
    "    <td style=\"text-align:right;vertical-align:bottom;font-size:16px;\"> \n",
    "        Prepared by AkashNarayanan B and Özlem Salehi</td>    \n",
    "</table>\n",
    "<hr>"
   ]
  },
  {
   "attachments": {},
   "cell_type": "markdown",
   "id": "f3ed0311",
   "metadata": {},
   "source": [
    "# <font color=\"blue\"> Solutions for </font> Conversion Between Formulations"
   ]
  },
  {
   "attachments": {},
   "cell_type": "markdown",
   "id": "d1a0f4c2",
   "metadata": {},
   "source": [
    "### Imports"
   ]
  },
  {
   "cell_type": "code",
   "execution_count": 1,
   "id": "4d7a7b59",
   "metadata": {},
   "outputs": [],
   "source": [
    "import numpy as np\n",
    "from dimod import BQM"
   ]
  },
  {
   "attachments": {},
   "cell_type": "markdown",
   "id": "b582ec09",
   "metadata": {},
   "source": [
    "<a id=\"Task1\"></a>\n",
    "\n",
    "### Task 1\n",
    "\n",
    "Create a QUBO in NumPy matrix form for the following objective function and create a BQM from it.\n",
    "\n",
    "$$f(x_1, x_2, x_3, x_4) = 3x_1 - 7x_2 + 11x_3 - x_4 + 9x_1 x_2 + x_1 x_3 + 2x_2 x_3 + 8x_3 x_4$$"
   ]
  },
  {
   "attachments": {},
   "cell_type": "markdown",
   "id": "4c153550",
   "metadata": {},
   "source": [
    "### Solution\n",
    "\n",
    "Define a NumPy matrix `Q` for the objective function."
   ]
  },
  {
   "cell_type": "code",
   "execution_count": 2,
   "id": "03543548",
   "metadata": {},
   "outputs": [],
   "source": [
    "Q_np = np.array([[  3,  9,  1,  0],\n",
    "                 [  0, -7,  2,  0],\n",
    "                 [  0,  0, 11,  8],\n",
    "                 [  0,  0,  0, -1]])"
   ]
  },
  {
   "attachments": {},
   "cell_type": "markdown",
   "id": "edf621b2",
   "metadata": {},
   "source": [
    "Construct a BQM from the above NumPy matrix."
   ]
  },
  {
   "cell_type": "code",
   "execution_count": 3,
   "id": "6120d552",
   "metadata": {},
   "outputs": [
    {
     "name": "stdout",
     "output_type": "stream",
     "text": [
      "BinaryQuadraticModel({0: 3.0, 1: -7.0, 2: 11.0, 3: -1.0}, {(1, 0): 9.0, (2, 0): 1.0, (2, 1): 2.0, (3, 2): 8.0}, 0.0, 'BINARY')\n"
     ]
    }
   ],
   "source": [
    "bqm_qubo_np = BQM(Q_np, \"BINARY\")\n",
    "\n",
    "print(bqm_qubo_np)"
   ]
  },
  {
   "attachments": {},
   "cell_type": "markdown",
   "id": "b4a07b56",
   "metadata": {},
   "source": [
    "<a id=\"Task2\"></a>\n",
    "\n",
    "### Task 2\n",
    "\n",
    "Create a QUBO dictionary form for the following objective function and create a BQM from it.\n",
    "\n",
    "$$f(x_1, x_2, x_3, x_4) = 3x_1 - 7x_2 + 11x_3 - x_4 + 9x_1 x_2 + x_1 x_3 + 2x_2 x_3 + 8x_3 x_4$$"
   ]
  },
  {
   "attachments": {},
   "cell_type": "markdown",
   "id": "e730dcc1",
   "metadata": {},
   "source": [
    "### Solution\n",
    "\n",
    "Define a QUBO in dictionary form for the given objective function."
   ]
  },
  {
   "cell_type": "code",
   "execution_count": 9,
   "id": "9b6d8848",
   "metadata": {},
   "outputs": [],
   "source": [
    "Q_dict = {\n",
    "    (\"x1\", \"x1\"): 3,\n",
    "    (\"x2\", \"x2\"): -7,\n",
    "    (\"x3\", \"x3\"): 11,\n",
    "    (\"x4\", \"x4\"): -1,\n",
    "    (\"x1\", \"x2\"): 9,\n",
    "    (\"x1\", \"x3\"): 1,\n",
    "    (\"x2\", \"x3\"): 2,\n",
    "    (\"x3\", \"x4\"): 8,\n",
    "}"
   ]
  },
  {
   "attachments": {},
   "cell_type": "markdown",
   "id": "a1a27d70",
   "metadata": {},
   "source": [
    "Construct a BQM from the above dictionary `Q_dict`."
   ]
  },
  {
   "cell_type": "code",
   "execution_count": 10,
   "id": "9df1f642",
   "metadata": {},
   "outputs": [
    {
     "name": "stdout",
     "output_type": "stream",
     "text": [
      "BinaryQuadraticModel({'x1': 3.0, 'x2': -7.0, 'x3': 11.0, 'x4': -1.0}, {('x2', 'x1'): 9.0, ('x3', 'x1'): 1.0, ('x3', 'x2'): 2.0, ('x4', 'x3'): 8.0}, 0.0, 'BINARY')\n"
     ]
    }
   ],
   "source": [
    "bqm_qubo_dict = BQM.from_qubo(Q_dict)\n",
    "\n",
    "print(bqm_qubo_dict)"
   ]
  },
  {
   "attachments": {},
   "cell_type": "markdown",
   "id": "f528a306",
   "metadata": {},
   "source": [
    "<a id=\"Task3\"></a>\n",
    "\n",
    "\n",
    "### Task 3\n",
    "\n",
    "Obtain the $Q$ matrix for the bqm formulation you created in Task 2. "
   ]
  },
  {
   "attachments": {},
   "cell_type": "markdown",
   "id": "3fc5511f",
   "metadata": {},
   "source": [
    "### Solution"
   ]
  },
  {
   "cell_type": "code",
   "execution_count": 12,
   "id": "534ff7d2",
   "metadata": {},
   "outputs": [
    {
     "name": "stdout",
     "output_type": "stream",
     "text": [
      "[[ 3.  9.  1.  0.]\n",
      " [ 0. -7.  2.  0.]\n",
      " [ 0.  0. 11.  8.]\n",
      " [ 0.  0.  0. -1.]]\n"
     ]
    },
    {
     "name": "stderr",
     "output_type": "stream",
     "text": [
      "C:\\ProgramData\\Anaconda3\\lib\\site-packages\\ipykernel_launcher.py:1: DeprecationWarning: bqm.to_numpy_matrix() is deprecated since dimod 0.10.0 and will be removed in 0.12.0\n",
      "  \"\"\"Entry point for launching an IPython kernel.\n"
     ]
    }
   ],
   "source": [
    "print(bqm_qubo_dict.to_numpy_matrix([\"x1\", \"x2\", \"x3\", \"x4\"]))"
   ]
  },
  {
   "attachments": {},
   "cell_type": "markdown",
   "id": "06cb9595",
   "metadata": {},
   "source": [
    "<a id=\"Task4\"></a>\n",
    "\n",
    "### Task 4\n",
    "\n",
    "Obtain the QUBO dictionary for the bqm formulation you created in Task 1. "
   ]
  },
  {
   "attachments": {},
   "cell_type": "markdown",
   "id": "c73a9d52",
   "metadata": {},
   "source": [
    "### Solution"
   ]
  },
  {
   "cell_type": "code",
   "execution_count": 14,
   "id": "b2cfe6f4",
   "metadata": {},
   "outputs": [
    {
     "name": "stdout",
     "output_type": "stream",
     "text": [
      "({(1, 0): 9.0, (2, 0): 1.0, (2, 1): 2.0, (3, 2): 8.0, (0, 0): 3.0, (1, 1): -7.0, (2, 2): 11.0, (3, 3): -1.0}, 0.0)\n"
     ]
    }
   ],
   "source": [
    "print(bqm_qubo_np.to_qubo())"
   ]
  },
  {
   "attachments": {},
   "cell_type": "markdown",
   "id": "46804b28",
   "metadata": {},
   "source": [
    "<a id=\"Task5\"></a>\n",
    "\n",
    "### Task 5\n",
    "\n",
    "Create dictionaries $h$ and $J$ for the following Ising model and obtain bqm model using `from_ising` function.\n",
    "\n",
    "$$s_1 + s_2 + s_3 + s_4 - 6s_1 s_3 - 6s_1 s_4 - 6s_3 s_4 - 6s_1 s_2.$$"
   ]
  },
  {
   "cell_type": "code",
   "execution_count": 16,
   "id": "7b758163",
   "metadata": {},
   "outputs": [
    {
     "name": "stdout",
     "output_type": "stream",
     "text": [
      "BinaryQuadraticModel({'s1': 1.0, 's3': 1.0, 's4': 1.0, 's2': 2.0}, {('s3', 's1'): -6.0, ('s4', 's1'): -6.0, ('s4', 's3'): -6.0, ('s2', 's1'): -6.0}, 0.0, 'SPIN')\n"
     ]
    }
   ],
   "source": [
    "h = {\"s1\":1, \"s2\":2, \"s3\":1, \"s4\":1}\n",
    "J = {(\"s1\",\"s3\"):-6, (\"s1\",\"s4\"):-6, (\"s3\",\"s4\"):-6, (\"s1\",\"s2\"):-6}\n",
    "\n",
    "bqm_ising = BQM.from_ising(h, J)\n",
    "print(bqm_ising)"
   ]
  },
  {
   "attachments": {},
   "cell_type": "markdown",
   "id": "ee129e92",
   "metadata": {},
   "source": [
    "<a id=\"Task6\"></a>\n",
    "\n",
    "### Task 6\n",
    "\n",
    "Obtain the Ising model for the bqm formulation you created in Task 2. \n",
    "\n",
    "Note: BQM formulation you created in Task 2 has variable type `BINARY` and it will be converted into `SPIN` after you make the conversion."
   ]
  },
  {
   "attachments": {},
   "cell_type": "markdown",
   "id": "c483fa64",
   "metadata": {},
   "source": [
    "### Solution"
   ]
  },
  {
   "cell_type": "code",
   "execution_count": 18,
   "id": "c567df96",
   "metadata": {},
   "outputs": [
    {
     "name": "stdout",
     "output_type": "stream",
     "text": [
      "({'x1': 4.0, 'x2': -0.75, 'x3': 8.25, 'x4': 1.5}, {('x2', 'x1'): 2.25, ('x3', 'x1'): 0.25, ('x3', 'x2'): 0.5, ('x4', 'x3'): 2.0}, 8.0)\n"
     ]
    }
   ],
   "source": [
    "print(bqm_qubo_dict.to_ising())"
   ]
  },
  {
   "attachments": {},
   "cell_type": "markdown",
   "id": "f48b75e8",
   "metadata": {},
   "source": [
    "Note that the coefficients are changed."
   ]
  },
  {
   "cell_type": "code",
   "execution_count": 19,
   "id": "785bda45",
   "metadata": {},
   "outputs": [
    {
     "name": "stdout",
     "output_type": "stream",
     "text": [
      "BinaryQuadraticModel({'x1': 3.0, 'x2': -7.0, 'x3': 11.0, 'x4': -1.0}, {('x2', 'x1'): 9.0, ('x3', 'x1'): 1.0, ('x3', 'x2'): 2.0, ('x4', 'x3'): 8.0}, 0.0, 'BINARY')\n"
     ]
    }
   ],
   "source": [
    "print(bqm_qubo_dict)"
   ]
  },
  {
   "attachments": {},
   "cell_type": "markdown",
   "id": "70d7c4bb",
   "metadata": {},
   "source": [
    "<a id=\"Task7\"></a>\n",
    "\n",
    "### Task 7\n",
    "\n",
    "Convert the following QUBO formulation into Ising formulation using the `BQM` class.\n",
    "\n",
    "$$5x_1 + 7x_1 x_2 - 3x_2.$$\n",
    "\n",
    "Note: Go back to the following [Ising model conversion](Ising_Model_2.ipynb#Task2) notebook to compare your solution."
   ]
  },
  {
   "attachments": {},
   "cell_type": "markdown",
   "id": "dbbf2a2b",
   "metadata": {},
   "source": [
    "### Solution\n",
    "\n",
    "We will first create a BQM instance."
   ]
  },
  {
   "cell_type": "code",
   "execution_count": 21,
   "id": "aaaf842a",
   "metadata": {},
   "outputs": [],
   "source": [
    "linear = {'x1': 5, 'x2': -3}\n",
    "quadratic = {('x1', 'x2'): 7}\n",
    "vartype = 'BINARY'\n",
    "\n",
    "bqm = BQM(linear, quadratic, vartype)"
   ]
  },
  {
   "attachments": {},
   "cell_type": "markdown",
   "id": "3afc3e4c",
   "metadata": {},
   "source": [
    "Next, we convert it into Ising model. "
   ]
  },
  {
   "cell_type": "code",
   "execution_count": 22,
   "id": "bed07afa",
   "metadata": {},
   "outputs": [
    {
     "data": {
      "text/plain": [
       "({'x1': 4.25, 'x2': 0.25}, {('x2', 'x1'): 1.75}, 2.75)"
      ]
     },
     "execution_count": 22,
     "metadata": {},
     "output_type": "execute_result"
    }
   ],
   "source": [
    "bqm.to_ising()"
   ]
  },
  {
   "attachments": {},
   "cell_type": "markdown",
   "id": "a1007dc1",
   "metadata": {},
   "source": [
    "This is exactly the same Ising model we had obtained in the previous notebook."
   ]
  },
  {
   "attachments": {},
   "cell_type": "markdown",
   "id": "fc6b874c",
   "metadata": {},
   "source": [
    "$$\\frac{17}{4}s_1 + \\frac{1}{4}s_2 + \\frac{7}{4}s_1s_2 + \\frac{11}{4}$$"
   ]
  },
  {
   "attachments": {},
   "cell_type": "markdown",
   "id": "0ddb9cd7",
   "metadata": {},
   "source": [
    "<a id=\"Task8\"></a>\n",
    "\n",
    "### Task 8\n",
    "\n",
    "Convert the following Ising model into QUBO formulation using the `BQM` class.\n",
    "\n",
    "$$s_1s_2 - s_1 + 3s_2.$$\n",
    "\n",
    "Note: Go back to the following [Ising model conversion](Ising_Model_2.ipynb#Task3) notebook to compare your solution."
   ]
  },
  {
   "attachments": {},
   "cell_type": "markdown",
   "id": "1f35e140",
   "metadata": {},
   "source": [
    "### Solution\n",
    "\n",
    "We will first create a BQM instance."
   ]
  },
  {
   "cell_type": "code",
   "execution_count": 24,
   "id": "97028853",
   "metadata": {},
   "outputs": [],
   "source": [
    "h = {'s1': -1, 's2':3}\n",
    "J = {('s1', 's2'): 1}\n",
    "vartype = 'SPIN'\n",
    "\n",
    "bqm = BQM(h, J, vartype)"
   ]
  },
  {
   "attachments": {},
   "cell_type": "markdown",
   "id": "7f8d3563",
   "metadata": {},
   "source": [
    "Next, we convert it into QUBO formulation. "
   ]
  },
  {
   "cell_type": "code",
   "execution_count": 25,
   "id": "dabb587c",
   "metadata": {},
   "outputs": [
    {
     "data": {
      "text/plain": [
       "({('s2', 's1'): 4.0, ('s1', 's1'): -4.0, ('s2', 's2'): 4.0}, -1.0)"
      ]
     },
     "execution_count": 25,
     "metadata": {},
     "output_type": "execute_result"
    }
   ],
   "source": [
    "bqm.to_qubo()"
   ]
  },
  {
   "attachments": {},
   "cell_type": "markdown",
   "id": "a115d0c4",
   "metadata": {},
   "source": [
    "This is exactly the same QUBO formulation we had obtained in the previous notebook.\n",
    "$$4x_1x_2 - 4x_1 + 4x_2 - 1$$"
   ]
  }
 ],
 "metadata": {
  "kernelspec": {
   "display_name": "Python 3 (ipykernel)",
   "language": "python",
   "name": "python3"
  },
  "language_info": {
   "codemirror_mode": {
    "name": "ipython",
    "version": 3
   },
   "file_extension": ".py",
   "mimetype": "text/x-python",
   "name": "python",
   "nbconvert_exporter": "python",
   "pygments_lexer": "ipython3",
   "version": "3.8.10"
  }
 },
 "nbformat": 4,
 "nbformat_minor": 5
}
