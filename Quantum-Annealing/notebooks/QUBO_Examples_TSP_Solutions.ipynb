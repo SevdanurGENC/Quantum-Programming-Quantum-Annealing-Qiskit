{
 "cells": [
  {
   "cell_type": "markdown",
   "id": "worst-cuisine",
   "metadata": {},
   "source": [
    "<table width = \"100%\">\n",
    "  <tr style=\"background-color:white;\">\n",
    "    <!-- QWorld Logo -->\n",
    "    <td style=\"text-align:left;width:200px;\"> \n",
    "        <a href=\"https://qworld.net/\" target=\"_blank\"><img src=\"../images/QWorld.png\"> </a></td>\n",
    "    <td style=\"text-align:right;vertical-align:bottom;font-size:16px;\"> \n",
    "        Prepared by <a href=\"https://gitlab.com/sabahuddin.ahmad\" target=\"_blank\"> Sabah Ud Din Ahmad </a> and Özlem Salehi</td>\n",
    "    </tr> \n",
    " </table>\n",
    " \n",
    "<hr>"
   ]
  },
  {
   "cell_type": "markdown",
   "id": "following-arrest",
   "metadata": {},
   "source": [
    "# <font color=\"blue\"> Solutions for </font> QUBO Formulation for TSP"
   ]
  },
  {
   "cell_type": "markdown",
   "id": "blank-pixel",
   "metadata": {},
   "source": [
    "<a id=\"task1\"></a>\n",
    "\n",
    "### Task 1\n",
    "\n",
    "Verify the following observations for the second term:\n",
    "\n",
    "- Each $x_{i,t}$ appears with coefficient -1\n",
    "- For each fixed $i$, all possible 2-combinations of $x_{i,t}$ appears with coefficient +1\n",
    "- There is a constant coefficeint of +3"
   ]
  },
  {
   "cell_type": "markdown",
   "id": "great-mixture",
   "metadata": {},
   "source": [
    "<h3> Solution </h3>"
   ]
  },
  {
   "cell_type": "markdown",
   "id": "increased-regard",
   "metadata": {},
   "source": [
    "Let us copy the second term here:\n",
    "\n",
    "$$P \\cdot\\sum_{i=0}^{2} \\left(1 - (x_{i,0}+x_{i,1}+x_{i,2})\\right)^2$$\n",
    "Expanding the sum we obtain,\n",
    "$$P \\cdot \\left[\\left(1 - (x_{0,0}+x_{0,1}+x_{0,2})\\right)^2+\\left(1 - (x_{1,0}+x_{1,1}+x_{1,2})\\right)^2+\\left(1 - (x_{2,0}+x_{2,1}+x_{2,2})\\right)^2\\right]$$\n",
    "\n",
    "Let us check $\\left(1 - (x_{0,0}+x_{0,1}+x_{0,2})\\right)^2$.\n",
    "\n",
    "$$ \n",
    "\\left(1 - x_{0,0}-x_{0,1}-x_{0,2}\\right)^2= 1 + x_{0,0}^2 + x_{0,1}^2 + x_{0,2}^2 - 2x_{0,0}-2x_{0,1}-2x_{0,2} +2x_{0,0}x_{0,1}+2x_{0,0}x_{0,2} + 2x_{0,1}x_{0,2}.\n",
    "$$\n",
    "\n",
    "\n",
    "This can be simplified by replacing the quadratic terms $x_{i,t}^2$ by $x_{i,t}$.\n",
    "\n",
    "\n",
    "$$ \n",
    "1 -x_{0,0}-x_{0,1}-x_{0,2} +2x_{0,0}x_{0,1}+2x_{0,0}x_{0,2} +  2x_{0,1}x_{0,2}\n",
    "$$\n",
    "\n",
    "\n",
    "Note that each term $x_{0,t}$ is appearing once with the coefficient -1 and we have all possible 2-combinations of $x_{0,t}$ as quadratic terms with coefficient +2. In addition, we have a constant of +1. \n",
    "\n",
    "The same structure will be valid for $\\left(1 - (x_{1,0}+x_{1,1}+x_{1,2})\\right)^2$ and $\\left(1 - (x_{2,0}+x_{2,1}+x_{2,2})\\right)^2$.\n",
    "\n",
    "So for the second term we have the following:\n",
    "- Each $x_{i,t}$ appears with coefficient -1\n",
    "- For each fixed $i$, all possible 2-combinations of $x_{i,t}$ appears with coefficient +2.\n",
    "- There is a constant coefficeint of +3"
   ]
  },
  {
   "cell_type": "markdown",
   "id": "literary-plain",
   "metadata": {},
   "source": [
    "<a id=\"task2\"></a>\n",
    "### Task 2\n",
    "\n",
    "You are given the weights $w_{ij}$ as a cost matrix in the following cell. Assuming $P=20$, create the above $Q$ matrix using numpy. Use the `qubo_solver` defined previously to find the vector $x$ that minimizes $x^TQx$."
   ]
  },
  {
   "cell_type": "markdown",
   "id": "brazilian-exposure",
   "metadata": {},
   "source": [
    "<h3> Solution </h3>"
   ]
  },
  {
   "cell_type": "code",
   "execution_count": 26,
   "id": "turkish-glenn",
   "metadata": {},
   "outputs": [],
   "source": [
    "# Access the qubo_solver() function\n",
    "%run qubo_functions.py"
   ]
  },
  {
   "cell_type": "code",
   "execution_count": 74,
   "id": "ongoing-pocket",
   "metadata": {},
   "outputs": [],
   "source": [
    "import numpy as np\n",
    "\n",
    "W = np.array([[0,10,7],\n",
    "             [15,0,9],\n",
    "             [14,8,0]])"
   ]
  },
  {
   "cell_type": "code",
   "execution_count": 75,
   "id": "offensive-disclaimer",
   "metadata": {},
   "outputs": [],
   "source": [
    "# Set P\n",
    "P = 20\n",
    "\n",
    "# Define Q matrix\n",
    "Q = np.array([\n",
    "[-2*P  ,2*P   ,2*P   ,2*P     ,W[0][1] ,W[1][0] ,2*P     ,W[0][2] ,W[2][0]],\n",
    "[0     ,-2*P  ,2*P   ,W[1][0] ,2*P     ,W[0][1] ,W[2][0] ,2*P     ,W[0][2]],\n",
    "[0     ,0     ,-2*P  ,W[0][1] ,W[1][0] ,2*P     ,W[0][2] ,W[2][0] ,2*P    ],\n",
    "[0     ,0     ,0     ,-2*P    ,2*P     ,2*P     ,2*P     ,W[1][2] ,W[2][1]],\n",
    "[0     ,0     ,0     ,0       ,-2*P    ,2*P     ,W[2][1] ,2*P     ,W[1][2]],\n",
    "[0     ,0     ,0     ,0       ,0       ,-2*P    ,W[1][2] ,W[2][1] ,2*P    ],\n",
    "[0     ,0     ,0     ,0       ,0       ,0       ,-2*P    ,2*P     ,2*P    ],\n",
    "[0     ,0     ,0     ,0       ,0       ,0       ,0       ,-2*P    ,2*P    ],\n",
    "[0     ,0     ,0     ,0       ,0       ,0       ,0       ,0       ,-2*P   ]\n",
    "]    \n",
    ")"
   ]
  },
  {
   "cell_type": "code",
   "execution_count": 55,
   "id": "engaged-advice",
   "metadata": {},
   "outputs": [
    {
     "data": {
      "text/plain": [
       "'The vector (1, 0, 0, 0, 0, 1, 0, 1, 0) minimizes the objective function to a value of -90.'"
      ]
     },
     "execution_count": 55,
     "metadata": {},
     "output_type": "execute_result"
    }
   ],
   "source": [
    "qubo_solver(Q)"
   ]
  },
  {
   "cell_type": "markdown",
   "id": "familiar-launch",
   "metadata": {},
   "source": [
    "<a id=\"task3\"></a>\n",
    "### Task 3 (Optional)\n",
    "\n",
    "\n",
    "Create the above matrix $Q$ using numpy and for loops instead of hardcoding the values. Create a function that takes as parameter the number of cities $n$, the cost matrix $W$ and penalty value $P$ and returns $Q$. Verify that you obtain the same matrix as in Task 2.\n",
    "\n",
    "Hint:\n",
    "- Set the diagonals\n",
    "- Set the entries sharing same time index\n",
    "- Set the entries sharing same node\n",
    "- Set the entries for consecutive time points"
   ]
  },
  {
   "cell_type": "markdown",
   "id": "sustained-knight",
   "metadata": {},
   "source": [
    "<h3> Solution </h3>"
   ]
  },
  {
   "cell_type": "markdown",
   "id": "incorrect-laundry",
   "metadata": {},
   "source": [
    "We will go through the $n^2$ rows and columns in the matrix.\n",
    "\n",
    "Diagonals correspond to entries sharing the same row and column number.\n",
    "\n",
    "Note that for row `i` and column `j`, `i//n` and `j//n` give the node number and `i&n` and `j%n` give the time point.\n",
    "\n",
    "The matrix is constructed based on this observation."
   ]
  },
  {
   "cell_type": "code",
   "execution_count": 9,
   "id": "embedded-character",
   "metadata": {},
   "outputs": [],
   "source": [
    "def tsp_matrix(n, W, P):\n",
    "    # Initialize an empty matrix\n",
    "    Q = np.zeros((n*n,n*n))\n",
    "\n",
    "    for i in range(n*n):\n",
    "        for j in range(i,n*n):\n",
    "            # Diagonals\n",
    "            if i==j:\n",
    "                Q[i][j]=-2*P\n",
    "            else:\n",
    "                # If share the same node or time point\n",
    "                if i//n == j//n or i%n == j%n:\n",
    "                    Q[i][j]=2*P\n",
    "                # If entries in row i and column j correspond to consecutive time points\n",
    "                elif j%n == i%n +1 or i%n == n-1 and j%n == 0:\n",
    "                    Q[i][j]=W[i//n][j//n]\n",
    "                elif j%n == i%n -1 or i%n == 0  and j%n == n-1:\n",
    "                    Q[i][j]=W[j//n][i//n]\n",
    "    return Q   "
   ]
  },
  {
   "cell_type": "code",
   "execution_count": 87,
   "id": "digital-amendment",
   "metadata": {},
   "outputs": [
    {
     "data": {
      "text/plain": [
       "False"
      ]
     },
     "execution_count": 87,
     "metadata": {},
     "output_type": "execute_result"
    }
   ],
   "source": [
    "Q1 = tsp_matrix(3, W, 20)\n",
    "np.array_equal(Q1,Q)"
   ]
  },
  {
   "cell_type": "markdown",
   "id": "pressing-cooper",
   "metadata": {},
   "source": [
    "<a id=\"task4\"></a>\n",
    "\n",
    "### Task 4 (Optional)\n",
    "\n",
    "Let's assume we have the following fully-connected, undirected graph of 4 nodes/cities and 6 edges, $G = (4,6)$. \n",
    "\n",
    "<img src=\"../images/tsp_1.png\" width=\"250\">\n",
    "\n",
    "Using the function you created in Task 3, obtain matrix $Q$ for the given graph and use the `qubo_solver` defined previously to find the vector $x$ that minimizes $x^TQx$. Interpret the result."
   ]
  },
  {
   "cell_type": "markdown",
   "id": "moving-relation",
   "metadata": {},
   "source": [
    "### Solution"
   ]
  },
  {
   "cell_type": "code",
   "execution_count": 83,
   "id": "ready-breathing",
   "metadata": {},
   "outputs": [],
   "source": [
    "# Access the qubo_solver() function\n",
    "%run qubo_functions.py"
   ]
  },
  {
   "cell_type": "code",
   "execution_count": 88,
   "id": "deadly-vitamin",
   "metadata": {},
   "outputs": [],
   "source": [
    "import numpy as np\n",
    "\n",
    "#define W\n",
    "W2 = np.array([[0,12,14,17],\n",
    "             [12,0,15,18],\n",
    "             [14,15,0,29],\n",
    "             [17,18,29,0]])"
   ]
  },
  {
   "cell_type": "code",
   "execution_count": 90,
   "id": "every-weather",
   "metadata": {},
   "outputs": [],
   "source": [
    "# Set P\n",
    "P = 30\n",
    "# Set n\n",
    "n = 4\n",
    "# Obtain Q matrix\n",
    "Q2 = tsp_matrix(n, W2, P)"
   ]
  },
  {
   "cell_type": "code",
   "execution_count": 91,
   "id": "enormous-dairy",
   "metadata": {},
   "outputs": [
    {
     "data": {
      "text/plain": [
       "'The vector (1, 0, 0, 0, 0, 0, 1, 0, 0, 1, 0, 0, 0, 0, 0, 1) minimizes the objective function to a value of -176.0.'"
      ]
     },
     "execution_count": 91,
     "metadata": {},
     "output_type": "execute_result"
    }
   ],
   "source": [
    "qubo_solver(Q2)"
   ]
  },
  {
   "cell_type": "markdown",
   "id": "acceptable-porter",
   "metadata": {},
   "source": [
    "The entries that are 1 in the vector returned by the `qubo_solver` corresponds to binary variables $x_{0,0},x_{1,2},x_{2,1},x_{3,3}$.\n",
    "\n",
    "This corresponds to the tour $0-2-1-3-0$.\n",
    "\n",
    "Note that the offset is $30\\cdot8 = 240$ and the objective value is 64 which corresponds to the cost of the tour. You can verify that 64 is the cost of the tour by adding the cost of the edges $(0-2), (2-1), (1-3), (3-0)$ as well.\n"
   ]
  },
  {
   "cell_type": "code",
   "execution_count": 4,
   "id": "refined-mongolia",
   "metadata": {},
   "outputs": [
    {
     "data": {
      "image/png": "[encoded data removed]",
      "text/plain": [
       "<Figure size 432x288 with 1 Axes>"
      ]
     },
     "metadata": {},
     "output_type": "display_data"
    }
   ],
   "source": [
    "from bqm_utils import tsp_viz\n",
    "import networkx as nx\n",
    "\n",
    "G = nx.Graph()\n",
    "G.add_weighted_edges_from(\n",
    "    [(0, 1, 12), (0, 2, 14), (0, 3, 17), (1, 2, 15), (1, 3, 18), (2, 3, 29)]\n",
    ")\n",
    "path = [0,2,1,3]\n",
    "tsp_viz(G, path)"
   ]
  },
  {
   "cell_type": "markdown",
   "id": "ceramic-capability",
   "metadata": {},
   "source": [
    "<a id=\"task5\"></a>\n",
    "\n",
    "### Task 5 (Optional)\n",
    "\n",
    "Let's assume we have the following fully-connected, undirected graph $G$ of 4 nodes/cities and 6 edges. \n",
    "\n",
    "<img src=\"../images/tsp_2.png\" width=\"250\">\n",
    "\n",
    "Using the function you created in Task 3, obtain matrix $Q$ for the given graph and use the `qubo_solver` defined previously to find the vector $x$ that minimizes $x^TQx$. Interpret the result.\n",
    "\n",
    "Note: You may not be able to solve it depending on your computer's performance."
   ]
  },
  {
   "cell_type": "markdown",
   "id": "veterinary-bennett",
   "metadata": {},
   "source": [
    "### Solution"
   ]
  },
  {
   "cell_type": "code",
   "execution_count": 13,
   "id": "tribal-channel",
   "metadata": {},
   "outputs": [],
   "source": [
    "# Access the qubo_solver() function\n",
    "%run qubo_functions.py"
   ]
  },
  {
   "cell_type": "code",
   "execution_count": 14,
   "id": "pending-enhancement",
   "metadata": {},
   "outputs": [],
   "source": [
    "import numpy as np\n",
    "\n",
    "#define W\n",
    "W3 = np.array([[0 ,12,10,19,8],\n",
    "               [12,0 ,3 ,7 ,2],\n",
    "               [10,3 ,0 ,6,20],\n",
    "               [19,7 ,6 ,0 ,4],\n",
    "               [8 ,2 ,20,4 ,0],\n",
    "              ])"
   ]
  },
  {
   "cell_type": "code",
   "execution_count": 15,
   "id": "competent-rover",
   "metadata": {},
   "outputs": [],
   "source": [
    "# Set P\n",
    "P = 30\n",
    "# Set n\n",
    "n = 5\n",
    "# Obtain Q matrix\n",
    "Q3 = tsp_matrix(n, W3, P)"
   ]
  },
  {
   "cell_type": "code",
   "execution_count": 16,
   "id": "central-composition",
   "metadata": {},
   "outputs": [
    {
     "data": {
      "text/plain": [
       "'The vector (1, 0, 0, 0, 0, 0, 0, 1, 0, 0, 0, 1, 0, 0, 0, 0, 0, 0, 1, 0, 0, 0, 0, 0, 1) minimizes the objective function to a value of -268.0.'"
      ]
     },
     "execution_count": 16,
     "metadata": {},
     "output_type": "execute_result"
    }
   ],
   "source": [
    "qubo_solver(Q3)"
   ]
  },
  {
   "cell_type": "markdown",
   "id": "criminal-recommendation",
   "metadata": {},
   "source": [
    "<a id=\"task6\"></a>\n",
    "### Task 6\n",
    "\n",
    "Assuming that node 0 is the first node in the tour, obtain the new $4\\times4$ matrix $Q$ for the above graph. Create a numpy matrix and find the vector that minimizes $x^TQx$ using the `qubo_solver` function. Interpret the result."
   ]
  },
  {
   "cell_type": "markdown",
   "id": "scheduled-education",
   "metadata": {},
   "source": [
    "### Solution"
   ]
  },
  {
   "cell_type": "markdown",
   "id": "leading-textbook",
   "metadata": {},
   "source": [
    "$$Q=\n",
    "\\begin{pmatrix}\n",
    "       &x_{1,1}   &x_{1,2}    &x_{2,1}     & x_{2,2}   \\\\\n",
    "x_{1,1}&-2P+w_{01}& 2P        & 2P         & w_{12}    \\\\\n",
    "x_{1,2}&  0       & -2P+w_{10}& w_{21}     & 2P        \\\\\n",
    "x_{2,1}& 0        & 0         & -2P+w_{02} & 2P        \\\\\n",
    "x_{2,2}& 0        & 0         & 0          & -2P+w_{20}\\\\\n",
    "\\end{pmatrix}$$\n"
   ]
  },
  {
   "cell_type": "code",
   "execution_count": 2,
   "id": "bound-amendment",
   "metadata": {},
   "outputs": [],
   "source": [
    "# Access the qubo_solver() function\n",
    "%run qubo_functions.py"
   ]
  },
  {
   "cell_type": "code",
   "execution_count": 3,
   "id": "willing-laugh",
   "metadata": {},
   "outputs": [],
   "source": [
    "import numpy as np\n",
    "\n",
    "W = np.array([[0,10,7],\n",
    "             [15,0,9],\n",
    "             [14,8,0]])"
   ]
  },
  {
   "cell_type": "code",
   "execution_count": 5,
   "id": "modern-tokyo",
   "metadata": {},
   "outputs": [],
   "source": [
    "# Set P\n",
    "P = 20\n",
    "\n",
    "# Define Q matrix\n",
    "Q = np.array([\n",
    "[-2*P+W[0][1] ,2*P          ,2*P          ,W[1][2]     ],\n",
    "[0            ,-2*P+W[1][0] ,W[2][1]      ,2*P         ],\n",
    "[0            ,0            ,-2*P+W[0][2] ,2*P         ],\n",
    "[0            ,0            ,0            ,-2*P+W[2][0]],\n",
    "]    \n",
    ")"
   ]
  },
  {
   "cell_type": "code",
   "execution_count": 6,
   "id": "consolidated-cocktail",
   "metadata": {},
   "outputs": [
    {
     "data": {
      "text/plain": [
       "'The vector (0, 1, 1, 0) minimizes the objective function to a value of -50.'"
      ]
     },
     "execution_count": 6,
     "metadata": {},
     "output_type": "execute_result"
    }
   ],
   "source": [
    "qubo_solver(Q)"
   ]
  },
  {
   "cell_type": "markdown",
   "id": "forty-saturn",
   "metadata": {},
   "source": [
    "From the vector, we deduce that $x_{1,2}=1$ and $x_{2,1}=1$. Hence the corresponding route is $0-2-1$.\n",
    "\n",
    "Note that the offset is $4P=80$ and the objective value is 30 which is the cost of the tour."
   ]
  }
 ],
 "metadata": {
  "kernelspec": {
   "display_name": "Python 3",
   "language": "python",
   "name": "python3"
  },
  "language_info": {
   "codemirror_mode": {
    "name": "ipython",
    "version": 3
   },
   "file_extension": ".py",
   "mimetype": "text/x-python",
   "name": "python",
   "nbconvert_exporter": "python",
   "pygments_lexer": "ipython3",
   "version": "3.7.3"
  },
  "latex_envs": {
   "LaTeX_envs_menu_present": true,
   "autoclose": true,
   "autocomplete": true,
   "bibliofile": "biblio.bib",
   "cite_by": "apalike",
   "current_citInitial": 1,
   "eqLabelWithNumbers": true,
   "eqNumInitial": 1,
   "hotkeys": {
    "equation": "Ctrl-E",
    "itemize": "Ctrl-I"
   },
   "labels_anchors": false,
   "latex_user_defs": false,
   "report_style_numbering": false,
   "user_envs_cfg": false
  },
  "toc": {
   "base_numbering": 1,
   "nav_menu": {},
   "number_sections": true,
   "sideBar": true,
   "skip_h1_title": false,
   "title_cell": "Table of Contents",
   "title_sidebar": "Contents",
   "toc_cell": false,
   "toc_position": {},
   "toc_section_display": true,
   "toc_window_display": false
  }
 },
 "nbformat": 4,
 "nbformat_minor": 5
}
