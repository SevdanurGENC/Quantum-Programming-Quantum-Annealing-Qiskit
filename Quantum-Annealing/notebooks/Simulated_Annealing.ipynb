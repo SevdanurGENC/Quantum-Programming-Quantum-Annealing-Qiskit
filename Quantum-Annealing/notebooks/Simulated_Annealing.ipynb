{
 "cells": [
  {
   "cell_type": "markdown",
   "id": "coupled-relief",
   "metadata": {},
   "source": [
    "<table width = \"100%\">\n",
    "  <tr style=\"background-color:white;\">\n",
    "    <!-- QWorld Logo -->\n",
    "    <td style=\"text-align:left;width:200px;\"> \n",
    "        <a href=\"https://qworld.net/\" target=\"_blank\"><img src=\"../images/QWorld.png\"> </a></td>\n",
    "    <td style=\"text-align:right;vertical-align:bottom;font-size:16px;\"> \n",
    "        Prepared by <a href=\"https://gitlab.com/Manan-Sood\" target=\"_blank\"> Manan Sood </a> and <a href=\"https://www.cmpe.boun.edu.tr/~ozlem.salehi/\" target=\"_blank\"> Özlem Salehi </a> </td>\n",
    "    </tr> \n",
    " </table>\n",
    " \n",
    "<hr>"
   ]
  },
  {
   "cell_type": "markdown",
   "id": "small-minutes",
   "metadata": {},
   "source": [
    "# Simulated Annealing"
   ]
  },
  {
   "cell_type": "markdown",
   "id": "stretch-marks",
   "metadata": {},
   "source": [
    "Simulated annealing is a stochastic global search optimization algorithm.\n",
    "\n",
    "The algorithm is inspired by annealing in _metallurgy_ where metal is heated to a high temperature quickly, then cooled slowly. \n",
    "\n",
    "The physical annealing process works by first exciting the atoms in the material at a high temperature, allowing the atoms to move around a lot, then decreasing their excitement slowly, allowing the atoms to fall into a new, more stable configuration. \n",
    "\n",
    "<b>Simulated annealing</b> (SA) mimics the physical annealing process. (We would like to point out that it is not a physical process but it is an anology). \n",
    "\n",
    "It can be considered as a modified version of stochastic hill climbing. Stochastic hill climbing maintains a single candidate solution and takes steps of a random but constrained size from the candidate in the search space. If the new point is better than the current point, then the current point is replaced with the new point. This process continues for a fixed number of iterations."
   ]
  },
  {
   "cell_type": "markdown",
   "id": "derived-current",
   "metadata": {},
   "source": [
    "<img src=\"../images/sa.gif\" width=\"550\">\n",
    "\n",
    "\n",
    "Image is taken from Image is taken from [Wikipedia](https://en.wikipedia.org/wiki/Simulated_annealing) "
   ]
  },
  {
   "cell_type": "markdown",
   "id": "understood-shanghai",
   "metadata": {},
   "source": [
    "Simulated annealing executes the search in the same way. \n",
    "\n",
    "The main difference is that new points that are not as good as the current point (worse points) are accepted sometimes. A worse point is accepted probabilistically where the likelihood of accepting a solution worse than the current solution is a function of the _temperature_ of the search and how much worse the solution is than the current solution. Moving to worse solutions allow escaping from local minima. The temperature is decreased gradually, making unfavorable changes less probable as the process continues. 0 temperature is simply the hill climbing algorithm.  "
   ]
  },
  {
   "cell_type": "markdown",
   "id": "massive-savage",
   "metadata": {},
   "source": [
    "## Algorithm\n",
    "\n",
    "<B> Step 1: </B> Start with an initial feasible solution $s=s_0$ and temperature $t=t_0$.\n",
    "\n",
    "<B> Step 2: </B> Until the termination conditions are reached, repeat the following: \n",
    "<ul>    \n",
    "<li>Pick a solution $s'$ from the neighborhood of solutions $N(s)$. \n",
    "<li>Let $\\bigtriangleup$ be the difference between cost of $s'$ and $s$.</li>\n",
    "<li>If $\\bigtriangleup<0$, accept the new solution, i.e. $s=s'$. Otherwise, pick a random number $p$ between 0 and 1. Accept $s'$ if $e^{-\\bigtriangleup c/t } >p$.</li>\n",
    "    <li>Calculate the new temperature $t$ according to the <i>annealing schedule</i>.</li>\n",
    "</ul>"
   ]
  },
  {
   "cell_type": "markdown",
   "id": "brave-delivery",
   "metadata": {},
   "source": [
    "### Some notes\n",
    "\n",
    "- Annealing schedule describes how temperature decreases in time. Most common choices are linear ($t= t-a$), and geometric ($t = t*a)$.\n",
    "\n",
    "- Neighborhood of solutions is obtained by altering the current state.\n",
    "\n",
    "- Termination condition can be a fixed number of iterations or reaching some acceptable threshold of performance."
   ]
  },
  {
   "cell_type": "markdown",
   "id": "organizational-professor",
   "metadata": {},
   "source": [
    "## D-Wave Simulated Annealer"
   ]
  },
  {
   "cell_type": "markdown",
   "id": "sized-eclipse",
   "metadata": {},
   "source": [
    "Now we will investigate how we can run simulated annealing algorithm from D-Wave library neal."
   ]
  },
  {
   "cell_type": "code",
   "execution_count": null,
   "id": "opponent-reviewer",
   "metadata": {},
   "outputs": [],
   "source": [
    "from dimod import BQM\n",
    "\n",
    "from neal import SimulatedAnnealingSampler \n",
    "sampler = SimulatedAnnealingSampler()\n",
    "\n",
    "linear = {'x1': -5, 'x2': -3, 'x3': -8, 'x4': -6}\n",
    "quadratic = {('x1', 'x2'): 4, ('x1', 'x3'): 8, ('x2', 'x3'): 2, ('x3', 'x4'): 10}\n",
    "vartype = 'BINARY'\n",
    "\n",
    "bqm = BQM(linear, quadratic, vartype)\n",
    "\n",
    "sampleset = sampler.sample(bqm, num_reads=10)\n",
    "print(sampleset)"
   ]
  },
  {
   "cell_type": "markdown",
   "id": "experimental-bridges",
   "metadata": {},
   "source": [
    "In the example above, we use `SimulatedAnnealingSampler` to find the ground state of the `bqm`. \n",
    "\n",
    "One parameter we have used is the `num_reads`, which determines how many runs of the simulated annealing algorithm we would like to call. Each line in the output corresponds to solution found in one run of the algorithm.\n",
    "\n",
    "There are also additional parameters you can provide such as `beta_schedule` and `num_sweeps` but we will not go into detail.  \n",
    "\n",
    "Note that since the algorithm is stochastic, having multiple runs helps us to estimate better the minimum energy sample."
   ]
  },
  {
   "cell_type": "markdown",
   "id": "existing-cylinder",
   "metadata": {},
   "source": [
    "### Task 1\n",
    "\n",
    "Find out what assignment of $x_1$ and $x_2$ minimizes the following objective function using simulated annealing. Set number of reads to 1000.\n",
    "\n",
    "$$5x_1 + 7x_1 x_2 - 3x_2 + 2$$"
   ]
  },
  {
   "cell_type": "code",
   "execution_count": null,
   "id": "b4f69715",
   "metadata": {},
   "outputs": [],
   "source": [
    "# Your code here\n",
    "\n"
   ]
  },
  {
   "cell_type": "markdown",
   "id": "301c3797",
   "metadata": {},
   "source": [
    "[click here for solution](Simulated_Annealing_Solutions.ipynb#Task1)"
   ]
  },
  {
   "cell_type": "markdown",
   "id": "australian-wrapping",
   "metadata": {},
   "source": [
    "There are additional parameters that you can define when running simualted annealing. You can check the whole list from [here](https://docs.ocean.dwavesys.com/projects/neal/en/latest/reference/generated/neal.sampler.SimulatedAnnealingSampler.sample.html#neal.sampler.SimulatedAnnealingSampler.sample)."
   ]
  },
  {
   "cell_type": "markdown",
   "id": "useful-nicholas",
   "metadata": {},
   "source": [
    "It is also possible to input a QUBO dictionary for the sampler through the function `sample_qubo` and an Ising model by providing `h` and `J` using funcation `sample_ising`."
   ]
  },
  {
   "cell_type": "markdown",
   "id": "56a4fc1a",
   "metadata": {},
   "source": [
    "### Task 2\n",
    "\n",
    "Use simulated annealing to find out the assignment that gives the minimum energy for the following QUBO dictionary. Set number of reads to 1000."
   ]
  },
  {
   "cell_type": "code",
   "execution_count": null,
   "id": "e09ed3e4",
   "metadata": {},
   "outputs": [],
   "source": [
    "Q_dict = {\n",
    "    (\"x1\", \"x1\"): 3,\n",
    "    (\"x2\", \"x2\"): -7,\n",
    "    (\"x3\", \"x3\"): 11,\n",
    "    (\"x4\", \"x4\"): -1,\n",
    "    (\"x1\", \"x2\"): 9,\n",
    "    (\"x1\", \"x3\"): 1,\n",
    "    (\"x2\", \"x3\"): 2,\n",
    "    (\"x3\", \"x4\"): 8,\n",
    "}"
   ]
  },
  {
   "cell_type": "code",
   "execution_count": null,
   "id": "0298971c",
   "metadata": {},
   "outputs": [],
   "source": [
    "# Your code here\n",
    "\n"
   ]
  },
  {
   "cell_type": "markdown",
   "id": "35a49aab",
   "metadata": {},
   "source": [
    "[click here for solution](Simulated_Annealing_Solutions.ipynb#Task2)"
   ]
  },
  {
   "cell_type": "markdown",
   "id": "d7e7e785",
   "metadata": {},
   "source": [
    "### Task 3\n",
    "\n",
    "Use simulated annealing to find out the assignment that gives the minimum energy for the following Ising Model defined through `h` and `J` parameters. Set number of reads to 1000. \n",
    "\n"
   ]
  },
  {
   "cell_type": "code",
   "execution_count": null,
   "id": "9e358d39",
   "metadata": {},
   "outputs": [],
   "source": [
    "h = {'s1': 3, 's2': 1,'s3': 4, 's4': 2}\n",
    "J = {('s1', 's2'): 4, ('s1', 's3'): 1, ('s1', 's4'): 6, ('s3', 's4'): 7}"
   ]
  },
  {
   "cell_type": "code",
   "execution_count": null,
   "id": "f3939ed5",
   "metadata": {},
   "outputs": [],
   "source": [
    "# Your code here\n"
   ]
  },
  {
   "cell_type": "markdown",
   "id": "9b13f902",
   "metadata": {},
   "source": [
    "[click here for solution](Simulated_Annealing_Solutions.ipynb#Task3)"
   ]
  }
 ],
 "metadata": {
  "kernelspec": {
   "display_name": "Python 3",
   "language": "python",
   "name": "python3"
  },
  "language_info": {
   "codemirror_mode": {
    "name": "ipython",
    "version": 3
   },
   "file_extension": ".py",
   "mimetype": "text/x-python",
   "name": "python",
   "nbconvert_exporter": "python",
   "pygments_lexer": "ipython3",
   "version": "3.7.3"
  },
  "latex_envs": {
   "LaTeX_envs_menu_present": true,
   "autoclose": true,
   "autocomplete": true,
   "bibliofile": "biblio.bib",
   "cite_by": "apalike",
   "current_citInitial": 1,
   "eqLabelWithNumbers": true,
   "eqNumInitial": 1,
   "hotkeys": {
    "equation": "Ctrl-E",
    "itemize": "Ctrl-I"
   },
   "labels_anchors": false,
   "latex_user_defs": false,
   "report_style_numbering": false,
   "user_envs_cfg": false
  },
  "toc": {
   "base_numbering": 1,
   "nav_menu": {},
   "number_sections": true,
   "sideBar": true,
   "skip_h1_title": false,
   "title_cell": "Table of Contents",
   "title_sidebar": "Contents",
   "toc_cell": false,
   "toc_position": {},
   "toc_section_display": true,
   "toc_window_display": false
  }
 },
 "nbformat": 4,
 "nbformat_minor": 5
}
