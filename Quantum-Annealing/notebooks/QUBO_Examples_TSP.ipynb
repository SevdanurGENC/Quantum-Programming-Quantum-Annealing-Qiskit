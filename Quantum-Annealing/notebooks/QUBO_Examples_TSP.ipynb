{
 "cells": [
  {
   "cell_type": "markdown",
   "id": "f85f1cad",
   "metadata": {},
   "source": [
    "<table width = \"100%\">\n",
    "  <tr style=\"background-color:white;\">\n",
    "    <!-- QWorld Logo -->\n",
    "    <td style=\"text-align:left;width:200px;\"> \n",
    "        <a href=\"https://qworld.net/\" target=\"_blank\"><img src=\"../images/QWorld.png\"> </a></td>\n",
    "    <td style=\"text-align:right;vertical-align:bottom;font-size:16px;\"> \n",
    "        Prepared by <a href=\"https://gitlab.com/sabahuddin.ahmad\" target=\"_blank\"> Sabah Ud Din Ahmad </a> and Özlem Salehi</td>\n",
    "    </tr> \n",
    " </table>\n",
    " \n",
    "<hr>"
   ]
  },
  {
   "cell_type": "markdown",
   "id": "fde6a09e",
   "metadata": {},
   "source": [
    "# QUBO Formulation for TSP"
   ]
  },
  {
   "cell_type": "markdown",
   "id": "78e14f72",
   "metadata": {},
   "source": [
    "In the previous section, we learnt about the penalty method for constrained problems. Now, lets apply it to some important constrained optimization problems. "
   ]
  },
  {
   "cell_type": "markdown",
   "id": "906f7d46",
   "metadata": {},
   "source": [
    "## Travelling Salesman Problem (TSP)"
   ]
  },
  {
   "cell_type": "markdown",
   "id": "577646bd",
   "metadata": {},
   "source": [
    "Recall that given a set of cities and corresponding distances between each pair of cities, the problem is to find the shortest possible route such that a salesman visits every city exactly once and returns to the starting point. So, eventually, the salesman maximizes his sales by minimizng the total cost of travelling between the nodes. "
   ]
  },
  {
   "cell_type": "markdown",
   "id": "72969e04",
   "metadata": {},
   "source": [
    "A path through a graph that visits each node (city) exactly once is called a Hamiltonian path or a **Hamiltonian cycle** if it is returning back to the starting point. So, we will find the Hamiltonian cycle with the smallest total cost given a graph $G = (V,E)$ with $N$ nodes and costs $w_{ij}$ (cost of travelling from node $i$ to node $j$). Here $V =\\{0,\\dots,N-1\\}$ is the set of nodes and $E$ is the edge set. \n",
    "\n",
    "We are assuming that $G$ is a complete directed graph. If $G$ is not complete, then $w_{ij}$ for the corresponding edge can be set to a very large value to make sure that it never appears in the solution. If $G$ is not directed, then simply the costs $w_{ij}$ and $w_{ji}$ will be equal to each other."
   ]
  },
  {
   "cell_type": "markdown",
   "id": "cbb33d24",
   "metadata": {},
   "source": [
    "### Binary variables\n",
    "\n",
    "We will define $N^2$ binary decision variables $x_{i,t}$, where $i$ represents the node and $t$ represents the time point node is visited.\n",
    "\n",
    "$$x_{i,t}=\n",
    "\\left\\{\n",
    "\\begin{array}{ll} \n",
    "      1, & \\text{node $i$ is visited at time point $t$} \\\\\n",
    "      0, & \\text{otherwise} \\\\\n",
    "\\end{array}\n",
    "\\right.$$\n",
    "\n",
    "\n",
    "for $i=0,\\dots,N-1$ and $t=0,\\dots,N-1$.\n",
    "\n",
    "<div class=\"alert alert-block alert-info\">\n",
    "Note that both indices start at $0$.\n",
    "</div>\n",
    "\n"
   ]
  },
  {
   "cell_type": "markdown",
   "id": "307b7242",
   "metadata": {},
   "source": [
    "### Constraints\n",
    "\n",
    "Note that by the problem definition, the tour we are considering should obey some constraints: \n",
    "- Each node should be visited exactly once\n",
    "- Only a single node is visited at each time point.\n",
    "\n",
    "Mathematically, we will express those constraints as follows:\n",
    "\n",
    "1. Each node should be visited exactly once:\n",
    "\n",
    "$$\\sum_{t=0}^{N-1} x_{i,t} = 1 \\;\\;\\;\\;\\; \\forall i.$$\n",
    "\n",
    "Note that for each node, we are taking a summation over all time points $t$ and we want the summation to equal 1. \n",
    "\n",
    "The equivalent penalty is,\n",
    "$$P \\cdot \\sum_{i=0}^{N-1} \\left(1-\\sum_{t=0}^{N-1}x_{i,t}\\right)^2$$\n",
    "\n",
    "2. Only a single node is visited at each time point:\n",
    "\n",
    "$$\\sum_{i=0}^{N-1} x_{i,t} = 1 \\;\\;\\;\\;\\; \\forall t.$$\n",
    "\n",
    "Note that for each time point, we are taking a summation over all nodes $i$ and we want the summation to equal 1.\n",
    "\n",
    "The equivalent penalty is,\n",
    "$$P \\cdot \\sum_{t=0}^{N-1} \\left(1-\\sum_{i=0}^{N-1}x_{i,t}\\right)^2$$\n"
   ]
  },
  {
   "cell_type": "markdown",
   "id": "c6486ca8",
   "metadata": {},
   "source": [
    "### Cost of the tour\n",
    "\n",
    "We would like to minimize the total cost of the tour, which will be a part of our objective function. We should express the total cost of the route using the binary variables $x_{i,t}$.\n",
    "\n",
    "$$\\sum_{ \\substack{i,j=0\\\\i\\neq j}}^{N-1}w_{ij} \\sum_{t=0}^{N-1} x_{i,t} x_{j,t+1}$$\n",
    "\n",
    "\n",
    "Whenever both variables $x_{i,t}$ and $x_{j,t+1}$ are equal to 1, then the cost $w_{ij}$ is included in the summation.\n",
    "\n",
    "We assume that $x_{i,N} = x_{i,0}$ and $w_{ij} x_{i,N-1} x_{j,0}$ corresponds to the cost of returning back to the origin city from the last visited city."
   ]
  },
  {
   "cell_type": "markdown",
   "id": "cafa5f75",
   "metadata": {},
   "source": [
    "### QUBO for TSP"
   ]
  },
  {
   "cell_type": "markdown",
   "id": "6e18c017",
   "metadata": {},
   "source": [
    "Now let us bring together the constraints and the objective function.\n",
    "\n",
    "$$H(x) = P \\cdot \\sum_{t=0}^{N-1} \\left(1-\\sum_{i=0}^{N-1}x_{i,t}\\right)^2 + P \\cdot \\sum_{i=0}^{N-1} \\left(1-\\sum_{t=0}^{N-1}x_{i,t}\\right)^2 + \\sum_{ \\substack{i,j=0\\\\i\\neq j}}^{N-1} w_{ij} \\sum_{t=0}^{N-1} x_{i,t} x_{j,t+1} $$\n",
    "\n",
    "$P$ is chosen so that $0<\\max_{i,j} \\{w_{ij}\\}<P$.\n"
   ]
  },
  {
   "cell_type": "markdown",
   "id": "ca7810fd",
   "metadata": {},
   "source": [
    "<a id=\"example\"></a>\n",
    "### Worked out example\n",
    "\n",
    "Let's assume we have the following graph $G$ with 3 nodes/cities and 3 edges. \n",
    "\n",
    "<img src=\"../images/tsp_3.png\" width=\"250\">"
   ]
  },
  {
   "cell_type": "markdown",
   "id": "9b9f3837",
   "metadata": {},
   "source": [
    "\n",
    "$$H(x) =  P \\cdot \\sum_{t=0}^{2} \\left(1-\\sum_{i=0}^{2}x_{i,t}\\right)^2 + P \\cdot \\sum_{i=0}^{2} \\left(1-\\sum_{t=0}^{2}x_{i,t}\\right)^2 + \\sum_{ \\substack{i,j=0\\\\i\\neq j}}^2 w_{ij} \\sum_{t=0}^{2} x_{i,t} x_{j,t+1} $$"
   ]
  },
  {
   "cell_type": "markdown",
   "id": "11d69e6c",
   "metadata": {},
   "source": [
    "$$ =  P \\cdot \\sum_{t=0}^{2} \\left(1 - (x_{0,t}+x_{1,t}+x_{2,t})\\right)^2 + \n",
    "P \\cdot \\sum_{i=0}^{2} \\left(1-(x_{i,0}+x_{i,1}+x_{i,2})\\right)^2 + \n",
    "\\sum_{ \\substack{i,j=0\\\\i\\neq j}}^2 w_{ij} (x_{i,0}x_{j,1} + x_{i,1}x_{j,2} + x_{i,2}x_{j,0}) $$"
   ]
  },
  {
   "cell_type": "markdown",
   "id": "94c93e22",
   "metadata": {},
   "source": [
    "Let us determine the $Q$ matrix for the given graph for soving TSP problem."
   ]
  },
  {
   "cell_type": "markdown",
   "id": "3812bdb2",
   "metadata": {},
   "source": [
    "#### First term\n",
    "\n",
    "Let's look at the first term.\n",
    "$$P \\cdot\\sum_{t=0}^{2} \\left(1 - (x_{0,t}+x_{1,t}+x_{2,t})\\right)^2$$\n",
    "Expanding the sum we obtain,\n",
    "$$P \\cdot \\left[\\left(1 - (x_{0,0}+x_{1,0}+x_{2,0})\\right)^2+\\left(1 - (x_{0,1}+x_{1,1}+x_{2,1})\\right)^2+\\left(1 - (x_{0,2}+x_{1,2}+x_{2,2})\\right)^2\\right]$$ \n",
    "\n",
    "Let us check $\\left(1 - (x_{0,0}+x_{1,0}+x_{2,0})\\right)^2$. \n",
    "\n",
    "We will use the identity $$(a+b+c+d)^2 = a^2+b^2+c^2+d^2+2ab+2ac+2ad+2bc+2bd+2cd$$.\n",
    "\n",
    "$$ \n",
    "\\left(1 - x_{0,0}-x_{1,0}-x_{2,0}\\right)^2= \n",
    "1 + x_{0,0}^2 +x_{1,0}^2 +x_{2,0}^2  -2x_{0,0} -2x_{1,0}-2x_{2,0} + 2x_{0,0}x_{1,0}+2x_{0,0}x_{2,0} +  2x_{1,0}x_{2,0}\n",
    "$$\n",
    "\n",
    "\n",
    "This can be simplified by replacing the quadratic terms $x_{i,t}^2$ by $x_{i,t}$.\n",
    "\n",
    "$$ \n",
    "= 1 - x_{0,0} -x_{1,0} -x_{2,0} + 2x_{0,0}x_{1,0}+2x_{0,0}x_{2,0} +  2x_{1,0}x_{2,0}\n",
    "$$\n",
    "\n",
    "\n",
    "\n",
    "\n",
    "Note that each term $x_{i,0}$ is appearing once with the coefficient -1 and we have all possible combinations of $x_{i,0}$ as quadratic terms with coefficient +2. In addition, we have a constant of +1. \n",
    "\n",
    "The same structure will be valid for $\\left(1 - (x_{0,1}+x_{1,1}+x_{2,1})\\right)^2 $ and $\\left(1 - (x_{0,2}+x_{1,2}+x_{2,2})\\right)^2$.\n",
    "\n",
    "So for the first term we have the following:\n",
    "- Each $x_{i,t}$ appears with coefficient $-P$\n",
    "- For each fixed $t$, all possible 2-combinations of $x_{i,t}$ appears with coefficient $2P$\n",
    "- There is a constant coefficeint of $NP$"
   ]
  },
  {
   "cell_type": "markdown",
   "id": "a9560b9d",
   "metadata": {},
   "source": [
    "#### Second term\n",
    "\n",
    "Let's look at the second term.\n",
    "$$P \\cdot\\sum_{i=0}^{2} \\left(1 - (x_{i,0}+x_{i,1}+x_{i,2})\\right)^2$$\n",
    "Expanding the sum we obtain,\n",
    "$$P \\cdot \\left[\\left(1 - (x_{1,0}+x_{1,1}+x_{1,2})\\right)^2+\\left(1 - (x_{2,0}+x_{2,1}+x_{2,2})\\right)^2+\\left(1 - (x_{3,0}+x_{3,1}+x_{3,2})\\right)^2\\right]$$"
   ]
  },
  {
   "cell_type": "markdown",
   "id": "0e43743a",
   "metadata": {},
   "source": [
    "### Task 1\n",
    "\n",
    "Verify the following observations for the second term:\n",
    "\n",
    "- Each $x_{i,t}$ appears with coefficient $-P$\n",
    "- For each fixed $i$, all possible 2-combinations of $x_{i,t}$ appears with coefficient $2P$\n",
    "- There is a constant coefficeint of $NP$"
   ]
  },
  {
   "cell_type": "markdown",
   "id": "b02a197e",
   "metadata": {},
   "source": [
    "[click here for solution](QUBO_Examples_TSP_Solutions.ipynb#task1)"
   ]
  },
  {
   "cell_type": "markdown",
   "id": "2cccbfbc",
   "metadata": {},
   "source": [
    "#### Third term\n",
    "\n",
    "Let's look at the third term.\n",
    "\n",
    "$$\\sum_{ \\substack{i,j=0\\\\i\\neq j}}^2 w_{ij} (x_{i,0}x_{j,1} + x_{i,1}x_{j,2} + x_{i,2}x_{j,0})$$\n",
    "\n",
    "There are 6 possible $i,j$ pairs $(0,1),(0,2),(1,0),(1,2),(2,0),(2,1)$ and overall the summation takes the following form:\n",
    "$$w_{01} (x_{0,0}x_{1,1} + x_{0,1}x_{1,2} + x_{0,2}x_{1,0})+ w_{02} (x_{0,0}x_{2,1} + x_{0,1}x_{2,2} + x_{0,2}x_{2,0})+ \\dots +w_{2,1} (x_{2,0}x_{1,1} + x_{2,1}x_{1,2} + x_{2,2}x_{1,0}).$$\n",
    "\n",
    "So we can conclude that \n",
    "- Each $x_{i,t} x_{j,t+1}$ appears with the coeeficient $w_{ij}$\n"
   ]
  },
  {
   "cell_type": "markdown",
   "id": "8eb609e6",
   "metadata": {},
   "source": [
    "#### Overall\n",
    "\n",
    "Now let's bring together the 3 terms also taking into account the penalty coefficient.\n",
    "\n",
    "- Each $x_{i,t}$ appears with coefficient $-2P$.\n",
    "- For each fixed $t$, all possible 2-combinations of $x_{i,t}$ appears with coefficient $2P$.\n",
    "- For each fixed $i$, all possible 2-combinations of $x_{i,t}$ appears with coefficient $2P$.\n",
    "- Each $x_{i,t} x_{j,t+1}$ appears with the coeeficient $w_{ij}$.\n",
    "- There is a constant coefficient of $2NP$.\n",
    "\n",
    "Note that we can omit the constant coefficient during the minimization process as it has no impact."
   ]
  },
  {
   "cell_type": "markdown",
   "id": "4ee5120d",
   "metadata": {},
   "source": [
    "### $Q$ matrix for the TSP problem"
   ]
  },
  {
   "cell_type": "markdown",
   "id": "f68b2635",
   "metadata": {},
   "source": [
    "Suppose that the rows and columns of the $Q$ matrix are labeled in the following order:\n",
    "\n",
    "$x_{0,0},x_{0,1},x_{0,2},x_{1,0},\\dots, x_{2,2}$.\n",
    "\n",
    "\n",
    "Consider a row corresponding to $x_{i,t}$. \n",
    "\n",
    "- As each $x_{i,t}$ has coefficient of $-2P$, so all diagonals are $-2P$.\n",
    "\n",
    "- All the entries whose corresponding column shares a common $i$ or $t$ will have a coefficient $2P$, with the condition that the matrix is upper triangular.\n",
    "\n",
    "- All the entries whose corresponding column is labeled with $x_{j,t+1}$ will have coefficient $w_{ij}$, with the condition that the matrix is upper triangular.\n",
    "\n",
    "Hence, we have the following $9 \\times 9$ matrix $Q$:\n",
    "\n",
    "$$Q=\n",
    "\\begin{pmatrix}\n",
    "       &x_{0,0} &x_{0,1}&x_{0,2}&x_{1,0}&x_{1,1}&x_{1,2}&x_{2,0}&x_{2,1} &x_{2,2} \\\\\n",
    "x_{0,0}&-2P     &2P     & 2P     & 2P    & w_{01}& w_{10}     & 2P     & w_{02}  & w_{20}\\\\\n",
    "x_{0,1}&0       &-2P    & 2P     & w_{10}& 2P     & w_{01}& w_{20}     & 2P      & w_{02}\\\\\n",
    "x_{0,2}&0       & 0     &  -2P   & w_{01}& w_{10} & 2P& w_{02}  & w_{20}& 2P      &\\\\\n",
    "x_{1,0}&0       & 0     &0       & -2P   & 2P     & 2P     & 2P     & w_{12}&w_{21}    \\\\\n",
    "x_{1,1}&0       & 0     &0       & 0     & -2P   & 2P     & w_{21}  & 2P     & w_{12}      \\\\\n",
    "x_{1,2}&0       & 0     &0       & 0     &  0     & -2P   & w_{12}& w_{21}     & 2P      \\\\\n",
    "x_{2,0}&0       & 0     &0       & 0     &   0    & 0     & -2P  & 2P    & 2P      \\\\\n",
    "x_{2,1}&0       & 0     &0       & 0     &    0   & 0     & 0  & -2P    & 2P      \\\\\n",
    "x_{2,2}&0       & 0     &0       & 0     &     0  & 0     & 0  & 0    & -2P      \\\\\n",
    "\\end{pmatrix}$$\n",
    "\n",
    "\n",
    "So, our task is to find the binary vector $x$ that mininizes $x^TQx + 6P$. We will find the binary vector that minimizes $x^TQx$ instead as $6P$ is constant.\n",
    "\n",
    "The constant coefficient is also called the *offset*."
   ]
  },
  {
   "cell_type": "markdown",
   "id": "02a0b099",
   "metadata": {},
   "source": [
    "### Task 2\n",
    "\n",
    "You are given the weights $w_{ij}$ as a cost matrix in the following cell. Assuming $P=20$, create the above $Q$ matrix using numpy. Use the `qubo_solver` defined previously to find the vector $x$ that minimizes $x^TQx$."
   ]
  },
  {
   "cell_type": "code",
   "execution_count": null,
   "id": "aa9e3a1e",
   "metadata": {},
   "outputs": [],
   "source": [
    "# Access the qubo_solver() function\n",
    "%run qubo_functions.py"
   ]
  },
  {
   "cell_type": "code",
   "execution_count": null,
   "id": "bd0c4f94",
   "metadata": {},
   "outputs": [],
   "source": [
    "import numpy as np\n",
    "\n",
    "W = np.array([[0,10,7],\n",
    "             [15,0,9],\n",
    "             [14,8,0]])"
   ]
  },
  {
   "cell_type": "code",
   "execution_count": null,
   "id": "811c2921",
   "metadata": {},
   "outputs": [],
   "source": [
    "# Set P\n",
    "P = 20\n",
    "\n",
    "# Define Q matrix\n"
   ]
  },
  {
   "cell_type": "code",
   "execution_count": null,
   "id": "39a641ef",
   "metadata": {},
   "outputs": [],
   "source": [
    "qubo_solver(Q)"
   ]
  },
  {
   "cell_type": "markdown",
   "id": "5236eac1",
   "metadata": {},
   "source": [
    "[click here for solution](QUBO_Examples_TSP_Solutions.ipynb#task2)"
   ]
  },
  {
   "cell_type": "markdown",
   "id": "0b451847",
   "metadata": {},
   "source": [
    "### Interpreting the solution"
   ]
  },
  {
   "cell_type": "markdown",
   "id": "88e0d386",
   "metadata": {},
   "source": [
    "The solution to the above TSP instance is the vector $(1, 0, 0, 0, 0, 1, 0, 1, 0)$. Recall that we have considered the binary variables in the order $x_{0,0},x_{0,1},x_{0,2},x_{1,0},\\dots, x_{2,2}$. Hence, from the vector we get that\n",
    "\n",
    "- $x_{0,0}=1,$\n",
    "- $x_{1,2}=1,$\n",
    "- $x_{2,1}=1.$\n",
    "\n",
    "Note that for each $t$ we have exactly one $i$ value for which $x_{i,t}=1$ and vice versa. At $t=0$, node 0 is visited, at $t=1$, node 2 is visited and at $t=2$, node 1 is visited.\n",
    "\n",
    "We can conclude that the tour with the minimum cost is $0-2-1-0$.\n",
    "\n",
    "The objective value returned by the function is -90. Recall that we had an offset of $6P$, which is equal to 120 in this case. Hence, the solution is\n",
    "\n",
    "$$\n",
    "x^TQx + 6P =  -90 + 120 = 30\n",
    "$$\n",
    "\n",
    "which corresponds to the cost of the tour $0-2-1-0$.\n",
    "\n",
    "<div class=\"alert alert-block alert-info\">\n",
    "You can verify that 30 is the cost of the tour also by adding the cost of the edges $(0-2), (2-1), (1-0)$ which is $7+8+15 = 30$."
   ]
  },
  {
   "cell_type": "code",
   "execution_count": 5,
   "id": "3c675543",
   "metadata": {},
   "outputs": [
    {
     "data": {
      "image/png": "[encoded data removed]",
      "text/plain": [
       "<Figure size 432x288 with 1 Axes>"
      ]
     },
     "metadata": {},
     "output_type": "display_data"
    }
   ],
   "source": [
    "from bqm_utils import tsp_viz\n",
    "import networkx as nx\n",
    "\n",
    "G = nx.Graph()\n",
    "G.add_weighted_edges_from(\n",
    "    [(0, 1, 10), (1, 0, 15), (0, 2, 7), (2, 0, 14), (1, 2, 9), (2, 1, 8)]\n",
    ")\n",
    "path = [0,2,1]\n",
    "tsp_viz(G,path)"
   ]
  },
  {
   "cell_type": "markdown",
   "id": "b93573e1",
   "metadata": {},
   "source": [
    "### Task 3 (Optional)\n",
    "\n",
    "\n",
    "Create the above matrix $Q$ using numpy and for loops instead of hardcoding the values. Create a function that takes as parameter the number of cities $n$, the cost matrix $W$ and penalty value $P$ and returns $Q$. Verify that you obtain the same matrix as in Task 2.\n",
    "\n",
    "Hint:\n",
    "- Set the diagonals\n",
    "- Set the entries sharing same time index\n",
    "- Set the entries sharing same node\n",
    "- Set the entries for consecutive time points"
   ]
  },
  {
   "cell_type": "code",
   "execution_count": null,
   "id": "a00a9d27",
   "metadata": {},
   "outputs": [],
   "source": [
    "def tsp_matrix(n, W, P):\n",
    "    # Initialize an empty matrix\n",
    "    Q = np.zeros((n*n,n*n))\n",
    "    for i in range(n*n):\n",
    "        for j in range(i,n*n):\n",
    "        # Your code here\n",
    "    return Q        "
   ]
  },
  {
   "cell_type": "code",
   "execution_count": null,
   "id": "078f62fe",
   "metadata": {},
   "outputs": [],
   "source": [
    "Q1 = tsp_matrix(n, W)\n",
    "np.array_equal(Q1,Q)"
   ]
  },
  {
   "cell_type": "markdown",
   "id": "31b62825",
   "metadata": {},
   "source": [
    "[click here for solution](QUBO_Examples_TSP_Solutions.ipynb#task3)"
   ]
  },
  {
   "cell_type": "markdown",
   "id": "9f06504a",
   "metadata": {},
   "source": [
    "### Task 4 (Optional)\n",
    "\n",
    "Let's assume we have the following fully-connected, undirected graph $G$ of 4 nodes/cities and 6 edges. \n",
    "\n",
    "<img src=\"../images/tsp_1.png\" width=\"250\">\n",
    "\n",
    "Using the function you created in Task 3, obtain matrix $Q$ for the given graph and use the `qubo_solver` defined previously to find the vector $x$ that minimizes $x^TQx$. Interpret the result."
   ]
  },
  {
   "cell_type": "code",
   "execution_count": null,
   "id": "73a4843a",
   "metadata": {},
   "outputs": [],
   "source": [
    "# Access the qubo_solver() function\n",
    "%run qubo_functions.py"
   ]
  },
  {
   "cell_type": "code",
   "execution_count": null,
   "id": "e0416f63",
   "metadata": {},
   "outputs": [],
   "source": [
    "import numpy as np\n",
    "\n",
    "#define W\n",
    "\n"
   ]
  },
  {
   "cell_type": "code",
   "execution_count": null,
   "id": "423a3faa",
   "metadata": {},
   "outputs": [],
   "source": [
    "# Set P\n",
    "P = 30\n",
    "# Set n\n",
    "n = 4\n",
    "# Obtain Q matrix\n"
   ]
  },
  {
   "cell_type": "code",
   "execution_count": null,
   "id": "d253c7f1",
   "metadata": {},
   "outputs": [],
   "source": [
    "qubo_solver(Q)"
   ]
  },
  {
   "cell_type": "markdown",
   "id": "9ff1da97",
   "metadata": {},
   "source": [
    "[click here for solution](QUBO_Examples_TSP_Solutions.ipynb#task4)"
   ]
  },
  {
   "cell_type": "markdown",
   "id": "9e5ef230",
   "metadata": {},
   "source": [
    "### Task 5 (Optional)\n",
    "\n",
    "Let's assume we have the following fully-connected, undirected graph $G$ of 4 nodes/cities and 6 edges. \n",
    "\n",
    "<img src=\"../images/tsp_2.png\" width=\"250\">\n",
    "\n",
    "Using the function you created in Task 3, obtain matrix $Q$ for the given graph and use the `qubo_solver` defined previously to find the vector $x$ that minimizes $x^TQx$. Interpret the result.\n",
    "\n",
    "\n",
    "Note: You may not be able to solve it depending on your computer's performance."
   ]
  },
  {
   "cell_type": "code",
   "execution_count": null,
   "id": "1fb103a3",
   "metadata": {},
   "outputs": [],
   "source": [
    "# Access the qubo_solver() function\n",
    "%run qubo_functions.py"
   ]
  },
  {
   "cell_type": "code",
   "execution_count": null,
   "id": "c1ea81a7",
   "metadata": {},
   "outputs": [],
   "source": [
    "import numpy as np\n",
    "\n",
    "#define W\n",
    "\n"
   ]
  },
  {
   "cell_type": "code",
   "execution_count": null,
   "id": "f2b7e6c0",
   "metadata": {},
   "outputs": [],
   "source": [
    "# Set P\n",
    "P = 30\n",
    "# Set n\n",
    "n = 4\n",
    "# Obtain Q matrix\n"
   ]
  },
  {
   "cell_type": "code",
   "execution_count": null,
   "id": "2ae6e0b0",
   "metadata": {},
   "outputs": [],
   "source": [
    "qubo_solver(Q)"
   ]
  },
  {
   "cell_type": "markdown",
   "id": "da5bdbbf",
   "metadata": {},
   "source": [
    "[click here for solution](QUBO_Examples_TSP_Solutions.ipynb#task5)\n",
    "\n",
    "\n",
    "<div class=\"alert alert-block alert-info\">\n",
    "If you are able to solve this task, you will notice that `qubo_solver` is taking significantly a larger amount of time.\n",
    "<div>\n"
   ]
  },
  {
   "cell_type": "markdown",
   "id": "f3d79266",
   "metadata": {},
   "source": [
    "---"
   ]
  },
  {
   "cell_type": "markdown",
   "id": "9cd41fc1",
   "metadata": {},
   "source": [
    "### Fixing initial and final node\n",
    "\n",
    "In order to simplify the algebraic expressions for a particular graph, we can have a specific case where the initial and final node is fixed. This reduces the number of variables. \n",
    "\n",
    "Consider again the graph we had defined with 3 nodes.\n",
    "\n",
    "<img src=\"../images/tsp_3.png\" width=\"250\">\n"
   ]
  },
  {
   "cell_type": "markdown",
   "id": "027ad700",
   "metadata": {},
   "source": [
    "Consider the tour 0-1-2-0. This is the same tour as 1-2-0-1 in principal and there are 3 different tours corresponding to the same tour. The starting node of the tour does not have an impact on the solution and one can fix the starting node to simplify the QUBO by getting rid of some of the variables.\n",
    "\n",
    "For instance, if we fix that 0 is the first visited node, then we know that $x_{0,0}=1$ and we don't need to define any binary variable that has node 0 or time point 0 as its index. This reduces the number of required variables from $n^2$ to $(n-1)^2$. \n",
    "\n",
    "The QUBO formulation takes the following form:\n",
    "\n",
    "$$H(x) = P \\cdot \\sum_{t=1}^{N-1} \\left(1-\\sum_{i=1}^{N-1}x_{i,t}\\right)^2 + P \\cdot \\sum_{i=1}^{N-1} \\left(1-\\sum_{t=1}^{N-1}x_{i,t}\\right)^2 + \\sum_{j=1}^N w_{0j}x_{j,1} + \\sum_{ \\substack{i,j=1\\\\i\\neq j}}^{N-1} w_{ij} \\sum_{t=1}^{N-2} x_{i,t} x_{j,t+1} + \\sum_{i=1}^N w_{i0}x_{i,N-1} $$\n",
    "\n",
    "$P$ is chosen so that $0<\\max_{i,j} \\{w_{ij}\\}<P$.\n"
   ]
  },
  {
   "cell_type": "markdown",
   "id": "38807b91",
   "metadata": {},
   "source": [
    "### Task 6\n",
    "\n",
    "Assuming that node 0 is the first node in the tour, obtain the new $4\\times4$ matrix $Q$ for the above graph. Create a numpy matrix and find the vector that minimizes $x^TQx$ using the `qubo_solver` function. Interpret the result."
   ]
  },
  {
   "cell_type": "markdown",
   "id": "6ee9afd5",
   "metadata": {},
   "source": [
    "$$Q=\n",
    "\\begin{pmatrix}\n",
    "       &x_{1,1}   &x_{1,2}    &x_{2,1}     & x_{2,2}   \\\\\n",
    "x_{1,1}&-2P+w_{01}& 2P        & 2P         & w_{12}    \\\\\n",
    "x_{1,2}&  0       & -2P+w_{10}& w_{21}     & 2P        \\\\\n",
    "x_{2,1}& 0        & 0         & -2P+w_{02} & 2P        \\\\\n",
    "x_{2,2}& 0        & 0         & 0          & -2P+w_{20}\\\\\n",
    "\\end{pmatrix}$$\n"
   ]
  },
  {
   "cell_type": "code",
   "execution_count": null,
   "id": "ea739435",
   "metadata": {},
   "outputs": [],
   "source": [
    "# Access the qubo_solver() function\n",
    "%run qubo_functions.py"
   ]
  },
  {
   "cell_type": "code",
   "execution_count": null,
   "id": "b04e0787",
   "metadata": {},
   "outputs": [],
   "source": [
    "import numpy as np\n",
    "\n",
    "W = np.array([[0,10,7],\n",
    "             [15,0,9],\n",
    "             [14,8,0]])"
   ]
  },
  {
   "cell_type": "code",
   "execution_count": null,
   "id": "532f6d99",
   "metadata": {},
   "outputs": [],
   "source": [
    "# Set P\n",
    "P = 20\n",
    "\n",
    "# Define Q matrix\n",
    "\n",
    "\n",
    "\n"
   ]
  },
  {
   "cell_type": "code",
   "execution_count": null,
   "id": "4094056c",
   "metadata": {},
   "outputs": [],
   "source": [
    "qubo_solver(Q)"
   ]
  },
  {
   "cell_type": "markdown",
   "id": "cd6d1efe",
   "metadata": {},
   "source": [
    "[click here for solution](QUBO_Examples_TSP_Solutions.ipynb#task6)"
   ]
  },
  {
   "cell_type": "markdown",
   "id": "ecad1837",
   "metadata": {},
   "source": [
    "***\n",
    "### References\n",
    "\n",
    "1. Qiskit Tutorials. (n.d.). *Max-Cut and Traveling Salesman Problem.* Qiskit. [Link](https://qiskit.org/documentation/optimization/tutorials/06_examples_max_cut_and_tsp.html) \n",
    "2. Andrew Lucas. (2014). *Ising formulations of many NP problems.* Frontiers in Physics, Volume 2, Article 5. [Link](https://doi.org/10.3389/fphy.2014.00005)\n",
    "3. Ozlem Salehi, & Adam Glos, & Jaroslaw Adam Miszczak. (2021). *Unconstrained Binary Models of the Travelling Salesman Problem Variants for Quantum Optimization.* Quantum Information Processing 21.2 (2022): 1-30. [[Link]](https://arxiv.org/abs/2106.09056)"
   ]
  }
 ],
 "metadata": {
  "kernelspec": {
   "display_name": "Python 3",
   "language": "python",
   "name": "python3"
  },
  "language_info": {
   "codemirror_mode": {
    "name": "ipython",
    "version": 3
   },
   "file_extension": ".py",
   "mimetype": "text/x-python",
   "name": "python",
   "nbconvert_exporter": "python",
   "pygments_lexer": "ipython3",
   "version": "3.7.3"
  },
  "latex_envs": {
   "LaTeX_envs_menu_present": true,
   "autoclose": true,
   "autocomplete": true,
   "bibliofile": "biblio.bib",
   "cite_by": "apalike",
   "current_citInitial": 1,
   "eqLabelWithNumbers": true,
   "eqNumInitial": 1,
   "hotkeys": {
    "equation": "Ctrl-E",
    "itemize": "Ctrl-I"
   },
   "labels_anchors": false,
   "latex_user_defs": false,
   "report_style_numbering": false,
   "user_envs_cfg": false
  },
  "toc": {
   "base_numbering": 1,
   "nav_menu": {},
   "number_sections": true,
   "sideBar": true,
   "skip_h1_title": false,
   "title_cell": "Table of Contents",
   "title_sidebar": "Contents",
   "toc_cell": false,
   "toc_position": {},
   "toc_section_display": true,
   "toc_window_display": false
  }
 },
 "nbformat": 4,
 "nbformat_minor": 5
}
