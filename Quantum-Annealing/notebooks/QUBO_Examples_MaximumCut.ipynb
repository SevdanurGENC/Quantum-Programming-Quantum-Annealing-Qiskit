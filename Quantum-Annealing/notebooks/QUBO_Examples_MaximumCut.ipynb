{
 "cells": [
  {
   "cell_type": "markdown",
   "id": "0f1842ec",
   "metadata": {},
   "source": [
    "<table width = \"100%\">\n",
    "  <tr style=\"background-color:white;\">\n",
    "    <!-- QWorld Logo -->\n",
    "    <td style=\"text-align:left;width:200px;\"> \n",
    "        <a href=\"https://qworld.net/\" target=\"_blank\"><img src=\"../images/QWorld.png\"> </a></td>\n",
    "    <td style=\"text-align:right;vertical-align:bottom;font-size:16px;\"> \n",
    "        Prepared by <a href=\"https://gitlab.com/sabahuddin.ahmad\" target=\"_blank\"> Sabah Ud Din Ahmad </a></td>\n",
    "    </tr> \n",
    " </table>\n",
    " \n",
    "<hr>"
   ]
  },
  {
   "cell_type": "markdown",
   "id": "e0a8b750",
   "metadata": {},
   "source": [
    "# QUBO Formulation for Max-Cut"
   ]
  },
  {
   "cell_type": "markdown",
   "id": "614bd056",
   "metadata": {},
   "source": [
    "In the previous section, we learnt about the objective functions and QUBO problems. Now, lets apply the QUBO formulation to some of the combinatorial optimization problems. "
   ]
  },
  {
   "cell_type": "markdown",
   "id": "46320b80",
   "metadata": {},
   "source": [
    "## Max-Cut Problem"
   ]
  },
  {
   "cell_type": "markdown",
   "id": "96993be1",
   "metadata": {},
   "source": [
    "We have already seen the definition of Max Cut problem. Let us recall here briefly.\n",
    "\n",
    "Given a graph, the problem requires splitting the vertices/nodes into two disjoint groups so that there are as many edges as possible between the groups. The partition of two adjacent vertices into disjoint sets is called a cut. The goal of this problem is to find a cut in such a way that the cut covers the maximum number of edges."
   ]
  },
  {
   "cell_type": "markdown",
   "id": "f0361617",
   "metadata": {},
   "source": [
    "First step in defining a QUBO formulation is to define some binary variables. For each vertex $i$, we will use a binary variable $x_i$ to decide which group it should belong to:\n",
    "\n",
    "$$x_{i}=\n",
    "\\left\\{\n",
    "\\begin{array}{ll} \n",
    "      0, & \\text{if vertex $i$ is in Group 1} \\\\\n",
    "      1, & \\text{if vertex $i$ is in Group 2} \\\\\n",
    "\\end{array}\n",
    "\\right.$$\n",
    "\n",
    "**Our objective is to maximize the number of edges in the cut.**\n",
    "\n",
    "Hence, we need to express the number of edges in the cut in terms of the binary variables $x_i$."
   ]
  },
  {
   "cell_type": "markdown",
   "id": "c64ffff5",
   "metadata": {},
   "source": [
    "For a particular graph, let's consider a single edge. We only want to count an edge if the endpoints/vertices are in different groups. Let this be denoted by a function i.e.  `edge_count`$(x_i,x_j)$ which depends on the values of $x_i$ & $x_j$. If vertices are in different groups, `edge_count`$(x_i,x_j)$ gives a 1; otherwise 0.\n",
    "\n",
    "|$x_i$ |$x_j$|edge_count$(x_i,x_j)$ |Comment|\n",
    "|:---:|:---:|:---:|:---:|\n",
    "|0 |0 |0 |Vertices are in the same group|\n",
    "|0 |1 |1 |Vertices are in different groups|\n",
    "|1 |0 |1 |Vertices are in different groups|\n",
    "|1 |1 |0 |Vertices are in the same group|\n",
    "\n",
    "From this table, we observe that we can use the expression $x_i+x_j-2x_ix_j$ to calculate the `edge_count` in the table. "
   ]
  },
  {
   "cell_type": "markdown",
   "id": "51b66d65",
   "metadata": {},
   "source": [
    "<div class=\"alert alert-block alert-info\">\n",
    "Did you notice that the table corresponds to XOR operation in classical logic?    \n",
    "</div>"
   ]
  },
  {
   "cell_type": "markdown",
   "id": "0474c8d8",
   "metadata": {},
   "source": [
    "### Task 1\n",
    "\n",
    "Verify that the expression $x_i+x_j-2x_ix_j$ gives the values of `edge_count` in the table. "
   ]
  },
  {
   "cell_type": "markdown",
   "id": "6b8a630c",
   "metadata": {},
   "source": [
    "[click here for solution](QUBO_Examples_MaximumCut_Solutions.ipynb#task1)\n",
    "\n",
    "***"
   ]
  },
  {
   "cell_type": "markdown",
   "id": "b995c816",
   "metadata": {},
   "source": [
    "Since our objective function is maximizing the total number of cut edges, for our entire graph, our objective function is:\n",
    "\n",
    "$$\\max \\sum_{(i,j) \\in E} x_i+x_j-2x_ix_j$$\n",
    "\n",
    "where the sum is over the set of edges $E$ in the graph.\n",
    "\n",
    "Since QUBO formulation minimizes an objective function, we must convert this maximization problem to a minimization problem by multiplying the expression by -1. Our final QUBO expression is the following:\n",
    "\n",
    "$$\\min \\sum_{(i,j) \\in E} -x_i-x_j+2x_ix_j$$"
   ]
  },
  {
   "cell_type": "markdown",
   "id": "43d87d14",
   "metadata": {},
   "source": [
    "### Worked Out Example\n",
    "\n",
    "Let's assume we have a simple network of 5 vertices and 6 edges. \n",
    "\n",
    "<img src=\"../images/max-cut1.png\" width=\"250\">"
   ]
  },
  {
   "cell_type": "markdown",
   "id": "f53c8583",
   "metadata": {},
   "source": [
    "### QUBO Algebraic Expression\n",
    "\n",
    "We will form the QUBO expression $\\min \\sum_{(i,j) \\in E} -x_i-x_j+2x_ix_j$ using the edges of the given graph: 1-2, 1-3, 2-4, 3-4, 3-5, 4-5."
   ]
  },
  {
   "cell_type": "markdown",
   "id": "e7f5c360",
   "metadata": {},
   "source": [
    "$$\\min.~(-x_1-x_2+2x_1x_2)+(-x_1-x_3+2x_1x_3)+(-x_2-x_4+2x_2x_4)+(-x_3-x_4+2x_3x_4)+(-x_3-x_5+2x_3x_5)+(-x_4-x_5+2x_4x_5)$$\n",
    "\n",
    "After some simplification, we obtain the expression:\n",
    "\n",
    "$$\\min.~-2x_1-2x_2-3x_3-3x_4-2x_5+2x_1x_2+2x_1x_3+2x_2x_4+2x_3x_4+2x_3x_5+2x_4x_5$$"
   ]
  },
  {
   "cell_type": "markdown",
   "id": "873c5304",
   "metadata": {},
   "source": [
    "### QUBO Matrix Formulation\n",
    "\n",
    "Let's replace variables of the form $x_i^2$ with $x_i$\n",
    "\n",
    "$$\\min. -2x_1^2-2x_2^2-3x_3^2-3x_4^2-2x_5^2+2x_1x_2+2x_1x_3+2x_2x_4+2x_3x_4+2x_3x_5+2x_4x_5$$\n",
    "\n",
    "to get the desired form\n",
    "\n",
    "$$\\min_{x \\in \\{0,1\\}^5} x^T Q x$$\n",
    "\n",
    "where $x$ is:\n",
    "\n",
    "$$x = \\begin{pmatrix}\n",
    "x_1 \\\\\n",
    "x_2 \\\\\n",
    "x_3 \\\\\n",
    "x_4 \\\\\n",
    "x_5\n",
    "\\end{pmatrix}.$$\n",
    "\n",
    "The upper diagonal matrix $Q$ is given by\n",
    "\n",
    "$$Q = \\begin{pmatrix}\n",
    "-2 & 2 & 2 & 0 & 0\\\\\n",
    "0 & -2 & 0 & 2 & 0\\\\\n",
    "0 & 0 & -3 & 2 & 2\\\\\n",
    "0 & 0 & 0 & -3 & 2\\\\\n",
    "0 & 0 & 0 & 0 & -2\n",
    "\\end{pmatrix}.$$"
   ]
  },
  {
   "cell_type": "markdown",
   "id": "853bc62d",
   "metadata": {},
   "source": [
    "Now, let's minimize our QUBO objective function and find the optimum $x$ that results in a division of vertices with the greatest edge-cut size. Edge-cut size is a measure of the total number of edges crossed by a cut. "
   ]
  },
  {
   "cell_type": "markdown",
   "id": "99da3cb9",
   "metadata": {},
   "source": [
    "**$x$ and the corresponding edge cut** \n",
    "\n",
    "For our graph with 5 vertices, suppose we have the following cut:\n",
    "<img src=\"../images/max-cut3.png\" width=\"300\">\n",
    "The cut partitions vertices 1, 4 and 5 in one group (assume it to be Group 1) and vertices 2 and 3 in the other group (Group 2). From our definition of the binary variable $x_i$, $x_1 = x_4 = x_5 = 0$ and $x_2 = x_3 = 1$. So, $x=(0,1,1,0,0)$. \n",
    "\n",
    "<div class=\"alert alert-block alert-info\">\n",
    "Without loss of generality, we could put vertices 1, 4 and 5 to Group 0 and vertices 2 and 3 to Group 1 and obtain the vector $x=(1,0,0,1,1)$. Hence, we can conlude that two different vectors $x$ correspond to the same cut. \n",
    "</div>\n"
   ]
  },
  {
   "cell_type": "markdown",
   "id": "87dddc7c",
   "metadata": {},
   "source": [
    "### Task 2\n",
    "\n",
    "For the given graph, we have some possible cuts as shown below: \n",
    "\n",
    "<img src=\"../images/max-cut5.png\">\n",
    "\n",
    "Identify $x$ and the edge-cut size for each cut. Then, evaluate the value of the objective function with the identified $x$ using QUBO matrix formulation."
   ]
  },
  {
   "cell_type": "markdown",
   "id": "8f39c01b",
   "metadata": {},
   "source": [
    "[click here for solution](QUBO_Examples_MaximumCut_Solutions.ipynb#task2)\n"
   ]
  },
  {
   "cell_type": "markdown",
   "id": "5340ba32",
   "metadata": {},
   "source": [
    "### Task 3\n",
    "\n",
    "Input matrix $Q$ given in the example to the function *qubo_solver()* and determine $x$ which minimizes $x^T Qx$ and the corresponding minimum value.\n",
    "\n",
    "$$Q = \\begin{pmatrix}\n",
    "-2 & 2 & 2 & 0 & 0\\\\\n",
    "0 & -2 & 0 & 2 & 0\\\\\n",
    "0 & 0 & -3 & 2 & 2\\\\\n",
    "0 & 0 & 0 & -3 & 2\\\\\n",
    "0 & 0 & 0 & 0 & -2\n",
    "\\end{pmatrix}$$"
   ]
  },
  {
   "cell_type": "code",
   "execution_count": null,
   "id": "9312608b",
   "metadata": {},
   "outputs": [],
   "source": [
    "# Access the qubo_solver() function\n",
    "%run qubo_functions.py"
   ]
  },
  {
   "cell_type": "code",
   "execution_count": 4,
   "id": "5ca92172",
   "metadata": {},
   "outputs": [],
   "source": [
    "import numpy as np\n",
    "\n",
    "# Define the Q matrix\n",
    "\n",
    "\n",
    "\n",
    "# Pass the matrix as an argument to the function\n",
    "qubo_solver(Q)"
   ]
  },
  {
   "cell_type": "markdown",
   "id": "883c3a00",
   "metadata": {},
   "source": [
    "[click here for solution](QUBO_Examples_MaximumCut_Solutions.ipynb#task3)\n"
   ]
  },
  {
   "cell_type": "markdown",
   "id": "64e94670",
   "metadata": {},
   "source": [
    "### Task 4\n",
    "\n",
    "Let's assume we have a simple network of 5 vertices and 7 edges. \n",
    "\n",
    "<img src=\"../images/max-cut2.png\" width=\"250\">\n",
    "\n",
    "Using the QUBO expression $\\min \\sum_{(i,j) \\in E} -x_i-x_j+2x_ix_j$, determine the matrix $Q$ for this graph. "
   ]
  },
  {
   "cell_type": "markdown",
   "id": "7c5efb72",
   "metadata": {},
   "source": [
    "[click here for solution](QUBO_Examples_MaximumCut_Solutions.ipynb#task4)"
   ]
  },
  {
   "cell_type": "markdown",
   "id": "4ade4b8b",
   "metadata": {},
   "source": [
    "### Task 5\n",
    "\n",
    "Repeat Task 3 for the matrix $Q$ calculated in Task 4."
   ]
  },
  {
   "cell_type": "code",
   "execution_count": 1,
   "id": "2d445982",
   "metadata": {},
   "outputs": [],
   "source": [
    "#Access the qubo_solver() function\n",
    "%run qubo_functions.py"
   ]
  },
  {
   "cell_type": "code",
   "execution_count": null,
   "id": "1fb10865",
   "metadata": {},
   "outputs": [],
   "source": [
    "# Define the Q matrix\n",
    "#Assign it the name Q2\n",
    "\n",
    "\n",
    "\n",
    "# Pass the matrix as an argument to the function\n",
    "qubo_solver(Q2)"
   ]
  },
  {
   "cell_type": "markdown",
   "id": "860a76e4",
   "metadata": {},
   "source": [
    "[click here for solution](QUBO_Examples_MaximumCut_Solutions.ipynb#task5)\n"
   ]
  },
  {
   "cell_type": "markdown",
   "id": "2c249155",
   "metadata": {},
   "source": [
    "---\n",
    "\n",
    "### References\n",
    "\n",
    "1. D-Wave Systems Examples. (2021). *Maximum Cut.* Github https://github.com/dwave-examples/maximum-cut\n",
    "2. Fred Glover, Gary Kochenberger, Yu Du. (2019). *Quantum Bridge Analytics I: A Tutorial on Formulating and Using QUBO Models.* [[arXiv Preprint]](https://arxiv.org/abs/1811.11538)"
   ]
  }
 ],
 "metadata": {
  "kernelspec": {
   "display_name": "Python 3",
   "language": "python",
   "name": "python3"
  },
  "language_info": {
   "codemirror_mode": {
    "name": "ipython",
    "version": 3
   },
   "file_extension": ".py",
   "mimetype": "text/x-python",
   "name": "python",
   "nbconvert_exporter": "python",
   "pygments_lexer": "ipython3",
   "version": "3.7.3"
  },
  "latex_envs": {
   "LaTeX_envs_menu_present": true,
   "autoclose": true,
   "autocomplete": true,
   "bibliofile": "biblio.bib",
   "cite_by": "apalike",
   "current_citInitial": 1,
   "eqLabelWithNumbers": true,
   "eqNumInitial": 1,
   "hotkeys": {
    "equation": "Ctrl-E",
    "itemize": "Ctrl-I"
   },
   "labels_anchors": false,
   "latex_user_defs": false,
   "report_style_numbering": false,
   "user_envs_cfg": false
  },
  "toc": {
   "base_numbering": 1,
   "nav_menu": {},
   "number_sections": true,
   "sideBar": true,
   "skip_h1_title": false,
   "title_cell": "Table of Contents",
   "title_sidebar": "Contents",
   "toc_cell": false,
   "toc_position": {},
   "toc_section_display": true,
   "toc_window_display": false
  }
 },
 "nbformat": 4,
 "nbformat_minor": 5
}
