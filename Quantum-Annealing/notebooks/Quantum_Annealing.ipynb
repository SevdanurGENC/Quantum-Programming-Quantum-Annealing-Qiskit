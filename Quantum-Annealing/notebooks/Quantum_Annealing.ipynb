{
 "cells": [
  {
   "cell_type": "markdown",
   "id": "attempted-prerequisite",
   "metadata": {},
   "source": [
    "<table width = \"100%\">\n",
    "  <tr style=\"background-color:white;\">\n",
    "    <!-- QWorld Logo -->\n",
    "    <td style=\"text-align:left;width:200px;\"> \n",
    "        <a href=\"https://qworld.net/\" target=\"_blank\"><img src=\"../images/QWorld.png\"> </a></td>\n",
    "    <td style=\"text-align:right;vertical-align:bottom;font-size:16px;\"> \n",
    "        Prepared by <a href=\"https://www.cmpe.boun.edu.tr/~ozlem.salehi/\" target=\"_blank\"> Özlem Salehi </a> </td>\n",
    "    </tr> \n",
    " </table>\n",
    " \n",
    "<hr>"
   ]
  },
  {
   "cell_type": "markdown",
   "id": "blessed-purse",
   "metadata": {},
   "source": [
    "# Quantum Annealing"
   ]
  },
  {
   "cell_type": "markdown",
   "id": "flexible-crime",
   "metadata": {},
   "source": [
    "Quantum annealing (QA) is a heuristic method for solving optimization problems. It relies on the quantum adiabatic computation, which is an alternative to the gate based model. Unlike simulated annealing, it is a physical process, in which quantum fluctuations play the role of thermal fluctuations."
   ]
  },
  {
   "cell_type": "markdown",
   "id": "traditional-journey",
   "metadata": {},
   "source": [
    "<figure>\n",
    "    <img src='../images/qa.jpg'  width=\"350\" />\n",
    "</figure>"
   ]
  },
  {
   "cell_type": "markdown",
   "id": "elect-encoding",
   "metadata": {},
   "source": [
    "_Hamiltonian_ is the term used for describing the energies of any physical (classical) system. For many Hamiltonians, finding the lowest energy state is an NP-Hard problem, which is intractable for classical computers."
   ]
  },
  {
   "cell_type": "markdown",
   "id": "naughty-tracy",
   "metadata": {},
   "source": [
    "For quantum systems, Hamiltonian is defined only for certain states, which are called the _eigenstates_. The idea behing quantum annealing is to create a Hamiltonian, whose lowest energy state (_ground state_) encodes the solution to the optimization problem we want to solve. Although finding the lowest energy state might be NP-Hard, quantum adiabatic theorem offers a new approach for solving the problem."
   ]
  },
  {
   "cell_type": "markdown",
   "id": "1f652c55",
   "metadata": {},
   "source": [
    "## Adiabatic Quantum Computing (AQC)"
   ]
  },
  {
   "cell_type": "markdown",
   "id": "contained-editing",
   "metadata": {},
   "source": [
    "<div class=\"alert alert-block alert-info\">\n",
    "    <b>Quantum Adiabatic Theorem:</b> A quantum system that starts in the ground state of a time-dependent Hamiltonian, remains in the in the instantaneous ground state provided the Hamiltonian changes sufficiently slowly."
   ]
  },
  {
   "cell_type": "markdown",
   "id": "paperback-cursor",
   "metadata": {},
   "source": [
    "Now consider the following time-dependent Hamiltonian."
   ]
  },
  {
   "cell_type": "markdown",
   "id": "familiar-happening",
   "metadata": {},
   "source": [
    "$$H(t) = (1-\\frac{t}{\\tau}) H_{0} + \\frac{t}{\\tau} H_p$$"
   ]
  },
  {
   "cell_type": "markdown",
   "id": "abroad-corner",
   "metadata": {},
   "source": [
    "$H_{0}$ is the initial Hamiltonian and $H_p$ is the final Hamiltonian. \n",
    "- At $t=0$, we have only $H_{0}$ acting on the system.\n",
    "- At $t = \\tau$, we have only $H_p$ acting on the system.\n",
    "\n",
    "Hence if we start with a Hamiltonian whose ground state is easy to prepare and evolve the system with $H(t)$, then the system will end up with the ground state of Hamiltonian $H_p$. \n",
    "\n",
    "This gives the idea of picking $H_p$ as the Hamiltonian whose ground state is the solution we are looking for. "
   ]
  },
  {
   "cell_type": "markdown",
   "id": "7e4eb07c",
   "metadata": {},
   "source": [
    "## Difference between AQC and quantum annealing"
   ]
  },
  {
   "cell_type": "markdown",
   "id": "f3ec57ff",
   "metadata": {},
   "source": [
    "- In quantum annealing, certain properties of AQC are relaxed. Computation does not take place in a totally closed system. This makes quantum annealing a *heuristic* algorithm.\n",
    "\n",
    "- In quantum annealing, problem Hamiltonian has a restrictive form corresponding to a classical objective function.\n",
    "\n",
    "- AQC is universal i.e. you can simulate a gate based quantum computer using adiabatic quantum computing, while quantum annealing is not universal.\n",
    "\n",
    "Currently, quantum annealing can be realized using the quantum processing units provided by **D-Wave**."
   ]
  },
  {
   "cell_type": "markdown",
   "id": "2d5742eb",
   "metadata": {},
   "source": [
    "## Initial Hamiltonian $H_0$"
   ]
  },
  {
   "cell_type": "markdown",
   "id": "precious-sculpture",
   "metadata": {},
   "source": [
    "The initial Hamiltonian is picked as \n",
    "$$\n",
    "H_0 = \\sum_{i=1}^n - \\sigma_i ^x,\n",
    "$$\n",
    "where $\\sigma_i ^x$ is the Pauli-X operator applied on qubit $i$.\n",
    "\n",
    "Observe that\n",
    "\n",
    "$-X|+\\rangle = - |+\\rangle$\n",
    "\n",
    "$-X|-\\rangle =  |+\\rangle$.\n",
    "\n",
    "Hence, $|+\\rangle$ is the ground state for $-X$.\n",
    "\n",
    "So, for the initial state we pick equal superpositon of $|0\\rangle$ and $|1\\rangle$ for each qubit, that is the $|+\\rangle$ state. "
   ]
  },
  {
   "cell_type": "markdown",
   "id": "aa1ad1ba",
   "metadata": {},
   "source": [
    "## Problem Hamiltonian $H_p$"
   ]
  },
  {
   "cell_type": "markdown",
   "id": "124320b6",
   "metadata": {},
   "source": [
    "In D-Wave machines, problem Hamiltonian takes the following form:\n",
    "    \n",
    "$$H_p = \\sum_{i \\in V} h_i \\sigma_i^z + \\sum_{(i,j)\\in E} J_{ij} \\sigma_i^z \\sigma_j^z$$"
   ]
  },
  {
   "cell_type": "markdown",
   "id": "cfc19323",
   "metadata": {},
   "source": [
    "Here $V$ is the set of qubits in D-Wave machine and $(i,j)$ are the available couplings between the qubits. You can see that only 2-local interactions are available."
   ]
  },
  {
   "cell_type": "markdown",
   "id": "3699f892",
   "metadata": {},
   "source": [
    "$\\sigma_i^z$ corresponds to the Pauli-Z operator applied on qubit $i$. "
   ]
  },
  {
   "cell_type": "markdown",
   "id": "30212f8f",
   "metadata": {},
   "source": [
    "Now let us try to understand how we can encode our problem so that ground state of $H_p$ gives the optimal solution for our problem."
   ]
  },
  {
   "cell_type": "markdown",
   "id": "9d2f8c04",
   "metadata": {},
   "source": [
    "Pauli-Z operator is identified by the following matrix:\n",
    "$$Z = \\begin{pmatrix}\n",
    "1&0\\\\\n",
    "0&-1\n",
    "\\end{pmatrix}$$"
   ]
  },
  {
   "cell_type": "markdown",
   "id": "204d712e",
   "metadata": {},
   "source": [
    "Its eigenstates are $|0\\rangle$ and $|1\\rangle$ with the corresponding eigenvalues 1 and -1.\n",
    "\n",
    "$Z|0\\rangle = |0\\rangle = (-1)^0 |0\\rangle$  \n",
    "$Z|1\\rangle = -|1\\rangle = (-1)^1 |1\\rangle $."
   ]
  },
  {
   "cell_type": "markdown",
   "id": "eab567aa",
   "metadata": {},
   "source": [
    "Hence, when $H_p$ is applied on state $|\\phi\\rangle$, we get the following energy function:"
   ]
  },
  {
   "cell_type": "markdown",
   "id": "30c8a3a8",
   "metadata": {},
   "source": [
    "\\begin{align*}\n",
    "\\varepsilon_P &= \\sum_{i \\in V} h_i (-1)^{\\phi_i} + \\sum_{(i,j) \\in E} J_{ij} (-1)^{\\phi_i}(-1)^{\\phi_j} \\\\\n",
    "&= \\sum_{i \\in V} h_is_i + \\sum_{(i,j) \\in E} J_{ij} s_i s_j\n",
    "\\end{align*}"
   ]
  },
  {
   "cell_type": "markdown",
   "id": "2bf73301",
   "metadata": {},
   "source": [
    "where $s_i \\in \\{-1,1\\}$ are spin variables. "
   ]
  },
  {
   "cell_type": "markdown",
   "id": "29b752c0",
   "metadata": {},
   "source": [
    "Note that this is exactly the energy of the Ising model we have defined previously.\n",
    "\n",
    "$$ E_{ising}(\\mathbf{s}) =  \\sum_i h_{i} s_i +  \\sum_{i<j} J_{i,j} s_i s_j $$ \n"
   ]
  },
  {
   "cell_type": "markdown",
   "id": "09ded055",
   "metadata": {},
   "source": [
    "The only difference is that when defining Ising model, we have allowed any 2-local interactions between any pair of spins. We will come to that. "
   ]
  },
  {
   "cell_type": "markdown",
   "id": "7e4ceab6",
   "metadata": {},
   "source": [
    "In principal, if you can formulate your problem in the form of an Ising model, then you can use quantum annealing to solve your problem."
   ]
  },
  {
   "cell_type": "markdown",
   "id": "09cdf832",
   "metadata": {},
   "source": [
    "# References\n",
    "\n",
    "1. McGeoch, Catherine C. \"Adiabatic quantum computation and quantum annealing: Theory and practice.\" Synthesis Lectures on Quantum Computing 5.2 (2014): 1-93.\n",
    "\n",
    "2. Steven Herbert Lecture Notes, Quantum Computing, Lecture 15: Adiabatic Quantum Computing [link](https://www.cl.cam.ac.uk/teaching/1920/QuantComp/Quantum_Computing_Lecture_15.pdf)"
   ]
  }
 ],
 "metadata": {
  "kernelspec": {
   "display_name": "Python 3",
   "language": "python",
   "name": "python3"
  },
  "language_info": {
   "codemirror_mode": {
    "name": "ipython",
    "version": 3
   },
   "file_extension": ".py",
   "mimetype": "text/x-python",
   "name": "python",
   "nbconvert_exporter": "python",
   "pygments_lexer": "ipython3",
   "version": "3.7.3"
  }
 },
 "nbformat": 4,
 "nbformat_minor": 5
}
