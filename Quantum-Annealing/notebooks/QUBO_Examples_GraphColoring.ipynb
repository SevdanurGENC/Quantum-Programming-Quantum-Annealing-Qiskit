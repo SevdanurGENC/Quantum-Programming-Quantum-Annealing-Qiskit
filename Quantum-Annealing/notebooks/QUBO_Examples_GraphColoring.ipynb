{
 "cells": [
  {
   "cell_type": "markdown",
   "id": "228ae526",
   "metadata": {},
   "source": [
    "<table width = \"100%\">\n",
    "  <tr style=\"background-color:white;\">\n",
    "    <!-- QWorld Logo -->\n",
    "    <td style=\"text-align:left;width:200px;\"> \n",
    "        <a href=\"https://qworld.net/\" target=\"_blank\"><img src=\"../images/QWorld.png\"> </a></td>\n",
    "    <td style=\"text-align:right;vertical-align:bottom;font-size:16px;\"> \n",
    "        Prepared by <a href=\"https://gitlab.com/sabahuddin.ahmad\" target=\"_blank\"> Sabah Ud Din Ahmad </a> and Özlem Salehi</td>\n",
    "    </tr> \n",
    " </table>\n",
    " \n",
    "<hr>"
   ]
  },
  {
   "cell_type": "markdown",
   "id": "2f80792b",
   "metadata": {},
   "source": [
    "# QUBO Formulation for Graph Coloring"
   ]
  },
  {
   "cell_type": "markdown",
   "id": "28b045ca",
   "metadata": {},
   "source": [
    "In this notebook, we will derive a QUBO formulation for the graph coloring problem."
   ]
  },
  {
   "cell_type": "markdown",
   "id": "57e59d94",
   "metadata": {},
   "source": [
    "## Graph Coloring"
   ]
  },
  {
   "cell_type": "markdown",
   "id": "890a0f83",
   "metadata": {},
   "source": [
    "Recall that graph coloring (or vertex voloring) is the procedure of assignment of colors to each vertex of a graph $G$ such that adjacent vertices get different colors. The decision version of the problem asks the following question:\n",
    "\n",
    "Given an undirected graph $G=(V,E)$ with $N$ nodes (vertices) and a set of $K$ colors, is it possible to color each vertex such that adjacent vertices get different colors? \n",
    "\n",
    "Note that in the decision version of the problem, our aim is not to minimize the number of colors, but to check if a feasible coloring exists using $K$ colors. One can decrease $K$ and solve the problem again to find the minimum number of required colors."
   ]
  },
  {
   "cell_type": "markdown",
   "id": "d0a46e9f",
   "metadata": {},
   "source": [
    "<div class=\"alert alert-block alert-info\">\n",
    "Note that there are multiple feasible solutions as in any coloring we can exchange the color of the nodes.\n",
    "<div>\n"
   ]
  },
  {
   "cell_type": "markdown",
   "id": "f5e612ab",
   "metadata": {},
   "source": [
    "### Binary variables\n",
    "\n",
    "We will define $NK$ binary variables $x_{i,c}$, where $i$ represents the node and $c$ represents the node's color.\n",
    "\n",
    "$$x_{ic}=\n",
    "\\left\\{\n",
    "\\begin{array}{ll} \n",
    "      1, & \\text{node $i$ is assigned color $c$} \\\\\n",
    "      0, & \\text{otherwise} \\\\\n",
    "\\end{array}\n",
    "\\right.$$\n",
    "\n",
    "for $i=0,\\dots,N-1$ and $c=0,\\dots,K-1$.\n",
    "\n",
    "Note that both indices start at $0$."
   ]
  },
  {
   "cell_type": "markdown",
   "id": "479fabbe",
   "metadata": {},
   "source": [
    "### Constraints\n",
    "\n",
    "The problem involves the following constraints:\n",
    "- Each node must be colored using exactly one color.\n",
    "- Adjacent nodes must be assigned different colors."
   ]
  },
  {
   "cell_type": "markdown",
   "id": "56093bf8",
   "metadata": {},
   "source": [
    "<div class=\"alert alert-block alert-info\">\n",
    "Note that we don't have a cost function to minimize. Hence, when we minimize the QUBO formulation, we will get 0 if no constraint is violated and we have a feasible solution. In case no feasible solution exists, the objective function value will correspond to the penalty terms.\n",
    "<div>\n"
   ]
  },
  {
   "cell_type": "markdown",
   "id": "d4a105ac",
   "metadata": {},
   "source": [
    "### Task 1\n",
    "\n",
    "Write down the mathematical expressions that account for the constraints of the graph coloring problem. \n",
    "\n",
    "Moreover, give the expressions of the equivalent penalties and the corresponding QUBO for formulation for the graph coloring problem.\n",
    "\n",
    "**Hint**: To get equivalent penalties, you can review the [Specific Cases](QUBO_PenaltyMethod.ipynb#cases) in the Penalty Method notebook."
   ]
  },
  {
   "cell_type": "markdown",
   "id": "1a44502d",
   "metadata": {},
   "source": [
    "[click here for solution](QUBO_Examples_GraphColoring_Solutions.ipynb#task1)\n"
   ]
  },
  {
   "cell_type": "markdown",
   "id": "f305206c",
   "metadata": {},
   "source": [
    "### Task 2\n",
    "\n",
    "For the given graph, write down the open form of the QUBO expression for 2 colors $c=0,1$. Using the QUBO expression, obtain the corresponding $Q$ matrix.\n",
    "\n",
    "<img src=\"../images/gc_5.png\" width=\"200\">\n"
   ]
  },
  {
   "cell_type": "markdown",
   "id": "ffde451d",
   "metadata": {},
   "source": [
    "[click here for solution](QUBO_Examples_GraphColoring_Solutions.ipynb#task2)\n"
   ]
  },
  {
   "cell_type": "markdown",
   "id": "4610ff99",
   "metadata": {},
   "source": [
    "### Task 3\n",
    "\n",
    "Create the above $Q$ matrix using numpy. Use the `qubo_solver` defined previously to find the vector $x$ that minimizes $x^TQx$. What can you conclude about the result?"
   ]
  },
  {
   "cell_type": "code",
   "execution_count": 2,
   "id": "bb46c2be",
   "metadata": {},
   "outputs": [],
   "source": [
    "# Access the qubo_solver() function\n",
    "%run qubo_functions.py"
   ]
  },
  {
   "cell_type": "code",
   "execution_count": null,
   "id": "85664007",
   "metadata": {},
   "outputs": [],
   "source": [
    "import numpy as np\n",
    "\n",
    "# Define Q matrix\n"
   ]
  },
  {
   "cell_type": "code",
   "execution_count": null,
   "id": "4acfd66b",
   "metadata": {},
   "outputs": [],
   "source": [
    "qubo_solver(Q)"
   ]
  },
  {
   "cell_type": "markdown",
   "id": "dcbeedad",
   "metadata": {},
   "source": [
    "[click here for solution](QUBO_Examples_GraphColoring_Solutions.ipynb#task3)\n"
   ]
  },
  {
   "cell_type": "markdown",
   "id": "28709410",
   "metadata": {},
   "source": [
    "###  General form of the $Q$ matrix for the graph coloring problem\n",
    "\n",
    "To determine the $Q$ matrix, we should investigate the corresponding QUBO formulation in more detail."
   ]
  },
  {
   "cell_type": "markdown",
   "id": "e3d89083",
   "metadata": {},
   "source": [
    "#### First term\n",
    "\n",
    "Let's look at the first term.\n",
    "$$\\sum_{i=0}^{N-1} \\left(1-\\sum_{c=0}^{K-1}x_{i,c\n",
    "}\\right)^2$$\n",
    "Expanding the sum we get\n",
    "$$\\left(1-(x_{0,0}+x_{0,1}+\\cdots+x_{0,N-1})\\right)^2+\\left(1-(x_{1,0}+x_{1,1}+\\cdots+x_{1,N-1})\\right)^2+\\left(1-(x_{2,0}+x_{2,1}+\\cdots+x_{2,N-1})\\right)^2+\\cdots+\\left(1-(x_{K-1,0}+x_{K-1,1}+\\cdots+x_{K-1,N-1})\\right)^2.$$\n",
    "\n",
    "The terms in the summation looks exactly like the second constraint of the TSP problem whose solution can be found [here](QUBO_Examples_TSP_Solutions.ipynb#task1).\n",
    "\n",
    "\n",
    "So for the first term we have the following:\n",
    "- Each $x_{i,c}$ appears with coefficient $-1$.\n",
    "- For each fixed $i$, all possible 2-combinations of $x_{i,c}$ appears with coefficient $+2$.\n",
    "- There is a constant coefficient of $N$."
   ]
  },
  {
   "cell_type": "markdown",
   "id": "6c3ed12c",
   "metadata": {},
   "source": [
    "#### Second term\n",
    "\n",
    "Let's look at the second term.\n",
    "\n",
    "$$\\sum_{(i,j) \\in E} \\sum_{c=0}^{K-1} x_{i,c}x_{j,c}$$\n",
    "\n",
    "For each $(i,j) \\in E$, we have the term $x_{i,c}x_{j,c}$ for all possible colors $c$.\n",
    "\n",
    "So we can conclude that \n",
    "- For each fixed $c$ and $(i,j)\\in E$, the term $x_{i,c} x_{j,c}$ appears with the coefficient $+1$\n"
   ]
  },
  {
   "cell_type": "markdown",
   "id": "e110a76c",
   "metadata": {},
   "source": [
    "#### Overall\n",
    "\n",
    "- Each $x_{i,c}$ appears with coefficient $-1$.\n",
    "- For each fixed $i$, all possible 2-combinations of $x_{i,c}$ appears with coefficient $+2$.\n",
    "- For each fixed $c$ and $(i,j)\\in E$, the term $x_{i,c} x_{j,c}$ appears with the coefficient $+1$\n",
    "- There is a constant coefficient of $N$.\n",
    "\n",
    "Suppose that the rows and columns of the $Q$ matrix are labeled in the following order:\n",
    "\n",
    "$x_{0,0},x_{0,1},\\dots,x_{0,N-1},x_{1,0},x_{1,1},\\dots,x_{1,N-1}\\dots,x_{K-1,0},x_{K-1,1},\\dots,x_{K-1,N-1}$.\n",
    "\n",
    "Consider a row corresponding to $x_{i,c}$. \n",
    "\n",
    "- As each $x_{i,c}$ has coefficient of $-1$, all diagonals are $-1$.\n",
    "\n",
    "- All the entries whose corresponding column shares a common $i$ will have a coefficient $2$, with the condition that the matrix is upper triangular.\n",
    "\n",
    "- All the entries whose corresponding column is labeled with $x_{j,c}$ will have coefficient $1$ if $(i,j) \\in E$, with the condition that the matrix is upper triangular."
   ]
  },
  {
   "cell_type": "markdown",
   "id": "55174538",
   "metadata": {},
   "source": [
    "### Task 4\n",
    "\n",
    "For the graph given in Task 2, create the $Q$ matrix using numpy using 3 colors $c\\in\\{0,1,2\\}$. Use the `qubo_solver` defined previously to find the vector $x$ that minimizes $x^TQx$. What can you conclude about the result?"
   ]
  },
  {
   "cell_type": "code",
   "execution_count": 2,
   "id": "f761945b",
   "metadata": {},
   "outputs": [],
   "source": [
    "# Access the qubo_solver() function\n",
    "%run qubo_functions.py"
   ]
  },
  {
   "cell_type": "code",
   "execution_count": 2,
   "id": "2bf000bf",
   "metadata": {},
   "outputs": [],
   "source": [
    "import numpy as np\n",
    "\n",
    "# Define Q matrix\n"
   ]
  },
  {
   "cell_type": "code",
   "execution_count": null,
   "id": "4c3fba7d",
   "metadata": {},
   "outputs": [],
   "source": [
    "qubo_solver(Q)"
   ]
  },
  {
   "cell_type": "markdown",
   "id": "2581645c",
   "metadata": {},
   "source": [
    "[click here for solution](QUBO_Examples_GraphColoring_Solutions.ipynb#task4)\n"
   ]
  },
  {
   "cell_type": "markdown",
   "id": "b20a9b83",
   "metadata": {},
   "source": [
    "---"
   ]
  },
  {
   "cell_type": "markdown",
   "id": "e586c929",
   "metadata": {},
   "source": [
    "### Precolored Nodes\n",
    "\n",
    "It's possible that some nodes in a graph are precolored. This simplifies the QUBO formulation as we can remove some of the variables.\n",
    "\n"
   ]
  },
  {
   "cell_type": "markdown",
   "id": "a4f082d5",
   "metadata": {},
   "source": [
    " ### Task 5 (On paper)\n",
    "\n",
    "Suppose that you are given the following graph and we have 3 colors, $c \\in \\{0,1,2\\}$ corresponding to  corresponding to colors yellow, green and blue respectively. Note that node 1 is colored yellow. \n",
    "\n",
    "For which binary variables you can conclude that they are either 0 or 1 with certainty? List all such variables.\n",
    "\n",
    "<img src=\"../images/gc_2.png\" width=\"200\">"
   ]
  },
  {
   "cell_type": "markdown",
   "id": "f8cedb16",
   "metadata": {},
   "source": [
    "[click here for solution](QUBO_Examples_GraphColoring_Solutions.ipynb#task5)\n"
   ]
  },
  {
   "cell_type": "markdown",
   "id": "6de08e02",
   "metadata": {},
   "source": [
    "### Task 6\n",
    "\n",
    "Using the knowledge from Task 5, create the $Q$ matrix for the given graph using numpy using 3 colors $c\\in\\{0,1,2\\}$. Use the `qubo_solver` defined previously to find the vector $x$ that minimizes $x^TQx$. What can you conclude about the result?"
   ]
  },
  {
   "cell_type": "markdown",
   "id": "4df2439f",
   "metadata": {},
   "source": [
    "[click here for solution](QUBO_Examples_GraphColoring_Solutions.ipynb#task6)\n"
   ]
  },
  {
   "cell_type": "markdown",
   "id": "98e35de6",
   "metadata": {},
   "source": [
    "***\n",
    "### References\n",
    "\n",
    "1. Fred Glover, Gary Kochenberger, Yu Du. (2019). *Quantum Bridge Analytics I: A Tutorial on Formulating and Using QUBO Models.* [[arXiv Preprint]](https://arxiv.org/abs/1811.11538)\n",
    "2. Andrew Lucas. (2014). *Ising formulations of many NP problems.* Frontiers in Physics, Volume 2, Article 5. [Link](https://doi.org/10.3389/fphy.2014.00005)"
   ]
  }
 ],
 "metadata": {
  "kernelspec": {
   "display_name": "Python 3",
   "language": "python",
   "name": "python3"
  },
  "language_info": {
   "codemirror_mode": {
    "name": "ipython",
    "version": 3
   },
   "file_extension": ".py",
   "mimetype": "text/x-python",
   "name": "python",
   "nbconvert_exporter": "python",
   "pygments_lexer": "ipython3",
   "version": "3.7.3"
  },
  "latex_envs": {
   "LaTeX_envs_menu_present": true,
   "autoclose": true,
   "autocomplete": true,
   "bibliofile": "biblio.bib",
   "cite_by": "apalike",
   "current_citInitial": 1,
   "eqLabelWithNumbers": true,
   "eqNumInitial": 1,
   "hotkeys": {
    "equation": "Ctrl-E",
    "itemize": "Ctrl-I"
   },
   "labels_anchors": false,
   "latex_user_defs": false,
   "report_style_numbering": false,
   "user_envs_cfg": false
  },
  "toc": {
   "base_numbering": 1,
   "nav_menu": {},
   "number_sections": true,
   "sideBar": true,
   "skip_h1_title": false,
   "title_cell": "Table of Contents",
   "title_sidebar": "Contents",
   "toc_cell": false,
   "toc_position": {},
   "toc_section_display": true,
   "toc_window_display": false
  }
 },
 "nbformat": 4,
 "nbformat_minor": 5
}
