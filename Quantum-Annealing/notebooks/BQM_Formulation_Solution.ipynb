{
 "cells": [
  {
   "cell_type": "markdown",
   "id": "34baf83a",
   "metadata": {},
   "source": [
    "<table width = \"100%\">\n",
    "  <tr style=\"background-color:white;\">\n",
    "    <!-- QWorld Logo -->\n",
    "    <td style=\"text-align:left;width:200px;\"> \n",
    "        <a href=\"https://qworld.net/\" target=\"_blank\"><img src=\"../images/QWorld.png\"> </a></td>\n",
    "    <td style=\"text-align:right;vertical-align:bottom;font-size:16px;\"> \n",
    "        Prepared by AkashNarayanan B </td>    \n",
    "</table>\n",
    "<hr>"
   ]
  },
  {
   "cell_type": "markdown",
   "id": "097fdeb6",
   "metadata": {},
   "source": [
    "# <font color=\"blue\"> Solutions for </font> Binary Quadratic Model"
   ]
  },
  {
   "cell_type": "markdown",
   "id": "820b45eb",
   "metadata": {},
   "source": [
    "<a id=\"Task1\"></a>\n",
    "\n",
    "### Task 1\n",
    "\n",
    "Create a QUBO instance of BQM for the following objective function:\n",
    "\n",
    "$$5x_1 + 7x_1 x_2 - 3x_2+ 2.$$"
   ]
  },
  {
   "cell_type": "markdown",
   "id": "8a016373",
   "metadata": {},
   "source": [
    "### Solution\n",
    "\n",
    "In the objective function,\n",
    "\n",
    "- The linear part is $5x_1 - 3x_2$\n",
    "- The quadratic part is $7x_1 x_2$\n",
    "- The offset is 2"
   ]
  },
  {
   "cell_type": "code",
   "execution_count": 10,
   "id": "36bdf535",
   "metadata": {
    "ExecuteTime": {
     "end_time": "2021-10-09T15:47:52.798756Z",
     "start_time": "2021-10-09T15:47:52.478426Z"
    }
   },
   "outputs": [],
   "source": [
    "from dimod import BQM\n",
    "\n",
    "linear = {'x1': 5, 'x2': -3}\n",
    "quadratic = {('x1', 'x2'): 7}\n",
    "offset = 2\n",
    "vartype = 'BINARY'\n",
    "\n",
    "bqm_qubo = BQM(linear, quadratic, offset, vartype)"
   ]
  },
  {
   "cell_type": "code",
   "execution_count": 11,
   "id": "22dea907",
   "metadata": {},
   "outputs": [
    {
     "data": {
      "text/plain": [
       "BinaryQuadraticModel({'x1': 5.0, 'x2': -3.0}, {('x2', 'x1'): 7.0}, 2.0, 'BINARY')"
      ]
     },
     "execution_count": 11,
     "metadata": {},
     "output_type": "execute_result"
    }
   ],
   "source": [
    "bqm_qubo"
   ]
  },
  {
   "cell_type": "markdown",
   "id": "848de2dc",
   "metadata": {},
   "source": [
    "<a id=\"Task2\"></a>\n",
    "\n",
    "### Task 2\n",
    "\n",
    "Create an Ising instance of BQM for the following objective function:\n",
    "\n",
    "$$s_1 + s_2 + s_3 + s_4 - 6s_1 s_3 - 6s_1 s_4 - 6s_3 s_4 - 6s_1 s_2.$$"
   ]
  },
  {
   "cell_type": "markdown",
   "id": "70fa4249",
   "metadata": {},
   "source": [
    "### Solution\n",
    "\n",
    "In the objective function, \n",
    "\n",
    "- The linear part is $s_1 + s_2 + s_3 + s_4$\n",
    "- The quadratic part is $- 6s_1 s_3 - 6s_1 s_4 - 6s_3 s_4 - 6s_1 s_2$\n",
    "- The offset is 0"
   ]
  },
  {
   "cell_type": "code",
   "execution_count": 13,
   "id": "2f2b8e67",
   "metadata": {
    "ExecuteTime": {
     "end_time": "2021-10-09T15:47:52.805038Z",
     "start_time": "2021-10-09T15:47:52.800753Z"
    }
   },
   "outputs": [],
   "source": [
    "from dimod import BQM\n",
    "\n",
    "linear = {'s1': 1, 's2': 1, 's3': 1, 's4': 1}\n",
    "quadratic = {('s1', 's3'): -6, ('s1', 's4'): -6,\n",
    "             ('s3', 's4'): -6, ('s1', 's2'): -6}\n",
    "vartype = 'SPIN'\n",
    "\n",
    "bqm_ising = BQM(linear, quadratic, vartype)"
   ]
  },
  {
   "cell_type": "code",
   "execution_count": 3,
   "id": "4e9b67c2",
   "metadata": {},
   "outputs": [
    {
     "data": {
      "text/plain": [
       "BinaryQuadraticModel({'s1': 1.0, 's3': 1.0, 's4': 1.0, 's2': 1.0}, {('s3', 's1'): -6.0, ('s4', 's1'): -6.0, ('s4', 's3'): -6.0, ('s2', 's1'): -6.0}, 0.0, 'SPIN')"
      ]
     },
     "execution_count": 3,
     "metadata": {},
     "output_type": "execute_result"
    }
   ],
   "source": [
    "bqm_ising"
   ]
  },
  {
   "cell_type": "markdown",
   "id": "750c0558",
   "metadata": {},
   "source": [
    "<a id=\"Task3\"></a>\n",
    "\n",
    "### Task 3\n",
    "\n",
    "Print the `linear`, `quadratic`, `offset` and `vartype` values of the BQM instance you created in Task 2."
   ]
  },
  {
   "cell_type": "markdown",
   "id": "d39a2f0f",
   "metadata": {},
   "source": [
    "### Solution"
   ]
  },
  {
   "cell_type": "code",
   "execution_count": 4,
   "id": "2e2c97a4",
   "metadata": {
    "ExecuteTime": {
     "end_time": "2021-10-09T15:47:52.868137Z",
     "start_time": "2021-10-09T15:47:52.806735Z"
    }
   },
   "outputs": [
    {
     "name": "stdout",
     "output_type": "stream",
     "text": [
      "Attribute Values:\n",
      "\n",
      "Linear: {'s1': 1.0, 's3': 1.0, 's4': 1.0, 's2': 1.0}\n",
      "Quadratic: {('s3', 's1'): -6.0, ('s4', 's1'): -6.0, ('s4', 's3'): -6.0, ('s2', 's1'): -6.0}\n",
      "Offset: 0.0\n",
      "Variable Type: Vartype.SPIN\n"
     ]
    }
   ],
   "source": [
    "# Enter your code here\n",
    "print(\"Attribute Values:\\n\")\n",
    "\n",
    "print(f\"Linear: {bqm_ising.linear}\")\n",
    "print(f\"Quadratic: {bqm_ising.quadratic}\")\n",
    "print(f\"Offset: {bqm_ising.offset}\")\n",
    "print(f\"Variable Type: {bqm_ising.vartype}\")"
   ]
  },
  {
   "cell_type": "markdown",
   "id": "6d8e43ee",
   "metadata": {},
   "source": [
    "<a id=\"Task4\"></a>\n",
    "\n",
    "### Task 4\n",
    "\n",
    "Find the optimal sample of the QUBO instance that produces the lowest energy value for the objective function used in Task 1.\n",
    "\n",
    "$$f(x_1, x_2) = 5x_1 + 7x_1 x_2 - 3x_2$$"
   ]
  },
  {
   "cell_type": "markdown",
   "id": "cd512f29",
   "metadata": {},
   "source": [
    "### Solution\n",
    "\n",
    "First, we have to create a QUBO instance."
   ]
  },
  {
   "cell_type": "code",
   "execution_count": 14,
   "id": "0dfc1362",
   "metadata": {
    "ExecuteTime": {
     "end_time": "2021-10-09T15:47:52.925319Z",
     "start_time": "2021-10-09T15:47:52.872241Z"
    }
   },
   "outputs": [],
   "source": [
    "from dimod import BQM\n",
    "from dimod.reference.samplers import ExactSolver\n",
    "\n",
    "linear = {'x1': 5, 'x2': -3}\n",
    "quadratic = {('x1', 'x2'): 7}\n",
    "vartype = 'BINARY'\n",
    "\n",
    "bqm_qubo = BQM(linear, quadratic, vartype)"
   ]
  },
  {
   "cell_type": "markdown",
   "id": "d614d209",
   "metadata": {},
   "source": [
    "Then we can find the optimal solution using the classical sampler."
   ]
  },
  {
   "cell_type": "code",
   "execution_count": 7,
   "id": "4653825b",
   "metadata": {
    "ExecuteTime": {
     "end_time": "2021-10-09T15:47:52.984231Z",
     "start_time": "2021-10-09T15:47:52.929748Z"
    }
   },
   "outputs": [
    {
     "name": "stdout",
     "output_type": "stream",
     "text": [
      "  x1 x2 energy num_oc.\n",
      "3  0  1   -3.0       1\n",
      "0  0  0    0.0       1\n",
      "1  1  0    5.0       1\n",
      "2  1  1    9.0       1\n",
      "['BINARY', 4 rows, 4 samples, 2 variables]\n",
      "\n",
      "Therefore the sample {'x1': 0, 'x2': 1} produces the lowest energy value of -3.0.\n"
     ]
    }
   ],
   "source": [
    "sampler = ExactSolver()\n",
    "sampleset = sampler.sample(bqm_qubo)\n",
    "\n",
    "print(sampleset)\n",
    "\n",
    "print(f\"\\nTherefore the sample {sampleset.first.sample} produces\"\n",
    "      f\" the lowest energy value of {sampleset.first.energy}.\")"
   ]
  },
  {
   "cell_type": "markdown",
   "id": "b841c919",
   "metadata": {},
   "source": [
    "<a id=\"Task5\"></a>\n",
    "\n",
    "### Task 5\n",
    "\n",
    "Find the optimal sample of the Ising instance that produces the lowest energy value for the objective function used in Task 2.\n",
    "\n",
    "$$f(s_1, s_2, s_3, s_4) = s_1 + s_2 + s_3 + s_4 - 6s_1 s_3 - 6s_1 s_4 - 6s_3 s_4 - 6s_1 s_2$$"
   ]
  },
  {
   "cell_type": "markdown",
   "id": "1de038b4",
   "metadata": {},
   "source": [
    "### Solution\n",
    "\n",
    "First, we have to create an Ising instance."
   ]
  },
  {
   "cell_type": "code",
   "execution_count": 15,
   "id": "311894d5",
   "metadata": {
    "ExecuteTime": {
     "end_time": "2021-10-09T15:47:53.047664Z",
     "start_time": "2021-10-09T15:47:52.987859Z"
    }
   },
   "outputs": [],
   "source": [
    "from dimod import BQM\n",
    "from dimod.reference.samplers import ExactSolver\n",
    "\n",
    "linear = {'s1': 1, 's2': 1, 's3': 1, 's4': 1}\n",
    "quadratic = {('s1', 's3'): -6, ('s1', 's4'): -6,\n",
    "             ('s3', 's4'): -6, ('s1', 's2'): -6}\n",
    "offset = 0\n",
    "vartype = 'SPIN'\n",
    "\n",
    "bqm_ising = BQM(linear, quadratic, offset, vartype)"
   ]
  },
  {
   "cell_type": "markdown",
   "id": "b34a5931",
   "metadata": {},
   "source": [
    "Then we can find the optimal solution using the classical sampler."
   ]
  },
  {
   "cell_type": "code",
   "execution_count": 7,
   "id": "f7320cba",
   "metadata": {
    "ExecuteTime": {
     "end_time": "2021-10-09T15:47:53.106022Z",
     "start_time": "2021-10-09T15:47:53.049514Z"
    }
   },
   "outputs": [
    {
     "name": "stdout",
     "output_type": "stream",
     "text": [
      "   s1 s2 s3 s4 energy num_oc.\n",
      "0  -1 -1 -1 -1  -28.0       1\n",
      "10 +1 +1 +1 +1  -20.0       1\n",
      "15 -1 +1 -1 -1  -14.0       1\n",
      "5  +1 -1 +1 +1  -10.0       1\n",
      "3  -1 -1 +1 -1   -2.0       1\n",
      "7  -1 -1 -1 +1   -2.0       1\n",
      "4  -1 -1 +1 +1    0.0       1\n",
      "14 +1 +1 -1 -1    0.0       1\n",
      "9  +1 +1 -1 +1    2.0       1\n",
      "13 +1 +1 +1 -1    2.0       1\n",
      "1  +1 -1 -1 -1   10.0       1\n",
      "2  +1 -1 +1 -1   12.0       1\n",
      "6  +1 -1 -1 +1   12.0       1\n",
      "8  -1 +1 -1 +1   12.0       1\n",
      "12 -1 +1 +1 -1   12.0       1\n",
      "11 -1 +1 +1 +1   14.0       1\n",
      "['SPIN', 16 rows, 16 samples, 4 variables]\n",
      "\n",
      "Therefore the sample {'s1': -1, 's2': -1, 's3': -1, 's4': -1} produces the lowest energy value of -28.0.\n"
     ]
    }
   ],
   "source": [
    "sampler = ExactSolver()\n",
    "sampleset = sampler.sample(bqm_ising)\n",
    "\n",
    "print(sampleset)\n",
    "\n",
    "print(f\"\\nTherefore the sample {sampleset.first.sample} produces \"\n",
    "      f\"the lowest energy value of {sampleset.first.energy}.\")"
   ]
  },
  {
   "cell_type": "markdown",
   "id": "ac820b2c",
   "metadata": {},
   "source": [
    "<a id=\"Task6\"></a>\n",
    "\n",
    "### Task 6\n",
    "\n",
    "Create a QUBO instance of BQM for the given objective function and find the optimal solution.\n",
    "\n",
    "$$f(x_1, x_2, x_3, x_4) = 3x_1 - x_2 + 10x_3 + 7x_4 + 2x_1 x_2 - 5x_1 x_3 + 3x_2 x_3 + 11x_3 x_4$$"
   ]
  },
  {
   "cell_type": "markdown",
   "id": "4dcefa7a",
   "metadata": {},
   "source": [
    "### Solution"
   ]
  },
  {
   "cell_type": "code",
   "execution_count": 16,
   "id": "9ddfa75f",
   "metadata": {
    "ExecuteTime": {
     "end_time": "2021-10-09T15:47:53.156486Z",
     "start_time": "2021-10-09T15:47:53.114572Z"
    }
   },
   "outputs": [],
   "source": [
    "from dimod import BQM\n",
    "from dimod.reference.samplers import ExactSolver\n",
    "\n",
    "linear = {'x1': 3, 'x2': -1, 'x3': 10, 'x4': 7}\n",
    "quadratic = {('x1', 'x2'): 2, ('x1', 'x3'): -5,\n",
    "             ('x2', 'x3'): 3, ('x3', 'x4'): 11}\n",
    "offset = 8\n",
    "vartype = 'BINARY'\n",
    "\n",
    "bqm_qubo = BQM(linear, quadratic, offset, vartype)"
   ]
  },
  {
   "cell_type": "markdown",
   "id": "e19e4e3f",
   "metadata": {},
   "source": [
    "Now, let's find the optimal solution for the QUBO instance"
   ]
  },
  {
   "cell_type": "code",
   "execution_count": 17,
   "id": "0d683b45",
   "metadata": {
    "ExecuteTime": {
     "end_time": "2021-10-09T15:47:53.265072Z",
     "start_time": "2021-10-09T15:47:53.162068Z"
    }
   },
   "outputs": [
    {
     "name": "stdout",
     "output_type": "stream",
     "text": [
      "   x1 x2 x3 x4 energy num_oc.\n",
      "3   0  1  0  0    7.0       1\n",
      "0   0  0  0  0    8.0       1\n",
      "1   1  0  0  0   11.0       1\n",
      "2   1  1  0  0   12.0       1\n",
      "12  0  1  0  1   14.0       1\n",
      "15  0  0  0  1   15.0       1\n",
      "6   1  0  1  0   16.0       1\n",
      "7   0  0  1  0   18.0       1\n",
      "14  1  0  0  1   18.0       1\n",
      "13  1  1  0  1   19.0       1\n",
      "4   0  1  1  0   20.0       1\n",
      "5   1  1  1  0   20.0       1\n",
      "9   1  0  1  1   34.0       1\n",
      "8   0  0  1  1   36.0       1\n",
      "10  1  1  1  1   38.0       1\n",
      "11  0  1  1  1   38.0       1\n",
      "['BINARY', 16 rows, 16 samples, 4 variables]\n",
      "\n",
      "Therefore the sample {'x1': 0, 'x2': 1, 'x3': 0, 'x4': 0} produces the lowest energy value of 7.0.\n"
     ]
    }
   ],
   "source": [
    "sampler = ExactSolver()\n",
    "sampleset = sampler.sample(bqm_qubo)\n",
    "\n",
    "print(sampleset)\n",
    "\n",
    "print(f\"\\nTherefore the sample {sampleset.first.sample} produces \"\n",
    "      f\"the lowest energy value of {sampleset.first.energy}.\")"
   ]
  }
 ],
 "metadata": {
  "kernelspec": {
   "display_name": "Python 3 (ipykernel)",
   "language": "python",
   "name": "python3"
  },
  "language_info": {
   "codemirror_mode": {
    "name": "ipython",
    "version": 3
   },
   "file_extension": ".py",
   "mimetype": "text/x-python",
   "name": "python",
   "nbconvert_exporter": "python",
   "pygments_lexer": "ipython3",
   "version": "3.8.10"
  },
  "latex_envs": {
   "LaTeX_envs_menu_present": true,
   "autoclose": true,
   "autocomplete": true,
   "bibliofile": "biblio.bib",
   "cite_by": "apalike",
   "current_citInitial": 1,
   "eqLabelWithNumbers": true,
   "eqNumInitial": 1,
   "hotkeys": {
    "equation": "Ctrl-E",
    "itemize": "Ctrl-I"
   },
   "labels_anchors": false,
   "latex_user_defs": false,
   "report_style_numbering": false,
   "user_envs_cfg": false
  },
  "toc": {
   "base_numbering": 1,
   "nav_menu": {},
   "number_sections": false,
   "sideBar": true,
   "skip_h1_title": false,
   "title_cell": "Table of Contents",
   "title_sidebar": "Contents",
   "toc_cell": false,
   "toc_position": {},
   "toc_section_display": true,
   "toc_window_display": false
  }
 },
 "nbformat": 4,
 "nbformat_minor": 5
}
