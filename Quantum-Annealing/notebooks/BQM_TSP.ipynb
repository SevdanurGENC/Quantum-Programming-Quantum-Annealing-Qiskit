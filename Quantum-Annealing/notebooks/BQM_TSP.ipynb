{
 "cells": [
  {
   "cell_type": "markdown",
   "id": "exotic-dining",
   "metadata": {},
   "source": [
    "<table width = \"100%\">\n",
    "  <tr style=\"background-color:white;\">\n",
    "    <!-- QWorld Logo -->\n",
    "    <td style=\"text-align:left;width:200px;\"> \n",
    "        <a href=\"https://qworld.net/\" target=\"_blank\"><img src=\"../images/QWorld.png\"> </a></td>\n",
    "    <td style=\"text-align:right;vertical-align:bottom;font-size:16px;\"> \n",
    "        Prepared by AkashNarayanan B and Özlem Salehi</td>    \n",
    "</table>\n",
    "<hr>"
   ]
  },
  {
   "cell_type": "markdown",
   "id": "ecological-church",
   "metadata": {},
   "source": [
    "# BQM for the Travelling Salesman Problem\n",
    "\n",
    "In this notebook, we will learn how to formulate BQM for the Travelling Salesman Problem. Instead of following the approach in the previous notebook, we will use the functions provided by Ocean SDK to formualate the binary quadratic model.\n",
    "\n",
    "\n",
    "To briefly recall, given a set of cities and corresponding distances between each pair of cities, the goal is to find the shortest possible route such that a salesman visits every city exactly once and returns to the starting point. \n",
    "\n",
    "QUBO formulation for TSP was given as follows:\n",
    "\n",
    "$$P \\cdot \\sum_{t=0}^{N-1} \\left(1-\\sum_{i=0}^{N-1}x_{i,t}\\right)^2 + P \\cdot \\sum_{i=0}^{N-1} \\left(1-\\sum_{t=0}^{N-1}x_{i,t}\\right)^2 + \\sum_{ \\substack{i,j=0\\\\i\\neq j}}^{N-1} w_{ij} \\sum_{t=0}^{N-1} x_{i,t} x_{j,t+1} $$\n"
   ]
  },
  {
   "cell_type": "markdown",
   "id": "b08ca3a5",
   "metadata": {},
   "source": [
    "We will solve TSP problem both by using the built-in BQM constructor, by creating the BQM from scratch and by using the funcitonality of Ocean SDK to incorporate constraints into the model. "
   ]
  },
  {
   "cell_type": "markdown",
   "id": "humanitarian-franchise",
   "metadata": {},
   "source": [
    "### Imports"
   ]
  },
  {
   "cell_type": "code",
   "execution_count": null,
   "id": "gross-munich",
   "metadata": {},
   "outputs": [],
   "source": [
    "import itertools\n",
    "from collections import defaultdict\n",
    "\n",
    "import dimod\n",
    "from dimod import BQM\n",
    "import dwave_networkx as dnx\n",
    "import matplotlib.pyplot as plt\n",
    "import networkx as nx\n",
    "import numpy as np\n",
    "from neal import SimulatedAnnealingSampler\n",
    "from dimod.reference.samplers import ExactSolver\n",
    "\n",
    "from bqm_utils import graph_viz, tsp_viz"
   ]
  },
  {
   "cell_type": "markdown",
   "id": "comic-twist",
   "metadata": {},
   "source": [
    "## Built-in Function\n",
    "\n",
    "`travelling_salesperson` is the built-in function in the `dwave-networkx` package for solving the travelling salesman problem.\n",
    "\n",
    "### Parameters\n",
    "\n",
    "- `G` - The NetworkX graph\n",
    "- `sampler` - BQM sampler for solving the NetworkX graph\n",
    "- `start`(optional) - Starting point of the tour\n",
    "\n"
   ]
  },
  {
   "cell_type": "markdown",
   "id": "focal-bosnia",
   "metadata": {},
   "source": [
    "### Example 1\n",
    "\n",
    "Let us consider the following graph."
   ]
  },
  {
   "cell_type": "code",
   "execution_count": null,
   "id": "hindu-finger",
   "metadata": {},
   "outputs": [],
   "source": [
    "G = nx.Graph()\n",
    "G.add_weighted_edges_from(\n",
    "    {(0, 1, 0.1), (0, 2, 0.5), (0, 3, 0.1), (1, 2, 0.1), (1, 3, 0.5), (2, 3, 0.1)}\n",
    ")\n",
    "graph_viz(G)"
   ]
  },
  {
   "cell_type": "markdown",
   "id": "627abb81",
   "metadata": {},
   "source": [
    "We are going the use the classical solver `ExactSolver` for solving this problem."
   ]
  },
  {
   "cell_type": "code",
   "execution_count": null,
   "id": "young-subscriber",
   "metadata": {},
   "outputs": [],
   "source": [
    "sampler = ExactSolver()\n",
    "path = dnx.traveling_salesperson(G, sampler, start=0)\n",
    "print(path)"
   ]
  },
  {
   "cell_type": "markdown",
   "id": "47c11390",
   "metadata": {},
   "source": [
    "Let us viusalize the result. "
   ]
  },
  {
   "cell_type": "code",
   "execution_count": null,
   "id": "demonstrated-account",
   "metadata": {},
   "outputs": [],
   "source": [
    "tsp_viz(G, path)"
   ]
  },
  {
   "cell_type": "markdown",
   "id": "valued-reducing",
   "metadata": {},
   "source": [
    "### Example 2"
   ]
  },
  {
   "cell_type": "markdown",
   "id": "b6aad119",
   "metadata": {},
   "source": [
    "This time, let us create a complete graph with 6 vertices and assign random weights to each edge. "
   ]
  },
  {
   "cell_type": "code",
   "execution_count": null,
   "id": "excited-accounting",
   "metadata": {},
   "outputs": [],
   "source": [
    "np.random.seed(45)\n",
    "G1 = nx.complete_graph(6)\n",
    "for u, v in G1.edges():\n",
    "    G1[u][v][\"weight\"] = np.random.randint(1, 5)\n",
    "\n",
    "graph_viz(G1)"
   ]
  },
  {
   "cell_type": "code",
   "execution_count": null,
   "id": "secondary-basic",
   "metadata": {
    "scrolled": true
   },
   "outputs": [],
   "source": [
    "list(G1.edges.data())"
   ]
  },
  {
   "cell_type": "markdown",
   "id": "f69f6bb0",
   "metadata": {},
   "source": [
    "If you try using the `ExactSolver` with this instance, you may not be successfull depending on your computer's memory. Hence we will use `SimulatedAnnealingSampler` instead."
   ]
  },
  {
   "cell_type": "code",
   "execution_count": null,
   "id": "improving-cement",
   "metadata": {},
   "outputs": [],
   "source": [
    "sampler = SimulatedAnnealingSampler()\n",
    "\n",
    "path = dnx.traveling_salesperson(G1, sampler, start=0)\n",
    "print(path)"
   ]
  },
  {
   "cell_type": "code",
   "execution_count": null,
   "id": "checked-harris",
   "metadata": {},
   "outputs": [],
   "source": [
    "tsp_viz(G1, path)"
   ]
  },
  {
   "cell_type": "markdown",
   "id": "raising-poultry",
   "metadata": {},
   "source": [
    "### Task 1\n",
    "\n",
    "Find the optimal route for the given graph using simulated annealer and the built-in function."
   ]
  },
  {
   "cell_type": "code",
   "execution_count": null,
   "id": "sacred-salmon",
   "metadata": {},
   "outputs": [],
   "source": [
    "G = nx.Graph()\n",
    "G.add_weighted_edges_from({(0, 1, 1), (0, 2, 5), (0, 3, 2), (1, 2, 4), (1, 3, 5), (2, 3, 3)})\n",
    "graph_viz(G)"
   ]
  },
  {
   "cell_type": "code",
   "execution_count": null,
   "id": "f6a5dc62",
   "metadata": {},
   "outputs": [],
   "source": [
    "# Your code here\n"
   ]
  },
  {
   "cell_type": "markdown",
   "id": "bf8e69cc",
   "metadata": {},
   "source": [
    "[click here for solution](BQM_TSP_Solutions.ipynb#Task1)"
   ]
  },
  {
   "cell_type": "markdown",
   "id": "compound-sender",
   "metadata": {},
   "source": [
    "## Formulating BQM using OceanSDK functions"
   ]
  },
  {
   "cell_type": "markdown",
   "id": "injured-account",
   "metadata": {},
   "source": [
    "### Step 1 - Define an empty BQM and add the cost function you want to minimize\n",
    "\n",
    "In case of TSP, this is the third term corresponding to the cost of the tour:\n",
    "\n",
    "$$\\sum_{ \\substack{i,j=0\\\\i\\neq j}}^{N-1} w_{ij} \\sum_{t=0}^{N-1} x_{i,t} x_{j,t+1}$$ "
   ]
  },
  {
   "cell_type": "markdown",
   "id": "b272cb1b",
   "metadata": {},
   "source": [
    "We use the function `add_quadratic` and provide the terms and the coefficient. Syntax is `(x_i,x_j,Q_{ij}`).\n",
    "\n",
    "We will use the following graph."
   ]
  },
  {
   "cell_type": "code",
   "execution_count": null,
   "id": "bb28b900",
   "metadata": {},
   "outputs": [],
   "source": [
    "G = nx.Graph()\n",
    "G.add_weighted_edges_from(\n",
    "    {(0, 1, 0.1), (0, 2, 0.5), (0, 3, 0.1), (1, 2, 0.1), (1, 3, 0.5), (2, 3, 0.1)}\n",
    ")\n",
    "graph_viz(G)"
   ]
  },
  {
   "cell_type": "code",
   "execution_count": null,
   "id": "cognitive-convert",
   "metadata": {},
   "outputs": [],
   "source": [
    "bqm = BQM(\"BINARY\")\n",
    "\n",
    "N = len(G.nodes)\n",
    "for i in range(N):\n",
    "    for j in range(N):\n",
    "        if i!=j:\n",
    "            for t in range(N-1):\n",
    "                bqm.add_quadratic(f\"x_{i}_{t}\", f\"x_{j}_{t+1}\", G[i][j][\"weight\"])\n",
    "\n",
    "            #Remember that we were assuming N=0 in the sum\n",
    "            bqm.add_quadratic(f\"x_{i}_{N-1}\", f\"x_{j}_{0}\", G[i][j][\"weight\"])\n",
    "       "
   ]
  },
  {
   "cell_type": "markdown",
   "id": "8146d26e",
   "metadata": {},
   "source": [
    "Note: In case your graph is not defined through networkx package but through a cost matrix `W`, you should replace `G[i][j][\"weight\"]` with `W[i][j]`."
   ]
  },
  {
   "cell_type": "markdown",
   "id": "hidden-finance",
   "metadata": {},
   "source": [
    "### Step 2 - Add the Constraints to the BQM"
   ]
  },
  {
   "cell_type": "markdown",
   "id": "durable-vaccine",
   "metadata": {},
   "source": [
    "Instead of the penalty method, BQM class allows us the functionality to add constraints directly.\n",
    "#### Constraint 1\n",
    "\n",
    "Only one city should be visited at a time.\n",
    "\n",
    "$$\\sum_{i=0}^{N-1}x_{i,t}=1 \\text{ for all }t$$"
   ]
  },
  {
   "cell_type": "markdown",
   "id": "6cac0730",
   "metadata": {},
   "source": [
    "We use the function `add_linear_equality_constraint` through which you can add linear equality constraints of the form \n",
    "\n",
    "$$c_1x_1+c_2x_2+\\dots+c_nx_n+c=0.$$\n",
    "\n",
    "The coefficients for the binary variables should be provided as a list\n",
    "\n",
    "$$[(x_1,c_1), (x_2,c_2), \\dots, (x_n,c_n)] $$\n",
    "\n",
    "followed by the constant term $c$ and the `lagrange_multiplier` parameter which corresponds to the penalty coefficient we have seen. \n",
    "\n",
    "Penalty method is implemented by Ocean automatically.\n",
    "\n",
    "Here is an example:"
   ]
  },
  {
   "cell_type": "code",
   "execution_count": null,
   "id": "failing-graduation",
   "metadata": {},
   "outputs": [],
   "source": [
    "l1 = 5\n",
    "for t in range(N):\n",
    "    c1 = [(f\"x_{i}_{t}\", 1) for i in range(N)] #coefficient list\n",
    "    bqm.add_linear_equality_constraint(c1, constant=-1, lagrange_multiplier=l1)"
   ]
  },
  {
   "cell_type": "markdown",
   "id": "forward-omega",
   "metadata": {},
   "source": [
    "#### Constraint 2\n",
    "\n",
    "Each city should be visited one and only once.\n",
    "\n",
    "$$\\sum_{t=0}^{N-1}x_{i,t}=1 \\text{ for all }i$$"
   ]
  },
  {
   "cell_type": "markdown",
   "id": "prepared-writer",
   "metadata": {},
   "source": [
    "### Task 2\n",
    "\n",
    "Add the second constraint to the BQM. Let langrange multiplier = 5."
   ]
  },
  {
   "cell_type": "code",
   "execution_count": null,
   "id": "inclusive-button",
   "metadata": {},
   "outputs": [],
   "source": [
    "\n",
    "#Your code here\n"
   ]
  },
  {
   "cell_type": "markdown",
   "id": "618d734b",
   "metadata": {},
   "source": [
    "[click here for solution](BQM_TSP_Solutions.ipynb#Task2)"
   ]
  },
  {
   "cell_type": "markdown",
   "id": "civic-counter",
   "metadata": {},
   "source": [
    "### Step 3 - Solve the BQM"
   ]
  },
  {
   "cell_type": "markdown",
   "id": "2af02733",
   "metadata": {},
   "source": [
    "We are going to use the `SimulatedAnnealingSampler` to solve the BQM."
   ]
  },
  {
   "cell_type": "code",
   "execution_count": null,
   "id": "wireless-patient",
   "metadata": {},
   "outputs": [],
   "source": [
    "sampler = SimulatedAnnealingSampler()\n",
    "sampleset = sampler.sample(bqm, num_reads=1000)\n",
    "print(sampleset.truncate(10))"
   ]
  },
  {
   "cell_type": "markdown",
   "id": "sapphire-quantum",
   "metadata": {},
   "source": [
    "### Step 4 -  Interpret and check the feasibility of the samples in the sampleset and find the optimum sample"
   ]
  },
  {
   "cell_type": "markdown",
   "id": "3c61f860",
   "metadata": {},
   "source": [
    "As a result of simulated annealing, we obtain a sample where some of the variables are set to 1 and some of the variables are set to 0. \n",
    "\n"
   ]
  },
  {
   "cell_type": "markdown",
   "id": "6ea1044d",
   "metadata": {},
   "source": [
    "Given a sample, we may want to check if it corresponds to a feasible solution or not, i.e. whether each city is visited exactly once and at each time point exactly one city is visited."
   ]
  },
  {
   "cell_type": "markdown",
   "id": "verbal-soldier",
   "metadata": {},
   "source": [
    "### Task 3\n",
    "\n",
    "Write a Python function named `is_sample_feasible` that takes as parameter a sample containing binary variables named `x_i_p` and their values and the number of cities, and returns True if the sample corresponds to a feasible path and false otherwise."
   ]
  },
  {
   "cell_type": "code",
   "execution_count": null,
   "id": "identical-float",
   "metadata": {},
   "outputs": [],
   "source": [
    "# Your code here\n",
    "\n"
   ]
  },
  {
   "cell_type": "code",
   "execution_count": null,
   "id": "white-opportunity",
   "metadata": {
    "scrolled": true
   },
   "outputs": [],
   "source": [
    "first_sample = sampleset.first.sample\n",
    "is_sample_feasible(first_sample,N)"
   ]
  },
  {
   "cell_type": "markdown",
   "id": "a7d9d34e",
   "metadata": {},
   "source": [
    "[click here for solution](BQM_TSP_Solutions.ipynb#Task3)"
   ]
  },
  {
   "cell_type": "markdown",
   "id": "9a1ea01d",
   "metadata": {},
   "source": [
    "In case the first sample is not feasible, we may search for another solution among the sampleset which is feasible. This can be accomplished by the following code:"
   ]
  },
  {
   "cell_type": "code",
   "execution_count": null,
   "id": "544c65be",
   "metadata": {},
   "outputs": [],
   "source": [
    "def best_solution(sampleset, N):\n",
    "    for sample, energy in sampleset.data(fields=[\"sample\", \"energy\"]):\n",
    "        if is_sample_feasible(sample,N):\n",
    "            return sample, energy\n",
    "    return None, None"
   ]
  },
  {
   "cell_type": "code",
   "execution_count": null,
   "id": "82c3a756",
   "metadata": {},
   "outputs": [],
   "source": [
    "best_solution(sampleset, N)"
   ]
  },
  {
   "cell_type": "markdown",
   "id": "certain-grill",
   "metadata": {},
   "source": [
    "---\n",
    "\n",
    "Suppose we verified that the sample is feasible. Then we would like to obtain the path it corresponds to.\n",
    "\n",
    "In the next Task, your goal is to convert a given sample into a path in the form of a list containing city numbers. \n",
    "\n",
    "### Task 4\n",
    "\n",
    "Write a Python function named `sample_to_path` that takes as parameter a sample containing binary variables named `x_i_p` and their values and the number of cities, and returns a list of cities corresponding to the sample. "
   ]
  },
  {
   "cell_type": "code",
   "execution_count": null,
   "id": "guilty-layer",
   "metadata": {},
   "outputs": [],
   "source": [
    "def sample_to_path(sample,N):\n",
    "    \n",
    "    #Your code here\n",
    "    \n",
    "    \n",
    "    return path"
   ]
  },
  {
   "cell_type": "code",
   "execution_count": null,
   "id": "continuous-economics",
   "metadata": {},
   "outputs": [],
   "source": [
    "path = sample_to_path(first_sample,N)\n",
    "print(path)"
   ]
  },
  {
   "cell_type": "markdown",
   "id": "49cc6093",
   "metadata": {},
   "source": [
    "[click here for solution](BQM_TSP_Solutions.ipynb#Task4)"
   ]
  },
  {
   "cell_type": "markdown",
   "id": "003ea746",
   "metadata": {},
   "source": [
    "---\n",
    "\n",
    "The energy value of the sample gives us the total cost of the tour, where it is 0.4 in this case."
   ]
  },
  {
   "cell_type": "code",
   "execution_count": null,
   "id": "1b9e1068",
   "metadata": {},
   "outputs": [],
   "source": [
    "sampleset.first.energy"
   ]
  },
  {
   "cell_type": "markdown",
   "id": "8158b4f8",
   "metadata": {},
   "source": [
    "Note that in case some constraint is violated, the energy value gives does not exactly give the cost, but cost + the penalty incurred."
   ]
  },
  {
   "cell_type": "markdown",
   "id": "adaptive-soviet",
   "metadata": {},
   "source": [
    "### Step 5 - Visualize the Output"
   ]
  },
  {
   "cell_type": "markdown",
   "id": "b661971e",
   "metadata": {},
   "source": [
    "Since we have obtained the path as a list of cities, we can use `tsp_viz` function to visualize the result."
   ]
  },
  {
   "cell_type": "code",
   "execution_count": null,
   "id": "manufactured-toilet",
   "metadata": {},
   "outputs": [],
   "source": [
    "tsp_viz(G, path)"
   ]
  },
  {
   "cell_type": "markdown",
   "id": "0658e629",
   "metadata": {},
   "source": [
    "### Task 5\n",
    "\n",
    "Write a function named `tsp_bqm` that takes as parameter a networkx graph G and the penalty coefficient and returns the binary quadratic model for the travelling salesmen problem."
   ]
  },
  {
   "cell_type": "code",
   "execution_count": null,
   "id": "cb16ac5d",
   "metadata": {},
   "outputs": [],
   "source": [
    "def tsp_bqm(G, P):\n",
    "    \n",
    "    #Your code here"
   ]
  },
  {
   "cell_type": "markdown",
   "id": "9020571a",
   "metadata": {},
   "source": [
    "[click here for solution](BQM_TSP_Solutions.ipynb#Task5)"
   ]
  },
  {
   "cell_type": "markdown",
   "id": "402d3028",
   "metadata": {},
   "source": [
    "### Task 6\n",
    "\n",
    "For the graph `G1` defined above, construct the bqm and find the optimal path.\n",
    "\n",
    "Don't forget to set the penalty coefficient to a suitable value."
   ]
  },
  {
   "cell_type": "markdown",
   "id": "2aa443a9",
   "metadata": {},
   "source": [
    "Let's define the graph again."
   ]
  },
  {
   "cell_type": "code",
   "execution_count": null,
   "id": "6dd1e131",
   "metadata": {},
   "outputs": [],
   "source": [
    "np.random.seed(45)\n",
    "G1 = nx.complete_graph(6)\n",
    "for u, v in G1.edges():\n",
    "    G1[u][v][\"weight\"] = np.random.randint(1, 5)\n",
    "N = len(G1.nodes)"
   ]
  },
  {
   "cell_type": "code",
   "execution_count": null,
   "id": "786215b0",
   "metadata": {},
   "outputs": [],
   "source": [
    "#Get bqm\n"
   ]
  },
  {
   "cell_type": "code",
   "execution_count": null,
   "id": "fe087635",
   "metadata": {},
   "outputs": [],
   "source": [
    "#Use simulated annealing and get sampleset\n"
   ]
  },
  {
   "cell_type": "code",
   "execution_count": null,
   "id": "5cf32c74",
   "metadata": {},
   "outputs": [],
   "source": [
    "#Get the first sample and check if it is feasible\n",
    "\n"
   ]
  },
  {
   "cell_type": "code",
   "execution_count": null,
   "id": "41488966",
   "metadata": {},
   "outputs": [],
   "source": [
    "#Convert sample into path\n",
    "\n"
   ]
  },
  {
   "cell_type": "code",
   "execution_count": null,
   "id": "b2cac582",
   "metadata": {},
   "outputs": [],
   "source": [
    "#Print the energy of the sample corresponding to the cost of the route\n",
    "\n"
   ]
  },
  {
   "cell_type": "code",
   "execution_count": null,
   "id": "7db0814f",
   "metadata": {
    "scrolled": true
   },
   "outputs": [],
   "source": [
    "#Visualize the result\n",
    "\n"
   ]
  },
  {
   "cell_type": "markdown",
   "id": "652145f4",
   "metadata": {},
   "source": [
    "[click here for solution](BQM_TSP_Solutions.ipynb#Task6)"
   ]
  },
  {
   "cell_type": "markdown",
   "id": "5a750045",
   "metadata": {},
   "source": [
    "## Formulating BQM from scratch (Optional)"
   ]
  },
  {
   "cell_type": "markdown",
   "id": "32512b55",
   "metadata": {},
   "source": [
    "Although we have built-in functions to define binary quadratic model through inequality and equality constraints, one can also define a BQM from scratch. Now we will see how we can accomplish this."
   ]
  },
  {
   "cell_type": "code",
   "execution_count": null,
   "id": "1d9cc14c",
   "metadata": {},
   "outputs": [],
   "source": [
    "G = nx.Graph()\n",
    "G.add_weighted_edges_from(\n",
    "    {(0, 1, 0.1), (0, 2, 0.5), (0, 3, 0.1), (1, 2, 0.1), (1, 3, 0.5), (2, 3, 0.1)}\n",
    ")\n",
    "graph_viz(G)"
   ]
  },
  {
   "cell_type": "markdown",
   "id": "370aaa6b",
   "metadata": {},
   "source": [
    "### Step 1 - Define QUBO\n",
    "\n",
    "Define the QUBO in dictionary, recalling the following:\n",
    "\n",
    "- Each $x_{i,t}$ appears with coefficient $-2P$.\n",
    "- For each fixed $t$, all possible 2-combinations of $x_{i,t}$ appears with coefficient $2P$.\n",
    "- For each fixed $i$, all possible 2-combinations of $x_{i,t}$ appears with coefficient $2P$.\n",
    "- Each $x_{i,t} x_{j,t+1}$ appears with the coeeficient $w_{ij}$.\n",
    "- There is a constant coefficient of $2NP$.\n"
   ]
  },
  {
   "cell_type": "code",
   "execution_count": null,
   "id": "0c2448c5",
   "metadata": {},
   "outputs": [],
   "source": [
    "d = {}\n",
    "P = 5\n",
    "\n",
    "N = len(G.nodes)\n",
    "\n",
    "for i in range(N):\n",
    "    for t in range(N):\n",
    "        d[(f\"x_{i}_{t}\",f\"x_{i}_{t}\")] = -2*P\n",
    "\n",
    "for t in range(N):            \n",
    "    for i in range(N):\n",
    "        for j in range(i+1,N):\n",
    "                d[(f\"x_{i}_{t}\",f\"x_{j}_{t}\")] = 2*P\n",
    "\n",
    "for t in range(N):            \n",
    "    for tp in range(t+1,N):\n",
    "        for i in range(N):\n",
    "            d[(f\"x_{i}_{t}\",f\"x_{i}_{tp}\")] = 2*P\n",
    "\n",
    "for i in range(N):\n",
    "    for j in range(N):\n",
    "        if i!=j:\n",
    "            d[(f\"x_{i}_{N-1}\",f\"x_{j}_{0}\")] = G[i][j][\"weight\"]\n",
    "            for t in range(N-1):\n",
    "                d[(f\"x_{i}_{t}\",f\"x_{j}_{t+1}\")] = G[i][j][\"weight\"]"
   ]
  },
  {
   "cell_type": "markdown",
   "id": "thrown-zambia",
   "metadata": {},
   "source": [
    "### Step 2 - Create BQM instance out of QUBO\n",
    "\n",
    "Create an instance of BQM from the QUBO dictionary. \n",
    "\n",
    "Don't forget to add the offset."
   ]
  },
  {
   "cell_type": "code",
   "execution_count": null,
   "id": "d8391c33",
   "metadata": {},
   "outputs": [],
   "source": [
    "bqm = BQM.from_qubo(d, offset = 2*N*P)"
   ]
  },
  {
   "cell_type": "markdown",
   "id": "afc3436d",
   "metadata": {},
   "source": [
    "### Step 3 - Solve the BQM \n",
    "\n",
    "Solve it using `SimulatedAnnealer()`. \n"
   ]
  },
  {
   "cell_type": "code",
   "execution_count": null,
   "id": "83ea7675",
   "metadata": {},
   "outputs": [],
   "source": [
    "sampler = SimulatedAnnealingSampler()\n",
    "sampleset = sampler.sample(bqm, num_reads=1000)\n",
    "print(sampleset.truncate(10))"
   ]
  },
  {
   "cell_type": "markdown",
   "id": "4bb55a31",
   "metadata": {},
   "source": [
    "You can also check the corresponding $Q$ matrix."
   ]
  },
  {
   "cell_type": "code",
   "execution_count": null,
   "id": "9b85f002",
   "metadata": {},
   "outputs": [],
   "source": [
    "matrix = bqm.to_numpy_matrix(bqm.variables)\n",
    "print(matrix)"
   ]
  },
  {
   "cell_type": "markdown",
   "id": "eligible-slave",
   "metadata": {},
   "source": [
    "### Step 4 -  Interpret and check the feasibility of the samples in the sampleset and find the optimum sample\n",
    "\n",
    "Obtain the optimum sample from the sampleset and visualize the result."
   ]
  },
  {
   "cell_type": "code",
   "execution_count": null,
   "id": "recognized-tribute",
   "metadata": {},
   "outputs": [],
   "source": [
    "first_sample = sampleset.first.sample\n",
    "is_sample_feasible(first_sample,N)"
   ]
  },
  {
   "cell_type": "code",
   "execution_count": null,
   "id": "85d2b74b",
   "metadata": {},
   "outputs": [],
   "source": [
    "path = sample_to_path(first_sample,N)\n",
    "print(path)"
   ]
  },
  {
   "cell_type": "markdown",
   "id": "8152292e",
   "metadata": {},
   "source": [
    "### Step 5 - Visualize the result"
   ]
  },
  {
   "cell_type": "code",
   "execution_count": null,
   "id": "3fd1870b",
   "metadata": {},
   "outputs": [],
   "source": [
    "tsp_viz(G, path)"
   ]
  }
 ],
 "metadata": {
  "interpreter": {
   "hash": "dc8a87a61792c4ac2acc11cc664369f408d2b18f7f59b6511835755cda2109ac"
  },
  "kernelspec": {
   "display_name": "Python 3",
   "language": "python",
   "name": "python3"
  },
  "language_info": {
   "codemirror_mode": {
    "name": "ipython",
    "version": 3
   },
   "file_extension": ".py",
   "mimetype": "text/x-python",
   "name": "python",
   "nbconvert_exporter": "python",
   "pygments_lexer": "ipython3",
   "version": "3.7.3"
  }
 },
 "nbformat": 4,
 "nbformat_minor": 5
}
