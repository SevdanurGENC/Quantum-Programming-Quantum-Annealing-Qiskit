{
 "cells": [
  {
   "cell_type": "markdown",
   "id": "279c8028",
   "metadata": {},
   "source": [
    "<table width = \"100%\">\n",
    "  <tr style=\"background-color:white;\">\n",
    "    <!-- QWorld Logo -->\n",
    "    <td style=\"text-align:left;width:200px;\"> \n",
    "        <a href=\"https://qworld.net/\" target=\"_blank\"><img src=\"../images/QWorld.png\"> </a></td>\n",
    "    <td style=\"text-align:right;vertical-align:bottom;font-size:16px;\"> \n",
    "        Prepared by <a href=\"https://gitlab.com/sabahuddin.ahmad\" target=\"_blank\"> Sabah Ud Din Ahmad </a> and Özlem Salehi</td>\n",
    "    </tr> \n",
    " </table>\n",
    " \n",
    "<hr>"
   ]
  },
  {
   "cell_type": "markdown",
   "id": "23de83a8",
   "metadata": {},
   "source": [
    "# <font color=\"blue\"> Solutions for </font> QUBO Formulation for Graph Coloring"
   ]
  },
  {
   "cell_type": "markdown",
   "id": "aa1e745c",
   "metadata": {},
   "source": [
    "<a id=\"task1\"></a>\n",
    "### Task 1\n",
    "\n",
    "Write down the mathematical expressions that account for the constraints of the graph coloring problem. \n",
    "\n",
    "Moreover, give the expressions of the equivalent penalties and the corresponding QUBO for formulation for the graph coloring problem.\n",
    "\n",
    "**Hint**: To get equivalent penalties, you can review the [Specific Cases](QUBO_PenaltyMethod.ipynb#cases) in the Penalty Method notebook."
   ]
  },
  {
   "cell_type": "markdown",
   "id": "7d524d04",
   "metadata": {},
   "source": [
    "<h3> Solution </h3>"
   ]
  },
  {
   "cell_type": "markdown",
   "id": "8596c87c",
   "metadata": {},
   "source": [
    "#### Constraints & Penalties\n",
    "\n",
    "Mathematically, we will express the given constraints and the corresponding penalties as follows:\n",
    "\n",
    "1. *Each node must be colored using exactly one color.*\n",
    "\n",
    "$$\\sum_{c=0}^{K-1} x_{i,c} = 1 \\;\\;\\;\\;\\;  i=0,\\dots,N-1 .$$\n",
    "\n",
    "The equivalent penalty is,\n",
    "$$P\\cdot \\sum_{i=0}^{N-1} \\left(1-\\sum_{c=0}^{K-1}x_{i,p}\\right)^2.$$\n",
    "\n",
    "2. *Adjacent nodes must be assigned different colors.*\n",
    "\n",
    "$$x_{i,c} + x_{j,c} \\leq 1 \\;\\;\\;\\;\\;  c=0,\\dots,K-1 .$$\n",
    "\n",
    "for all adjacent nodes $(i,j) \\in E$ in the graph. \n",
    "\n",
    "The equivalent penalty is,\n",
    "$$P\\cdot \\sum_{(i,j) \\in E} \\sum_{c=0}^{K-1} x_{i,c}x_{j,c}.$$"
   ]
  },
  {
   "cell_type": "markdown",
   "id": "c89baf03",
   "metadata": {},
   "source": [
    "#### QUBO for Graph Coloring\n",
    "\n",
    "Unlike TSP, there is no cost function we would like to minimize. Hence, the objective function will consist of only the penalty terms.\n",
    "\n",
    "$$H(x)=P_1 \\cdot \\sum_{i=0}^{N-1} \\left(1-\\sum_{c=0}^{K-1}x_{i,c}\\right)^2 + P_2 \\cdot \\sum_{(i,j) \\in E} \\sum_{c=0}^{K-1} x_{i,c}x_{j,c}$$\n",
    "\n",
    "Here, $P_1$ and $P_2$ are positive, scalar penalty parameters."
   ]
  },
  {
   "cell_type": "markdown",
   "id": "cdf69762",
   "metadata": {},
   "source": [
    "<a id=\"task2\"></a>\n",
    "\n",
    "### Task 2\n",
    "\n",
    "For the given graph, write down the open form of the QUBO expression for 2 colors $c=0,1$. Using the QUBO expression, obtain the corresponding $Q$ matrix.\n",
    "\n",
    "<img src=\"../images/gc_5.png\" width=\"200\">\n"
   ]
  },
  {
   "cell_type": "markdown",
   "id": "ef9bcf60",
   "metadata": {},
   "source": [
    "<h3> Solution </h3>"
   ]
  },
  {
   "cell_type": "markdown",
   "id": "0d87642c",
   "metadata": {},
   "source": [
    "QUBO expression for the given graph is,\n",
    "$$H(x)=\\sum_{i=0}^{2} \\left(1-\\sum_{c=0}^{1}x_{i,c}\\right)^2 + \\sum_{(i,j) \\in E} \\sum_{c=0}^{1} x_{i,c}x_{j,c}$$"
   ]
  },
  {
   "cell_type": "markdown",
   "id": "5e8a0164",
   "metadata": {},
   "source": [
    "Let's look at the first term.\n",
    "$$\\sum_{i=0}^{2} \\left(1-\\sum_{c=0}^{1}x_{i,c}\\right)^2$$\n",
    "Expanding the sum we get,\n",
    "\n",
    "\\begin{align*}\n",
    "&\\left(1-(x_{00}+x_{01})\\right)^2+\\left(1-(x_{10}+x_{11})\\right)^2+\\left(1-(x_{20}+x_{21})\\right)^2\\\\\n",
    "&=\\left(1-x_{00}-x_{01}\\right)^2+\\left(1-x_{10}-x_{11}\\right)^2+\\left(1-x_{20}-x_{21})\\right)^2 \\\\\n",
    "&= 1 + x_{0,0}^2 +x_{0,1}^2-2x_{0,0}-2x_{0,1}+ 2x_{0,0}x_{0,1} + 1 + x_{1,0}^2 +x_{1,1}^2-2x_{1,0}-2x_{1,1}+ 2x_{1,0}x_{1,1} + 1 + x_{2,0}^2 +x_{2,1}^2-2x_{2,0}-2x_{2,1}+ 2x_{2,0}x_{2,1} \\\\\n",
    "&= 3 - x_{0,0} - x_{0,1}  - x_{1,0}  - x_{1,1} -x_{2,0} - x_{2,1} + 2x_{0,0}x_{0,1}+ 2x_{1,0}x_{1,1} + 2x_{2,0}x_{2,1}\n",
    "\\end{align*}\n"
   ]
  },
  {
   "cell_type": "markdown",
   "id": "4f8ce3fe",
   "metadata": {},
   "source": [
    "Let's look at the second term.\n",
    "$$P\\sum_{(i,j) \\in E} \\sum_{c=0}^{1} x_{i,c}x_{j,c}.$$\n",
    "\n",
    "Here, $E=\\{(0,1),(0,2),(1,2)\\}$. We get $x_{0,0}x_{1,0}+x_{0,0}x_{2,0}+x_{1,0}x_{2,0}+x_{0,1}x_{1,1}+x_{0,1}x_{2,1}+x_{1,1}x_{2,1}.$\n"
   ]
  },
  {
   "cell_type": "markdown",
   "id": "cfdd20b8",
   "metadata": {},
   "source": [
    "\n",
    "\n",
    "Combining both we obtain, \n",
    "\n",
    "$$H(x) =3 - x_{0,0} - x_{0,1}  - x_{1,0}  - x_{1,1} -x_{2,0} - x_{2,1} + 2x_{0,0}x_{0,1}+ 2x_{1,0}x_{1,1} + 2x_{2,0}x_{2,1} +x_{0,0}x_{1,0}+x_{0,0}x_{2,0}+x_{1,0}x_{2,0}+x_{0,1}x_{1,1}+x_{0,1}x_{2,1}+x_{1,1}x_{2,1}.\n",
    "$$"
   ]
  },
  {
   "cell_type": "markdown",
   "id": "18fcc1a4",
   "metadata": {},
   "source": [
    "Now let us write down the $Q$ matrix assuming that the rows and columns are ordered in the following order:\n",
    "\n",
    "$$x_{0,0},x_{0,1},x_{1,0},x_{1,1},x_{2,0},x_{2,1}$$.\n",
    "\n"
   ]
  },
  {
   "cell_type": "markdown",
   "id": "15d6369a",
   "metadata": {},
   "source": [
    "$$Q=\n",
    "\\begin{pmatrix}\n",
    "       &x_{0,0}   &x_{0,1}    &x_{1,0}   &x_{1,1}    &x_{2,0}     & x_{2,1}   \\\\\n",
    "x_{0,0}& -1       & 2         &1         & 0         & 1          & 0         \\\\\n",
    "x_{0,1}& 0        & -1        &0         & 1         & 0          & 1         \\\\\n",
    "x_{1,0}& 0        & 0         &-1        & 2         & 1          & 0         \\\\\n",
    "x_{1,1}& 0        & 0         & 0        & -1        & 0          & 1         \\\\\n",
    "x_{2,0}& 0        & 0         & 0        & 0         & -1         & 2         \\\\\n",
    "x_{2,1}& 0        & 0         & 0        & 0         & 0          & -1        \\\\\n",
    "\\end{pmatrix}$$\n"
   ]
  },
  {
   "cell_type": "markdown",
   "id": "9433e988",
   "metadata": {},
   "source": [
    "<a id=\"task3\"></a>\n",
    "\n",
    "### Task 3\n",
    "\n",
    "Create the above $Q$ matrix using numpy. Use the `qubo_solver` defined previously to find the vector $x$ that minimizes $x^TQx$. What can you conclude about the result?"
   ]
  },
  {
   "cell_type": "markdown",
   "id": "cd580af1",
   "metadata": {},
   "source": [
    "### Solution"
   ]
  },
  {
   "cell_type": "code",
   "execution_count": 7,
   "id": "cae3b2af",
   "metadata": {},
   "outputs": [],
   "source": [
    "# Access the qubo_solver() function\n",
    "%run qubo_functions.py"
   ]
  },
  {
   "cell_type": "code",
   "execution_count": 10,
   "id": "87169d06",
   "metadata": {},
   "outputs": [],
   "source": [
    "import numpy as np\n",
    "\n",
    "# Define Q matrix\n",
    "Q = np.array([\n",
    "[-1,  2,  1,  0,  1,  0],\n",
    "[ 0, -1,  0,  1,  0,  1],\n",
    "[ 0,  0, -1,  2,  1,  0],\n",
    "[ 0,  0,  0, -1,  0,  1],  \n",
    "[ 0,  0,  0,  0, -1,  2], \n",
    "[ 0,  0,  0,  0,  0, -1],     \n",
    "]    \n",
    ")"
   ]
  },
  {
   "cell_type": "code",
   "execution_count": 11,
   "id": "aa244f4e",
   "metadata": {},
   "outputs": [
    {
     "data": {
      "text/plain": [
       "'The vector (1, 0, 1, 0, 0, 1) minimizes the objective function to a value of -2.'"
      ]
     },
     "execution_count": 11,
     "metadata": {},
     "output_type": "execute_result"
    }
   ],
   "source": [
    "qubo_solver(Q)"
   ]
  },
  {
   "cell_type": "markdown",
   "id": "9e7535bc",
   "metadata": {},
   "source": [
    "From the vector, we deduce that $x_{0,0}=1$ , $x_{1,0}=1$ and $x_{2,1}=1$. Hence the node 0 is colored with color 0, node 1 is colored with color 0 and node 2 is colored with color 1.\n",
    "\n",
    "Note that the offset is $3$ and the objective value is $3+-2=1$. This means there is a constraint which is violated and we have a penalty of +1. This is beacuse the nodes 0 and 1 are colored using the same color.\n",
    "\n",
    "We can conclude that there is no feasible solution using only 2 colors."
   ]
  },
  {
   "cell_type": "markdown",
   "id": "746849dc",
   "metadata": {},
   "source": [
    "The solution can be visualized as follows."
   ]
  },
  {
   "cell_type": "code",
   "execution_count": 3,
   "id": "58b23af5",
   "metadata": {},
   "outputs": [
    {
     "data": {
      "image/png": "[encoded data removed]",
      "text/plain": [
       "<Figure size 432x288 with 1 Axes>"
      ]
     },
     "metadata": {},
     "output_type": "display_data"
    }
   ],
   "source": [
    "import bqm_utils\n",
    "import networkx as nx\n",
    "\n",
    "G = nx.Graph()\n",
    "edges = [(0, 1), (1, 2), (2, 0)]\n",
    "G.add_edges_from(edges)\n",
    "\n",
    "coloring = {0: 1, 1: 0, 2: 1}\n",
    "\n",
    "bqm_utils.graph_coloring_viz(G, coloring)"
   ]
  },
  {
   "cell_type": "markdown",
   "id": "0e3e69fc",
   "metadata": {},
   "source": [
    "<a id=\"task4\"></a>\n",
    "\n",
    "### Task 4\n",
    "\n",
    "For the graph given in Task 2, create the $Q$ matrix using numpy using 3 colors $c\\in\\{0,1,2\\}$. Use the `qubo_solver` defined previously to find the vector $x$ that minimizes $x^TQx$. What can you conclude about the result?"
   ]
  },
  {
   "cell_type": "markdown",
   "id": "fa386862",
   "metadata": {},
   "source": [
    "### Solution"
   ]
  },
  {
   "cell_type": "markdown",
   "id": "28bff49d",
   "metadata": {},
   "source": [
    "First let us write down the $Q$ matrix assuming that the rows and columns are ordered in the following order:\n",
    "\n",
    "$$x_{0,0},x_{0,1},x_{0,2},x_{1,0},x_{1,1},x_{1,2},x_{2,0},x_{2,1},x_{2,2}$$.\n",
    "\n"
   ]
  },
  {
   "cell_type": "markdown",
   "id": "8363606c",
   "metadata": {},
   "source": [
    "$$Q=\n",
    "\\begin{pmatrix}\n",
    "       &x_{0,0}   &x_{0,1}    &x_{0,2}   &x_{1,0}    &x_{1,1}     &x_{1,2}    &x_{2,0}     &x_{2,1}   &x_{2,2}   \\\\\n",
    "x_{0,0}& -1       & 2         & 2        & 1         & 0          & 0         & 1          & 0        & 0        \\\\\n",
    "x_{0,1}& 0        & -1        & 2        & 0         & 1          & 0         & 0          & 1        & 0        \\\\\n",
    "x_{0,2}& 0        & 0         &-1        & 0         & 0          & 1         & 0          & 0        & 1        \\\\\n",
    "x_{1,0}& 0        & 0         & 0        & -1        & 2          & 2         & 1          & 0        & 0        \\\\\n",
    "x_{1,1}& 0        & 0         & 0        & 0         & -1         & 2         & 0          & 1        & 0        \\\\\n",
    "x_{1,2}& 0        & 0         & 0        & 0         & 0          &-1         & 0          & 0        & 1        \\\\\n",
    "x_{2,0}& 0        & 0         & 0        & 0         & 0          & 0         & -1         &  2       & 2        \\\\\n",
    "x_{2,1}& 0        & 0         & 0        & 0         & 0          & 0         & 0          & -1       & 2        \\\\\n",
    "x_{2,2}& 0        & 0         & 0        & 0         & 0          & 0         & 0          & 0        & -1        \\\\\n",
    "\\end{pmatrix}$$\n"
   ]
  },
  {
   "cell_type": "code",
   "execution_count": 2,
   "id": "1c71c20e",
   "metadata": {},
   "outputs": [],
   "source": [
    "# Access the qubo_solver() function\n",
    "%run qubo_functions.py"
   ]
  },
  {
   "cell_type": "code",
   "execution_count": 12,
   "id": "af87abb3",
   "metadata": {},
   "outputs": [],
   "source": [
    "import numpy as np\n",
    "\n",
    "# Define Q matrix\n",
    "Q = np.array([\n",
    "[-1,  2,  2,  1,  0,  0,  1,  0,   0],\n",
    "[ 0, -1,  2,  0,  1,  0,  0,  1,   0],\n",
    "[ 0,  0, -1,  0,  0,  1,  0,  0,   1],\n",
    "[ 0,  0,  0, -1,  2,  2,  1,  0,   0],  \n",
    "[ 0,  0,  0,  0, -1,  2,  0,  1,   0], \n",
    "[ 0,  0,  0,  0,  0, -1,  0,  0,   1],\n",
    "[ 0,  0,  0,  0,  0,  0, -1,  2,   2],\n",
    "[ 0,  0,  0,  0,  0,  0,  0, -1,   2],\n",
    "[ 0,  0,  0,  0,  0,  0,  0,  0,  -1],\n",
    "]    \n",
    ")"
   ]
  },
  {
   "cell_type": "code",
   "execution_count": 13,
   "id": "8c6687c1",
   "metadata": {},
   "outputs": [
    {
     "data": {
      "text/plain": [
       "'The vector (1, 0, 0, 0, 1, 0, 0, 0, 1) minimizes the objective function to a value of -3.'"
      ]
     },
     "execution_count": 13,
     "metadata": {},
     "output_type": "execute_result"
    }
   ],
   "source": [
    "qubo_solver(Q)"
   ]
  },
  {
   "cell_type": "markdown",
   "id": "7b277889",
   "metadata": {},
   "source": [
    "From the vector, we deduce that $x_{0,0}=1$ , $x_{1,1}=1$ and $x_{2,2}=1$. Hence the node 0 is colored with color 0, node 1 is colored with color 1 and node 2 is colored with color 2.\n",
    "\n",
    "Note that the offset is $3$ and the objective value is $3+-3=0$. This means there is no constraint which is violated.\n",
    "\n",
    "We can conclude that we obtained a feasible solution."
   ]
  },
  {
   "cell_type": "markdown",
   "id": "dd48142f",
   "metadata": {},
   "source": [
    "We can visualize the result as follows."
   ]
  },
  {
   "cell_type": "code",
   "execution_count": 4,
   "id": "68d8f202",
   "metadata": {
    "scrolled": true
   },
   "outputs": [
    {
     "data": {
      "image/png": "[encoded data removed]",
      "text/plain": [
       "<Figure size 432x288 with 1 Axes>"
      ]
     },
     "metadata": {},
     "output_type": "display_data"
    }
   ],
   "source": [
    "import bqm_utils\n",
    "import networkx as nx\n",
    "\n",
    "G = nx.Graph()\n",
    "edges = [(0, 1), (1, 2), (2, 0)]\n",
    "G.add_edges_from(edges)\n",
    "\n",
    "coloring = {0: 1, 1: 0, 2: 2}\n",
    "\n",
    "bqm_utils.graph_coloring_viz(G, coloring)"
   ]
  },
  {
   "cell_type": "markdown",
   "id": "2294e79d",
   "metadata": {},
   "source": [
    "<a id=\"task5\"></a>\n",
    "\n",
    "### Task 5 (On paper)\n",
    "\n",
    "Suppose that you are given the following graph and we have 3 colors, $c \\in \\{0,1,2\\}$ corresponding to  corresponding to colors yellow, green and blue respectively. Note that node 1 is colored yellow. \n",
    "\n",
    "For which binary variables you can conclude that they are either 0 or 1 with certainty? List all such variables.\n",
    "\n",
    "<img src=\"../images/gc_2.png\" width=\"200\">"
   ]
  },
  {
   "cell_type": "markdown",
   "id": "ae89af92",
   "metadata": {},
   "source": [
    "### Solution\n",
    "\n",
    "To start with, we know that $x_{1,0}=1$. Hence, node 1 can not be colored using any of the other colors and we conclude\n",
    "\n",
    "$$x_{1,1}=x_{1,2}=0 $$.\n",
    "\n",
    "We can also conclude that neigbors of node 1 can not be colored using yellow which yields\n",
    "\n",
    "$$x_{0,0}=x_{2,0}=x_{3,0}=x_{4,0}=0.$$"
   ]
  },
  {
   "cell_type": "markdown",
   "id": "056c4de1",
   "metadata": {},
   "source": [
    "<a id=\"task6\"></a>\n",
    "### Task 6\n",
    "\n",
    "Using the knowledge from Task 5, create the $Q$ matrix for the given graph using numpy using 3 colors $c\\in \\{0,1,2\\}$. Use the `qubo_solver` defined previously to find the vector $x$ that minimizes $x^TQx$. What can you conclude about the result?"
   ]
  },
  {
   "cell_type": "markdown",
   "id": "16de2193",
   "metadata": {},
   "source": [
    "<h3> Solution </h3>"
   ]
  },
  {
   "cell_type": "markdown",
   "id": "f203ebfc",
   "metadata": {},
   "source": [
    "Note that we will not need the variables $,x_{0,0},x_{1,0},x_{1,1},x_{1,2},x_{2,0},x_{3,0},x_{4,0}$ as their values are already set.\n",
    "\n",
    "Let us write down the $Q$ matrix assuming that the rows and columns are ordered in the following order:\n",
    "\n",
    "$$x_{0,1},x_{0,2},x_{2,1},x_{2,2},x_{3,1},x_{3,2},x_{4,1},x_{4,2}$$.\n",
    "\n"
   ]
  },
  {
   "cell_type": "markdown",
   "id": "eea0b44e",
   "metadata": {},
   "source": [
    "We obtain the following $Q$ matrix:\n",
    "\n",
    "$$Q = \\begin{pmatrix}\n",
    "        &x_{0,1}   &x_{0,2}    &x_{2,1}   &x_{2,2}    &x_{3,1}     &x_{3,2}    &x_{4,1}     &x_{4,2} \\\\\n",
    "x_{0,1} &-1 & 2 & 0 & 0 & 0 & 0 & 1 & 0\\\\\n",
    "x_{0,2}&0 & -1 & 0 & 0 & 0 & 0 & 0 & 1\\\\\n",
    "x_{2,1}&0 & 0 & -1 & 2 & 1 & 0 & 0 & 0\\\\\n",
    "x_{2,2}&0 & 0 & 0 & -1 & 0 & 1 & 0 & 0\\\\\n",
    "x_{3,1}&0 & 0 & 0 & 0 & -1 & 2 & 1 & 0\\\\\n",
    "x_{3,2}&0 & 0 & 0 & 0 & 0 & -1 & 0 & 1\\\\\n",
    "x_{4,1}&0 & 0 & 0 & 0 & 0 & 0 & -1 & 2\\\\\n",
    "x_{3,1}&0 & 0 & 0 & 0 & 0 & 0 & 0 & -1\\\\\n",
    "\\end{pmatrix}$$"
   ]
  },
  {
   "cell_type": "code",
   "execution_count": 16,
   "id": "63ec9fd1",
   "metadata": {},
   "outputs": [],
   "source": [
    "# Access the qubo_solver() function\n",
    "%run qubo_functions.py"
   ]
  },
  {
   "cell_type": "code",
   "execution_count": 17,
   "id": "8edc9bb6",
   "metadata": {},
   "outputs": [],
   "source": [
    "import numpy as np\n",
    "\n",
    "# Define Q matrix\n",
    "Q = np.array([\n",
    "[-1,  2,  0,  0,  0,  0,  1,  0],\n",
    "[ 0, -1,  0,  0,  0,  0,  0,  1],\n",
    "[ 0,  0, -1,  2,  1,  0,  0,  0],\n",
    "[ 0,  0,  0, -1,  0,  1,  0,  0],  \n",
    "[ 0,  0,  0,  0, -1,  2,  1,  0], \n",
    "[ 0,  0,  0,  0,  0, -1,  0,  1],\n",
    "[ 0,  0,  0,  0,  0,  0, -1,  2],\n",
    "[ 0,  0,  0,  0,  0,  0,  0, -1],\n",
    "]    \n",
    ")"
   ]
  },
  {
   "cell_type": "code",
   "execution_count": 18,
   "id": "f82e9235",
   "metadata": {},
   "outputs": [
    {
     "data": {
      "text/plain": [
       "'The vector (1, 0, 0, 1, 1, 0, 0, 1) minimizes the objective function to a value of -4.'"
      ]
     },
     "execution_count": 18,
     "metadata": {},
     "output_type": "execute_result"
    }
   ],
   "source": [
    "qubo_solver(Q)"
   ]
  },
  {
   "cell_type": "markdown",
   "id": "32d05b7b",
   "metadata": {},
   "source": [
    "$$x_{0,1},x_{0,2},x_{2,1},x_{2,2},x_{3,1},x_{3,2},x_{4,1},x_{4,2}$$."
   ]
  },
  {
   "cell_type": "markdown",
   "id": "44308e7e",
   "metadata": {},
   "source": [
    "From the vector, we deduce that $x_{0,1}=1$ , $x_{2,2}=1$, $x_{3,1}=1$ and $x_{4,2}=1$. \n",
    "\n",
    "Hence the node 0 is colored with color 1, node 2 is colored with color 2, node 3 is colored with color 1 and node 4 is colored with color 2.\n",
    "\n",
    "Note that the offset is $4$ and the objective value is $4+-4=0$. This means there is no constraint which is violated.\n",
    "\n",
    "We can conclude that we obtained a feasible solution."
   ]
  },
  {
   "cell_type": "markdown",
   "id": "8c478088",
   "metadata": {},
   "source": [
    "We can visualize the result as follows, noting that colors 0, 1, 2 correspond to yellow, green and blue respectively."
   ]
  },
  {
   "cell_type": "code",
   "execution_count": 20,
   "id": "383f9d53",
   "metadata": {
    "scrolled": true
   },
   "outputs": [
    {
     "data": {
      "image/png": "[encoded data removed]",
      "text/plain": [
       "<Figure size 432x288 with 1 Axes>"
      ]
     },
     "metadata": {},
     "output_type": "display_data"
    }
   ],
   "source": [
    "import bqm_utils\n",
    "import networkx as nx\n",
    "\n",
    "G = nx.Graph()\n",
    "edges = [(0, 1), (0,4), (1,2), (1,3), (1,4), (2,3), (3,4)]\n",
    "G.add_edges_from(edges)\n",
    "\n",
    "coloring = {0: 'G', 1: 'Y', 2: 'B', 3: 'G', 4: 'B'}\n",
    "\n",
    "bqm_utils.graph_coloring_viz(G, coloring)"
   ]
  }
 ],
 "metadata": {
  "kernelspec": {
   "display_name": "Python 3",
   "language": "python",
   "name": "python3"
  },
  "language_info": {
   "codemirror_mode": {
    "name": "ipython",
    "version": 3
   },
   "file_extension": ".py",
   "mimetype": "text/x-python",
   "name": "python",
   "nbconvert_exporter": "python",
   "pygments_lexer": "ipython3",
   "version": "3.7.3"
  },
  "latex_envs": {
   "LaTeX_envs_menu_present": true,
   "autoclose": true,
   "autocomplete": true,
   "bibliofile": "biblio.bib",
   "cite_by": "apalike",
   "current_citInitial": 1,
   "eqLabelWithNumbers": true,
   "eqNumInitial": 1,
   "hotkeys": {
    "equation": "Ctrl-E",
    "itemize": "Ctrl-I"
   },
   "labels_anchors": false,
   "latex_user_defs": false,
   "report_style_numbering": false,
   "user_envs_cfg": false
  },
  "toc": {
   "base_numbering": 1,
   "nav_menu": {},
   "number_sections": true,
   "sideBar": true,
   "skip_h1_title": false,
   "title_cell": "Table of Contents",
   "title_sidebar": "Contents",
   "toc_cell": false,
   "toc_position": {},
   "toc_section_display": true,
   "toc_window_display": false
  }
 },
 "nbformat": 4,
 "nbformat_minor": 5
}
