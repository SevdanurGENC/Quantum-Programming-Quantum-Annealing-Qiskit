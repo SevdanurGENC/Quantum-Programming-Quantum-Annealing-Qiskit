{
 "cells": [
  {
   "cell_type": "markdown",
   "metadata": {},
   "source": [
    "<table width = \"100%\">\n",
    "  <tr style=\"background-color:white;\">\n",
    "    <!-- QWorld Logo -->\n",
    "    <td style=\"text-align:left;width:200px;\"> \n",
    "        <img src=\"../images/QWorld.png\"> </td>\n",
    "    <td style=\"text-align:right;vertical-align:bottom;font-size:16px;\"> \n",
    "        Prepared by <a href=\"https://gitlab.com/pjr1363\" target=\"_blank\"> Paul Joseph Robin </a></td>\n",
    "    </tr> \n",
    " </table>\n",
    " \n",
    "<hr>"
   ]
  },
  {
   "cell_type": "markdown",
   "metadata": {},
   "source": [
    "# <font color=\"blue\"> Solutions for </font> Higher Order Binary Optimization "
   ]
  },
  {
   "cell_type": "markdown",
   "metadata": {},
   "source": [
    "<a id=\"Task1\"></a>\n",
    "\n",
    "### Task 1\n",
    "Consider the following higher order problem and reformulate it as a QUBO problem:\n",
    "\n",
    "$$f (x_1, x_2, x_3) = 5x_1 + 7x_1 x_2 - 3x_1 x_2 x_3.$$\n"
   ]
  },
  {
   "cell_type": "markdown",
   "metadata": {},
   "source": [
    "### Solution\n",
    "\n",
    "Let $y_{23}$ := $x_2 x_3$. So by Rosenberg's method, the quadratic objective function becomes\n",
    "\n",
    "$$f (x_1, x_2, x_3, y_{23}) = 5x_1 + 7x_1 x_2 - 3x_1 y_{23} + C \\cdot (x_2x_3 - 2x_2y_{23} - 2x_3 y_{23} + 3y_{23} ).$$ \n"
   ]
  },
  {
   "cell_type": "markdown",
   "metadata": {},
   "source": [
    "<a id=\"Task2\"></a>\n",
    "\n",
    "### Task 2\n",
    "Consider the following higher order problem and reformulate it as a QUBO problem:\n",
    "\n",
    "$$f (x_1, x_2, x_3, x_4) = 5x_1 + 7x_1 x_2 + 2x_1x_2x_3 - 3x_1 x_2 x_3 x_4.$$\n"
   ]
  },
  {
   "cell_type": "markdown",
   "metadata": {},
   "source": [
    "### Solution\n",
    "\n",
    "Let $y_{12} := x_1 x_2$. So by Rosenberg's method, the quadratic objective function becomes\n",
    "\n",
    "$$f (x_1, x_2, x_3, x_4, y_{12}) = 5x_1 + 7x_1 x_2 + 2y_{12}x_3 - 3y_{12}x_3x_4 + C (x_1x_2 - 2x_1y_{12} - 2x_2 y_{12} + 3y_{12} ).$$ \n",
    "\n",
    "Note that we are not done since we still have a term of degree 3.\n",
    "\n",
    "Let $y_{34} := x_3 x_4$. We get\n",
    "\n",
    "$$f (x_1, x_2, x_3, x_4, y_{12}, y_{34}) = 5x_1 + 7x_1 x_2 + 2y_{12}x_3 - 3y_{12}y_{34} + C \\cdot (x_1x_2 - 2x_1y_{12} - 2x_2 y_{12} + 3y_{12}) + C' \\cdot (x_3x_4 - 2x_3y_{34} - 2x_3 y_{34} + 3y_{34}).$$ \n"
   ]
  },
  {
   "cell_type": "markdown",
   "metadata": {},
   "source": [
    "<a id=\"Task3\"></a>\n",
    "### Task 3"
   ]
  },
  {
   "cell_type": "markdown",
   "metadata": {},
   "source": [
    "\n",
    "Given the following Max 3-SAT Formulation for $4$ literals and $2$ clauses:\n",
    "$$(x_1 \\vee x_2 \\vee x_3) \\wedge (x_1 \\vee x_4 \\vee \\overline{x_3})$$\n",
    "\n",
    "Obtain the HOBO formulation and quadratize. \n",
    "\n",
    "<a href=\"Higher_Order_Model_&_Quadratization_Solutions.ipynb#Task3\">click here for solution</a>"
   ]
  },
  {
   "cell_type": "markdown",
   "metadata": {},
   "source": [
    "### Solution\n",
    "\n",
    "The SAT problem in CNF notation is:\n",
    "$$(x_1 \\vee x_2 \\vee x_3) \\wedge (x_1 \\vee x_4 \\vee \\overline{x_3})$$\n",
    "\n",
    "Converting \n",
    "$$\\text{max.}\\quad (x_1 + x_2 + x_3 -x_1x_2 - x_2x_3 - x_1x_3 +x_1x_2x_3) + (1 - x_3 + x_1x_3 + x_4x_3 - x_1x_3x_4) $$\n",
    "\n",
    "Substitute $y_{13}$ := $x_1 x_3$. The quadratic objective function becomes\n",
    "$$\\text{max.}\\quad (1 + x_1 + x_2 -x_1x_2 - x_2x_3 + x_4x_3 - y_{13}x_4 + y_{13}x_2) - C (x_1x_3 - 2x_1y_{13} - 2x_3 y_{13} + 3y_{13} ) $$\n",
    "\n",
    "\n",
    "<!--Expressing this in the matrix formulation $$\\max \\quad 1 + {x^T Q x}$$\n",
    "\n",
    "$$\n",
    "Q = \\begin{bmatrix}\n",
    "        1   &  -1  &  -C  &  0 & 2C \\\\ \n",
    "        0   &  1  &  -1   &  0 & 1 \\\\ \n",
    "        0   &  0   &  0  &  1 & 2C \\\\ \n",
    "        0   &  0   &  0   &  0 & -1\\\\ \n",
    "        0   &  0   &  0   &  0 & -3C\n",
    "    \\end{bmatrix}\n",
    "$$\n",
    "\n",
    "Converting to the equivalent minimization problem,\n",
    "$$\\min \\quad -1 - {x^T Q x}$$\n",
    "-->\n",
    "\n"
   ]
  },
  {
   "cell_type": "markdown",
   "metadata": {},
   "source": [
    "**In Max 3-SAT problems, the value of the objective function indicates the number of satisfied clauses. In the above task, values 1 and 2 would represent one and two satisfied clauses respectively**.\n",
    "\n",
    "It can be verified that $X := (0, 1, 0, 1)$ with $y_{23} = 0$ and $X := (0, 1, 1, 0)$ with $y_{23} = 0$, would return the value of objective function to be 2 and 1 respectively."
   ]
  }
 ],
 "metadata": {
  "kernelspec": {
   "display_name": "Python 3",
   "language": "python",
   "name": "python3"
  },
  "language_info": {
   "codemirror_mode": {
    "name": "ipython",
    "version": 3
   },
   "file_extension": ".py",
   "mimetype": "text/x-python",
   "name": "python",
   "nbconvert_exporter": "python",
   "pygments_lexer": "ipython3",
   "version": "3.7.3"
  }
 },
 "nbformat": 4,
 "nbformat_minor": 4
}
